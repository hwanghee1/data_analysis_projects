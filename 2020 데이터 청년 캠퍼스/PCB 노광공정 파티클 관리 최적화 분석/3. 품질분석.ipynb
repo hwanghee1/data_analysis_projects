{
 "cells": [
  {
   "cell_type": "markdown",
   "metadata": {},
   "source": [
    "# pakage import"
   ]
  },
  {
   "cell_type": "code",
   "execution_count": 173,
   "metadata": {},
   "outputs": [],
   "source": [
    "import numpy as np\n",
    "import matplotlib.pyplot as plt\n",
    "import pandas as pd\n",
    "import os\n",
    "import seaborn as sns\n",
    "import warnings\n",
    "import datetime\n",
    "import scipy\n",
    "from scipy import stats\n",
    "from statsmodels.formula.api import ols\n",
    "from statsmodels.stats.anova import anova_lm\n",
    "\n",
    "warnings.filterwarnings(action = \"ignore\")\n",
    "from matplotlib import font_manager, rc\n",
    "font_name = font_manager.FontProperties(fname=\"c:/Windows/Fonts/malgun.ttf\").get_name()\n",
    "rc('font', family=font_name)\n",
    "plt.rcParams[\"axes.unicode_minus\"] = False"
   ]
  },
  {
   "cell_type": "markdown",
   "metadata": {},
   "source": [
    "# 데이터 탐색 및 전처리"
   ]
  },
  {
   "cell_type": "code",
   "execution_count": 174,
   "metadata": {},
   "outputs": [],
   "source": [
    "defect_1 = pd.read_csv(\"./data/defect/defect_1.csv\",encoding = 'euc-kr')\n",
    "defect_2 = pd.read_csv(\"./data/defect/defect_2.csv\",encoding = 'euc-kr')\n",
    "defect_4 = pd.read_csv(\"./data/defect/defect_4.csv\",encoding = 'euc-kr')\n",
    "defect_5 = pd.read_csv(\"./data/defect/defect_5.csv\",encoding = 'euc-kr')\n",
    "light_expose_1 = pd.read_csv(\"./preprocessed/노광1호기130_.csv\",index_col = 0)\n",
    "light_expose_2 = pd.read_csv(\"./preprocessed/노광2호기131_.csv\",index_col = 0)\n",
    "light_expose_4 = pd.read_csv(\"./preprocessed/노광4호기132_.csv\",index_col = 0)\n",
    "light_expose_5 = pd.read_csv(\"./preprocessed/노광5호기133_.csv\",index_col = 0)"
   ]
  },
  {
   "cell_type": "code",
   "execution_count": 175,
   "metadata": {},
   "outputs": [
    {
     "data": {
      "text/plain": [
       "일자           0\n",
       "총 검사 수량     34\n",
       "총 불량 수량     34\n",
       "오픈          34\n",
       "슬릿(상)       45\n",
       "슬릿(하)       34\n",
       "쇼트          35\n",
       "Yield(%)    34\n",
       "dtype: int64"
      ]
     },
     "execution_count": 175,
     "metadata": {},
     "output_type": "execute_result"
    }
   ],
   "source": [
    "defect_1.isnull().sum()"
   ]
  },
  {
   "cell_type": "code",
   "execution_count": 176,
   "metadata": {},
   "outputs": [
    {
     "data": {
      "text/plain": [
       "일자           0\n",
       "총 검사 수량     34\n",
       "총 불량 수량     34\n",
       "오픈          35\n",
       "슬릿(상)       62\n",
       "슬릿(하)       41\n",
       "쇼트          38\n",
       "Yield(%)    34\n",
       "dtype: int64"
      ]
     },
     "execution_count": 176,
     "metadata": {},
     "output_type": "execute_result"
    }
   ],
   "source": [
    "defect_2.isnull().sum()"
   ]
  },
  {
   "cell_type": "code",
   "execution_count": 177,
   "metadata": {},
   "outputs": [
    {
     "data": {
      "text/plain": [
       "일자           0\n",
       "총 검사 수량     73\n",
       "총 불량 수량     73\n",
       "오픈          76\n",
       "슬릿(상)       98\n",
       "슬릿(하)       79\n",
       "쇼트          77\n",
       "Yield(%)    73\n",
       "dtype: int64"
      ]
     },
     "execution_count": 177,
     "metadata": {},
     "output_type": "execute_result"
    }
   ],
   "source": [
    "defect_4.isnull().sum()"
   ]
  },
  {
   "cell_type": "code",
   "execution_count": 178,
   "metadata": {},
   "outputs": [
    {
     "data": {
      "text/plain": [
       "일자           0\n",
       "총 검사 수량     10\n",
       "총 불량 수량     10\n",
       "오픈          10\n",
       "슬릿(상)       11\n",
       "슬릿(하)       10\n",
       "쇼트          10\n",
       "Yield(%)    10\n",
       "dtype: int64"
      ]
     },
     "execution_count": 178,
     "metadata": {},
     "output_type": "execute_result"
    }
   ],
   "source": [
    "defect_5.isnull().sum()"
   ]
  },
  {
   "cell_type": "code",
   "execution_count": 179,
   "metadata": {},
   "outputs": [
    {
     "data": {
      "text/plain": [
       "일자           object\n",
       "총 검사 수량     float64\n",
       "총 불량 수량     float64\n",
       "오픈          float64\n",
       "슬릿(상)       float64\n",
       "슬릿(하)       float64\n",
       "쇼트          float64\n",
       "Yield(%)    float64\n",
       "dtype: object"
      ]
     },
     "execution_count": 179,
     "metadata": {},
     "output_type": "execute_result"
    }
   ],
   "source": [
    "defect_5.dtypes"
   ]
  },
  {
   "cell_type": "code",
   "execution_count": 180,
   "metadata": {},
   "outputs": [],
   "source": [
    "defect_columns = [\"오픈\",\"슬릿(상)\",\"슬릿(하)\",\"쇼트\"]"
   ]
  },
  {
   "cell_type": "code",
   "execution_count": 181,
   "metadata": {},
   "outputs": [],
   "source": [
    "def make_time_col(df):\n",
    "    splited_list = list(map(lambda x: x.split(),df[\"일자\"]))\n",
    "    date_list = list(map(lambda x: datetime.datetime(2020,int(x[0][:2]),int(x[1][:2])),splited_list))\n",
    "    df[\"일자\"] = date_list\n",
    "    return df"
   ]
  },
  {
   "cell_type": "code",
   "execution_count": 182,
   "metadata": {},
   "outputs": [],
   "source": [
    "reason_list = [\"오픈\",\"슬릿(상)\",\"슬릿(하)\",\"쇼트\"]\n",
    "def preprocess(df):\n",
    "    df = df.dropna(subset = [\"총 검사 수량\"])\n",
    "    df = df.fillna(0)\n",
    "    for col in reason_list:\n",
    "        df[col] = df[col] * df[\"총 검사 수량\"] / 1000000\n",
    "    df[\"defect_from_light\"] = df[reason_list].sum(axis = 1)\n",
    "    df[\"pure_yield\"] = (1- (df[\"defect_from_light\"]/df[\"총 검사 수량\"]))*100\n",
    "    return make_time_col(df)"
   ]
  },
  {
   "cell_type": "code",
   "execution_count": 183,
   "metadata": {},
   "outputs": [],
   "source": [
    "defect_1 = preprocess(defect_1)\n",
    "defect_2 = preprocess(defect_2)\n",
    "defect_4 = preprocess(defect_4)\n",
    "defect_5 = preprocess(defect_5)"
   ]
  },
  {
   "cell_type": "code",
   "execution_count": 184,
   "metadata": {},
   "outputs": [
    {
     "data": {
      "text/html": [
       "<div>\n",
       "<style scoped>\n",
       "    .dataframe tbody tr th:only-of-type {\n",
       "        vertical-align: middle;\n",
       "    }\n",
       "\n",
       "    .dataframe tbody tr th {\n",
       "        vertical-align: top;\n",
       "    }\n",
       "\n",
       "    .dataframe thead th {\n",
       "        text-align: right;\n",
       "    }\n",
       "</style>\n",
       "<table border=\"1\" class=\"dataframe\">\n",
       "  <thead>\n",
       "    <tr style=\"text-align: right;\">\n",
       "      <th></th>\n",
       "      <th>일자</th>\n",
       "      <th>총 검사 수량</th>\n",
       "      <th>총 불량 수량</th>\n",
       "      <th>오픈</th>\n",
       "      <th>슬릿(상)</th>\n",
       "      <th>슬릿(하)</th>\n",
       "      <th>쇼트</th>\n",
       "      <th>Yield(%)</th>\n",
       "      <th>defect_from_light</th>\n",
       "      <th>pure_yield</th>\n",
       "    </tr>\n",
       "  </thead>\n",
       "  <tbody>\n",
       "    <tr>\n",
       "      <th>0</th>\n",
       "      <td>2020-04-01</td>\n",
       "      <td>10368.0</td>\n",
       "      <td>65.0</td>\n",
       "      <td>11.000448</td>\n",
       "      <td>0.995328</td>\n",
       "      <td>6.998400</td>\n",
       "      <td>2.001024</td>\n",
       "      <td>99.37</td>\n",
       "      <td>20.995200</td>\n",
       "      <td>99.7975</td>\n",
       "    </tr>\n",
       "    <tr>\n",
       "      <th>3</th>\n",
       "      <td>2020-04-04</td>\n",
       "      <td>39636.0</td>\n",
       "      <td>221.0</td>\n",
       "      <td>8.006472</td>\n",
       "      <td>4.003236</td>\n",
       "      <td>12.009708</td>\n",
       "      <td>17.003844</td>\n",
       "      <td>99.44</td>\n",
       "      <td>41.023260</td>\n",
       "      <td>99.8965</td>\n",
       "    </tr>\n",
       "    <tr>\n",
       "      <th>21</th>\n",
       "      <td>2020-04-22</td>\n",
       "      <td>10696.0</td>\n",
       "      <td>161.0</td>\n",
       "      <td>10.995488</td>\n",
       "      <td>0.994728</td>\n",
       "      <td>6.995184</td>\n",
       "      <td>4.995032</td>\n",
       "      <td>98.49</td>\n",
       "      <td>23.980432</td>\n",
       "      <td>99.7758</td>\n",
       "    </tr>\n",
       "    <tr>\n",
       "      <th>22</th>\n",
       "      <td>2020-04-23</td>\n",
       "      <td>10752.0</td>\n",
       "      <td>160.0</td>\n",
       "      <td>6.999552</td>\n",
       "      <td>0.000000</td>\n",
       "      <td>14.999040</td>\n",
       "      <td>20.998656</td>\n",
       "      <td>98.51</td>\n",
       "      <td>42.997248</td>\n",
       "      <td>99.6001</td>\n",
       "    </tr>\n",
       "    <tr>\n",
       "      <th>23</th>\n",
       "      <td>2020-04-24</td>\n",
       "      <td>16128.0</td>\n",
       "      <td>285.0</td>\n",
       "      <td>6.999552</td>\n",
       "      <td>5.999616</td>\n",
       "      <td>6.999552</td>\n",
       "      <td>15.998976</td>\n",
       "      <td>98.23</td>\n",
       "      <td>35.997696</td>\n",
       "      <td>99.7768</td>\n",
       "    </tr>\n",
       "    <tr>\n",
       "      <th>...</th>\n",
       "      <td>...</td>\n",
       "      <td>...</td>\n",
       "      <td>...</td>\n",
       "      <td>...</td>\n",
       "      <td>...</td>\n",
       "      <td>...</td>\n",
       "      <td>...</td>\n",
       "      <td>...</td>\n",
       "      <td>...</td>\n",
       "      <td>...</td>\n",
       "    </tr>\n",
       "    <tr>\n",
       "      <th>140</th>\n",
       "      <td>2020-08-19</td>\n",
       "      <td>21224.0</td>\n",
       "      <td>1279.0</td>\n",
       "      <td>17.000424</td>\n",
       "      <td>40.007240</td>\n",
       "      <td>33.003320</td>\n",
       "      <td>60.000248</td>\n",
       "      <td>93.97</td>\n",
       "      <td>150.011232</td>\n",
       "      <td>99.2932</td>\n",
       "    </tr>\n",
       "    <tr>\n",
       "      <th>141</th>\n",
       "      <td>2020-08-20</td>\n",
       "      <td>62976.0</td>\n",
       "      <td>1220.0</td>\n",
       "      <td>56.993280</td>\n",
       "      <td>73.996800</td>\n",
       "      <td>55.985664</td>\n",
       "      <td>46.980096</td>\n",
       "      <td>98.06</td>\n",
       "      <td>233.955840</td>\n",
       "      <td>99.6285</td>\n",
       "    </tr>\n",
       "    <tr>\n",
       "      <th>142</th>\n",
       "      <td>2020-08-21</td>\n",
       "      <td>69840.0</td>\n",
       "      <td>1170.0</td>\n",
       "      <td>40.996080</td>\n",
       "      <td>16.971120</td>\n",
       "      <td>44.976960</td>\n",
       "      <td>91.001520</td>\n",
       "      <td>98.32</td>\n",
       "      <td>193.945680</td>\n",
       "      <td>99.7223</td>\n",
       "    </tr>\n",
       "    <tr>\n",
       "      <th>143</th>\n",
       "      <td>2020-08-22</td>\n",
       "      <td>36032.0</td>\n",
       "      <td>725.0</td>\n",
       "      <td>31.996416</td>\n",
       "      <td>6.990208</td>\n",
       "      <td>19.997760</td>\n",
       "      <td>43.995072</td>\n",
       "      <td>97.99</td>\n",
       "      <td>102.979456</td>\n",
       "      <td>99.7142</td>\n",
       "    </tr>\n",
       "    <tr>\n",
       "      <th>144</th>\n",
       "      <td>2020-08-23</td>\n",
       "      <td>68706.0</td>\n",
       "      <td>931.0</td>\n",
       "      <td>77.019426</td>\n",
       "      <td>5.977422</td>\n",
       "      <td>45.002430</td>\n",
       "      <td>223.019676</td>\n",
       "      <td>98.64</td>\n",
       "      <td>351.018954</td>\n",
       "      <td>99.4891</td>\n",
       "    </tr>\n",
       "  </tbody>\n",
       "</table>\n",
       "<p>111 rows × 10 columns</p>\n",
       "</div>"
      ],
      "text/plain": [
       "            일자  총 검사 수량  총 불량 수량         오픈      슬릿(상)      슬릿(하)          쇼트  \\\n",
       "0   2020-04-01  10368.0     65.0  11.000448   0.995328   6.998400    2.001024   \n",
       "3   2020-04-04  39636.0    221.0   8.006472   4.003236  12.009708   17.003844   \n",
       "21  2020-04-22  10696.0    161.0  10.995488   0.994728   6.995184    4.995032   \n",
       "22  2020-04-23  10752.0    160.0   6.999552   0.000000  14.999040   20.998656   \n",
       "23  2020-04-24  16128.0    285.0   6.999552   5.999616   6.999552   15.998976   \n",
       "..         ...      ...      ...        ...        ...        ...         ...   \n",
       "140 2020-08-19  21224.0   1279.0  17.000424  40.007240  33.003320   60.000248   \n",
       "141 2020-08-20  62976.0   1220.0  56.993280  73.996800  55.985664   46.980096   \n",
       "142 2020-08-21  69840.0   1170.0  40.996080  16.971120  44.976960   91.001520   \n",
       "143 2020-08-22  36032.0    725.0  31.996416   6.990208  19.997760   43.995072   \n",
       "144 2020-08-23  68706.0    931.0  77.019426   5.977422  45.002430  223.019676   \n",
       "\n",
       "     Yield(%)  defect_from_light  pure_yield  \n",
       "0       99.37          20.995200     99.7975  \n",
       "3       99.44          41.023260     99.8965  \n",
       "21      98.49          23.980432     99.7758  \n",
       "22      98.51          42.997248     99.6001  \n",
       "23      98.23          35.997696     99.7768  \n",
       "..        ...                ...         ...  \n",
       "140     93.97         150.011232     99.2932  \n",
       "141     98.06         233.955840     99.6285  \n",
       "142     98.32         193.945680     99.7223  \n",
       "143     97.99         102.979456     99.7142  \n",
       "144     98.64         351.018954     99.4891  \n",
       "\n",
       "[111 rows x 10 columns]"
      ]
     },
     "execution_count": 184,
     "metadata": {},
     "output_type": "execute_result"
    }
   ],
   "source": [
    "defect_1"
   ]
  },
  {
   "cell_type": "code",
   "execution_count": 185,
   "metadata": {},
   "outputs": [
    {
     "name": "stdout",
     "output_type": "stream",
     "text": [
      "13292.682057\n",
      "5213464.0\n",
      "0.9974503167074713 %\n"
     ]
    }
   ],
   "source": [
    "print(defect_1[\"defect_from_light\"].sum())\n",
    "print(defect_1[\"총 검사 수량\"].sum())\n",
    "print(1-defect_1[\"defect_from_light\"].sum()/defect_1[\"총 검사 수량\"].sum(),\"%\")"
   ]
  },
  {
   "cell_type": "markdown",
   "metadata": {},
   "source": [
    "# 모수추정"
   ]
  },
  {
   "cell_type": "markdown",
   "metadata": {},
   "source": [
    "## 각 노광기의 모부적합품률 추정"
   ]
  },
  {
   "cell_type": "markdown",
   "metadata": {},
   "source": [
    "점추정\n",
    "$$ \\hat{P}4(모부적합품률 점추정치) = {x \\over n} = {부적합품 수 \\over 시료 수} = \\hat p $$ \n",
    "구간추정\n",
    "$$ \\hat{P}_{U \\bullet L} = \\hat{p} \\pm u_{1-\\alpha /2}\\sqrt{{\\hat{p}(1-\\hat{p})} \\over n}$$"
   ]
  },
  {
   "cell_type": "markdown",
   "metadata": {},
   "source": [
    "* 1호기\n",
    "    * $P_0 \\le 0.5, nP_0 \\ge 5, n(1-P_0) \\ge 5$이므로 정규분포에 근사한다고 가정"
   ]
  },
  {
   "cell_type": "code",
   "execution_count": 186,
   "metadata": {},
   "outputs": [
    {
     "data": {
      "text/html": [
       "<div>\n",
       "<style scoped>\n",
       "    .dataframe tbody tr th:only-of-type {\n",
       "        vertical-align: middle;\n",
       "    }\n",
       "\n",
       "    .dataframe tbody tr th {\n",
       "        vertical-align: top;\n",
       "    }\n",
       "\n",
       "    .dataframe thead th {\n",
       "        text-align: right;\n",
       "    }\n",
       "</style>\n",
       "<table border=\"1\" class=\"dataframe\">\n",
       "  <thead>\n",
       "    <tr style=\"text-align: right;\">\n",
       "      <th></th>\n",
       "      <th>일자</th>\n",
       "      <th>총 검사 수량</th>\n",
       "      <th>총 불량 수량</th>\n",
       "      <th>오픈</th>\n",
       "      <th>슬릿(상)</th>\n",
       "      <th>슬릿(하)</th>\n",
       "      <th>쇼트</th>\n",
       "      <th>Yield(%)</th>\n",
       "      <th>defect_from_light</th>\n",
       "      <th>pure_yield</th>\n",
       "    </tr>\n",
       "  </thead>\n",
       "  <tbody>\n",
       "    <tr>\n",
       "      <th>0</th>\n",
       "      <td>2020-04-01</td>\n",
       "      <td>10368.0</td>\n",
       "      <td>65.0</td>\n",
       "      <td>11.000448</td>\n",
       "      <td>0.995328</td>\n",
       "      <td>6.998400</td>\n",
       "      <td>2.001024</td>\n",
       "      <td>99.37</td>\n",
       "      <td>20.995200</td>\n",
       "      <td>99.7975</td>\n",
       "    </tr>\n",
       "    <tr>\n",
       "      <th>3</th>\n",
       "      <td>2020-04-04</td>\n",
       "      <td>39636.0</td>\n",
       "      <td>221.0</td>\n",
       "      <td>8.006472</td>\n",
       "      <td>4.003236</td>\n",
       "      <td>12.009708</td>\n",
       "      <td>17.003844</td>\n",
       "      <td>99.44</td>\n",
       "      <td>41.023260</td>\n",
       "      <td>99.8965</td>\n",
       "    </tr>\n",
       "    <tr>\n",
       "      <th>21</th>\n",
       "      <td>2020-04-22</td>\n",
       "      <td>10696.0</td>\n",
       "      <td>161.0</td>\n",
       "      <td>10.995488</td>\n",
       "      <td>0.994728</td>\n",
       "      <td>6.995184</td>\n",
       "      <td>4.995032</td>\n",
       "      <td>98.49</td>\n",
       "      <td>23.980432</td>\n",
       "      <td>99.7758</td>\n",
       "    </tr>\n",
       "    <tr>\n",
       "      <th>22</th>\n",
       "      <td>2020-04-23</td>\n",
       "      <td>10752.0</td>\n",
       "      <td>160.0</td>\n",
       "      <td>6.999552</td>\n",
       "      <td>0.000000</td>\n",
       "      <td>14.999040</td>\n",
       "      <td>20.998656</td>\n",
       "      <td>98.51</td>\n",
       "      <td>42.997248</td>\n",
       "      <td>99.6001</td>\n",
       "    </tr>\n",
       "    <tr>\n",
       "      <th>23</th>\n",
       "      <td>2020-04-24</td>\n",
       "      <td>16128.0</td>\n",
       "      <td>285.0</td>\n",
       "      <td>6.999552</td>\n",
       "      <td>5.999616</td>\n",
       "      <td>6.999552</td>\n",
       "      <td>15.998976</td>\n",
       "      <td>98.23</td>\n",
       "      <td>35.997696</td>\n",
       "      <td>99.7768</td>\n",
       "    </tr>\n",
       "  </tbody>\n",
       "</table>\n",
       "</div>"
      ],
      "text/plain": [
       "           일자  총 검사 수량  총 불량 수량         오픈     슬릿(상)      슬릿(하)         쇼트  \\\n",
       "0  2020-04-01  10368.0     65.0  11.000448  0.995328   6.998400   2.001024   \n",
       "3  2020-04-04  39636.0    221.0   8.006472  4.003236  12.009708  17.003844   \n",
       "21 2020-04-22  10696.0    161.0  10.995488  0.994728   6.995184   4.995032   \n",
       "22 2020-04-23  10752.0    160.0   6.999552  0.000000  14.999040  20.998656   \n",
       "23 2020-04-24  16128.0    285.0   6.999552  5.999616   6.999552  15.998976   \n",
       "\n",
       "    Yield(%)  defect_from_light  pure_yield  \n",
       "0      99.37          20.995200     99.7975  \n",
       "3      99.44          41.023260     99.8965  \n",
       "21     98.49          23.980432     99.7758  \n",
       "22     98.51          42.997248     99.6001  \n",
       "23     98.23          35.997696     99.7768  "
      ]
     },
     "execution_count": 186,
     "metadata": {},
     "output_type": "execute_result"
    }
   ],
   "source": [
    "defect_1.head()"
   ]
  },
  {
   "cell_type": "code",
   "execution_count": 187,
   "metadata": {},
   "outputs": [],
   "source": [
    "def get_phat_interval(df, confidence = 0.95):\n",
    "    n = df[\"총 검사 수량\"].sum()\n",
    "    phat = df[\"defect_from_light\"].sum()/df[\"총 검사 수량\"].sum()\n",
    "    se = np.sqrt(phat*(1-phat)/n)\n",
    "    h = se * scipy.stats.norm.ppf((1+confidence)/2)\n",
    "    return phat,phat-h,phat+h"
   ]
  },
  {
   "cell_type": "code",
   "execution_count": 188,
   "metadata": {},
   "outputs": [],
   "source": [
    "d1_phat = get_phat_interval(defect_1)\n",
    "d2_phat = get_phat_interval(defect_2)\n",
    "d4_phat = get_phat_interval(defect_4)\n",
    "d5_phat = get_phat_interval(defect_5)"
   ]
  },
  {
   "cell_type": "code",
   "execution_count": 189,
   "metadata": {},
   "outputs": [
    {
     "name": "stdout",
     "output_type": "stream",
     "text": [
      "------------------------- 1호기 -------------------------\n",
      "점 추정치 : 0.0025496832925287296 \n",
      "95% 구간 추정치 : [0.002506394680928092, 0.002592971904129367]\n",
      "------------------------- 2호기 -------------------------\n",
      "점 추정치 : 0.0026905042238835617 \n",
      "95% 구간 추정치 : [0.0026427050925732403, 0.002738303355193883]\n",
      "------------------------- 4호기 -------------------------\n",
      "점 추정치 : 0.002398910730547619 \n",
      "95% 구간 추정치 : [0.0023214975148130117, 0.0024763239462822265]\n",
      "------------------------- 5호기 -------------------------\n",
      "점 추정치 : 0.0028623271252627806 \n",
      "95% 구간 추정치 : [0.002838657328225425, 0.002885996922300136]\n"
     ]
    }
   ],
   "source": [
    "print(\"-\"*25, \"1호기\",\"-\"*25)\n",
    "print(\"점 추정치 :\",d1_phat[0],\"\\n95% 구간 추정치 :\",[d1_phat[1],d1_phat[2]])\n",
    "print(\"-\"*25, \"2호기\",\"-\"*25)\n",
    "print(\"점 추정치 :\",d2_phat[0],\"\\n95% 구간 추정치 :\",[d2_phat[1],d2_phat[2]])\n",
    "print(\"-\"*25, \"4호기\",\"-\"*25)\n",
    "print(\"점 추정치 :\",d4_phat[0],\"\\n95% 구간 추정치 :\",[d4_phat[1],d4_phat[2]])\n",
    "print(\"-\"*25, \"5호기\",\"-\"*25)\n",
    "print(\"점 추정치 :\",d5_phat[0],\"\\n95% 구간 추정치 :\",[d5_phat[1],d5_phat[2]])"
   ]
  },
  {
   "cell_type": "markdown",
   "metadata": {},
   "source": [
    "## 노광기 별 모부적합품률 차 검정"
   ]
  },
  {
   "cell_type": "code",
   "execution_count": 190,
   "metadata": {},
   "outputs": [],
   "source": [
    "def get_u0(df1,df2,mach_lst,defect_factor = \"defect_from_light\"):\n",
    "    x_A,x_B = df1[defect_factor].sum(), df2[defect_factor].sum()\n",
    "    n_A,n_B = df1[\"총 검사 수량\"].sum(), df2[\"총 검사 수량\"].sum()\n",
    "    pA_hat = x_A/n_A\n",
    "    pB_hat = x_B/n_B\n",
    "    p_hat = (x_A+x_B)/(n_A+n_B)\n",
    "    u_0 = (pA_hat - pB_hat)/np.sqrt(p_hat*(1-p_hat)*(1/n_A+1/n_B))\n",
    "    \n",
    "    print(\"-\"*10,mach_lst[0],\"-\"*10)    \n",
    "    print(mach_lst[0],\"검사 수량 :\",n_A)\n",
    "    print(mach_lst[0],defect_factor,\"발생 불량 수량 :\",x_A,end = \"\\n\\n\")\n",
    "    print(\"pA hat: \",pA_hat)\n",
    "    \n",
    "    print(\"-\"*10,mach_lst[1],\"-\"*10)    \n",
    "    print(mach_lst[1],\"검사 수량  :\",n_B)\n",
    "    print(mach_lst[1],defect_factor,\"발생 불량 수량 :\",x_B,end = \"\\n\\n\")\n",
    "    print(\"pB hat: \",pB_hat)\n",
    "    print(\"-\"*31)\n",
    "    \n",
    "    print(\"p hat :\",p_hat)\n",
    "    print(\"검정통계량 u0 :\",u_0)\n",
    "    return u_0"
   ]
  },
  {
   "cell_type": "code",
   "execution_count": 191,
   "metadata": {},
   "outputs": [],
   "source": [
    "defect_1[\"mach_num\"] = \"1\"\n",
    "defect_2[\"mach_num\"] = \"2\"\n",
    "defect_4[\"mach_num\"] = \"4\"\n",
    "defect_5[\"mach_num\"] = \"5\""
   ]
  },
  {
   "cell_type": "code",
   "execution_count": 192,
   "metadata": {
    "scrolled": false
   },
   "outputs": [
    {
     "data": {
      "text/html": [
       "<div>\n",
       "<style scoped>\n",
       "    .dataframe tbody tr th:only-of-type {\n",
       "        vertical-align: middle;\n",
       "    }\n",
       "\n",
       "    .dataframe tbody tr th {\n",
       "        vertical-align: top;\n",
       "    }\n",
       "\n",
       "    .dataframe thead th {\n",
       "        text-align: right;\n",
       "    }\n",
       "</style>\n",
       "<table border=\"1\" class=\"dataframe\">\n",
       "  <thead>\n",
       "    <tr style=\"text-align: right;\">\n",
       "      <th></th>\n",
       "      <th>일자</th>\n",
       "      <th>총 검사 수량</th>\n",
       "      <th>총 불량 수량</th>\n",
       "      <th>오픈</th>\n",
       "      <th>슬릿(상)</th>\n",
       "      <th>슬릿(하)</th>\n",
       "      <th>쇼트</th>\n",
       "      <th>Yield(%)</th>\n",
       "      <th>defect_from_light</th>\n",
       "      <th>pure_yield</th>\n",
       "      <th>mach_num</th>\n",
       "    </tr>\n",
       "  </thead>\n",
       "  <tbody>\n",
       "    <tr>\n",
       "      <th>0</th>\n",
       "      <td>2020-04-01</td>\n",
       "      <td>10368.0</td>\n",
       "      <td>65.0</td>\n",
       "      <td>11.000448</td>\n",
       "      <td>0.995328</td>\n",
       "      <td>6.998400</td>\n",
       "      <td>2.001024</td>\n",
       "      <td>99.37</td>\n",
       "      <td>20.995200</td>\n",
       "      <td>99.7975</td>\n",
       "      <td>1</td>\n",
       "    </tr>\n",
       "    <tr>\n",
       "      <th>3</th>\n",
       "      <td>2020-04-04</td>\n",
       "      <td>39636.0</td>\n",
       "      <td>221.0</td>\n",
       "      <td>8.006472</td>\n",
       "      <td>4.003236</td>\n",
       "      <td>12.009708</td>\n",
       "      <td>17.003844</td>\n",
       "      <td>99.44</td>\n",
       "      <td>41.023260</td>\n",
       "      <td>99.8965</td>\n",
       "      <td>1</td>\n",
       "    </tr>\n",
       "    <tr>\n",
       "      <th>21</th>\n",
       "      <td>2020-04-22</td>\n",
       "      <td>10696.0</td>\n",
       "      <td>161.0</td>\n",
       "      <td>10.995488</td>\n",
       "      <td>0.994728</td>\n",
       "      <td>6.995184</td>\n",
       "      <td>4.995032</td>\n",
       "      <td>98.49</td>\n",
       "      <td>23.980432</td>\n",
       "      <td>99.7758</td>\n",
       "      <td>1</td>\n",
       "    </tr>\n",
       "    <tr>\n",
       "      <th>22</th>\n",
       "      <td>2020-04-23</td>\n",
       "      <td>10752.0</td>\n",
       "      <td>160.0</td>\n",
       "      <td>6.999552</td>\n",
       "      <td>0.000000</td>\n",
       "      <td>14.999040</td>\n",
       "      <td>20.998656</td>\n",
       "      <td>98.51</td>\n",
       "      <td>42.997248</td>\n",
       "      <td>99.6001</td>\n",
       "      <td>1</td>\n",
       "    </tr>\n",
       "    <tr>\n",
       "      <th>23</th>\n",
       "      <td>2020-04-24</td>\n",
       "      <td>16128.0</td>\n",
       "      <td>285.0</td>\n",
       "      <td>6.999552</td>\n",
       "      <td>5.999616</td>\n",
       "      <td>6.999552</td>\n",
       "      <td>15.998976</td>\n",
       "      <td>98.23</td>\n",
       "      <td>35.997696</td>\n",
       "      <td>99.7768</td>\n",
       "      <td>1</td>\n",
       "    </tr>\n",
       "    <tr>\n",
       "      <th>...</th>\n",
       "      <td>...</td>\n",
       "      <td>...</td>\n",
       "      <td>...</td>\n",
       "      <td>...</td>\n",
       "      <td>...</td>\n",
       "      <td>...</td>\n",
       "      <td>...</td>\n",
       "      <td>...</td>\n",
       "      <td>...</td>\n",
       "      <td>...</td>\n",
       "      <td>...</td>\n",
       "    </tr>\n",
       "    <tr>\n",
       "      <th>140</th>\n",
       "      <td>2020-08-19</td>\n",
       "      <td>183118.0</td>\n",
       "      <td>2051.0</td>\n",
       "      <td>212.966234</td>\n",
       "      <td>13.001378</td>\n",
       "      <td>91.009646</td>\n",
       "      <td>97.968130</td>\n",
       "      <td>98.88</td>\n",
       "      <td>414.945388</td>\n",
       "      <td>99.7734</td>\n",
       "      <td>5</td>\n",
       "    </tr>\n",
       "    <tr>\n",
       "      <th>141</th>\n",
       "      <td>2020-08-20</td>\n",
       "      <td>275786.0</td>\n",
       "      <td>3003.0</td>\n",
       "      <td>233.039170</td>\n",
       "      <td>41.092114</td>\n",
       "      <td>156.922234</td>\n",
       "      <td>140.099288</td>\n",
       "      <td>98.91</td>\n",
       "      <td>571.152806</td>\n",
       "      <td>99.7929</td>\n",
       "      <td>5</td>\n",
       "    </tr>\n",
       "    <tr>\n",
       "      <th>142</th>\n",
       "      <td>2020-08-21</td>\n",
       "      <td>122976.0</td>\n",
       "      <td>1541.0</td>\n",
       "      <td>152.982144</td>\n",
       "      <td>22.996512</td>\n",
       "      <td>80.057376</td>\n",
       "      <td>133.060032</td>\n",
       "      <td>98.75</td>\n",
       "      <td>389.096064</td>\n",
       "      <td>99.6836</td>\n",
       "      <td>5</td>\n",
       "    </tr>\n",
       "    <tr>\n",
       "      <th>143</th>\n",
       "      <td>2020-08-22</td>\n",
       "      <td>91380.0</td>\n",
       "      <td>2285.0</td>\n",
       "      <td>107.005980</td>\n",
       "      <td>28.967460</td>\n",
       "      <td>51.995220</td>\n",
       "      <td>165.032280</td>\n",
       "      <td>97.50</td>\n",
       "      <td>353.000940</td>\n",
       "      <td>99.6137</td>\n",
       "      <td>5</td>\n",
       "    </tr>\n",
       "    <tr>\n",
       "      <th>144</th>\n",
       "      <td>2020-08-23</td>\n",
       "      <td>104136.0</td>\n",
       "      <td>1441.0</td>\n",
       "      <td>119.964672</td>\n",
       "      <td>24.992640</td>\n",
       "      <td>31.969752</td>\n",
       "      <td>71.020752</td>\n",
       "      <td>98.62</td>\n",
       "      <td>247.947816</td>\n",
       "      <td>99.7619</td>\n",
       "      <td>5</td>\n",
       "    </tr>\n",
       "  </tbody>\n",
       "</table>\n",
       "<p>429 rows × 11 columns</p>\n",
       "</div>"
      ],
      "text/plain": [
       "            일자   총 검사 수량  총 불량 수량          오픈      슬릿(상)       슬릿(하)  \\\n",
       "0   2020-04-01   10368.0     65.0   11.000448   0.995328    6.998400   \n",
       "3   2020-04-04   39636.0    221.0    8.006472   4.003236   12.009708   \n",
       "21  2020-04-22   10696.0    161.0   10.995488   0.994728    6.995184   \n",
       "22  2020-04-23   10752.0    160.0    6.999552   0.000000   14.999040   \n",
       "23  2020-04-24   16128.0    285.0    6.999552   5.999616    6.999552   \n",
       "..         ...       ...      ...         ...        ...         ...   \n",
       "140 2020-08-19  183118.0   2051.0  212.966234  13.001378   91.009646   \n",
       "141 2020-08-20  275786.0   3003.0  233.039170  41.092114  156.922234   \n",
       "142 2020-08-21  122976.0   1541.0  152.982144  22.996512   80.057376   \n",
       "143 2020-08-22   91380.0   2285.0  107.005980  28.967460   51.995220   \n",
       "144 2020-08-23  104136.0   1441.0  119.964672  24.992640   31.969752   \n",
       "\n",
       "             쇼트  Yield(%)  defect_from_light  pure_yield mach_num  \n",
       "0      2.001024     99.37          20.995200     99.7975        1  \n",
       "3     17.003844     99.44          41.023260     99.8965        1  \n",
       "21     4.995032     98.49          23.980432     99.7758        1  \n",
       "22    20.998656     98.51          42.997248     99.6001        1  \n",
       "23    15.998976     98.23          35.997696     99.7768        1  \n",
       "..          ...       ...                ...         ...      ...  \n",
       "140   97.968130     98.88         414.945388     99.7734        5  \n",
       "141  140.099288     98.91         571.152806     99.7929        5  \n",
       "142  133.060032     98.75         389.096064     99.6836        5  \n",
       "143  165.032280     97.50         353.000940     99.6137        5  \n",
       "144   71.020752     98.62         247.947816     99.7619        5  \n",
       "\n",
       "[429 rows x 11 columns]"
      ]
     },
     "execution_count": 192,
     "metadata": {},
     "output_type": "execute_result"
    }
   ],
   "source": [
    "defect_concat = pd.concat([defect_1,defect_2,defect_4,defect_5],axis = 0)\n",
    "defect_concat"
   ]
  },
  {
   "cell_type": "markdown",
   "metadata": {},
   "source": [
    "#### 1호기 vs 2호기\n",
    "1. 가설\n",
    "    * $P_A$ : 집단 A의 모부적합품률  \n",
    "    $P_B$ : 집단 B의 모부적합품률  \n",
    "     \n",
    "$ H_0 : P_A \\ge P_B$ (집단 A의 모부적합품률보다 집단 B의 모부적합품률이 크다)  \n",
    "$ H_1 : P_A < P_B$ (집단 A의 모부적합품률보다 집단 B의 모부적합품률이 작다)"
   ]
  },
  {
   "cell_type": "markdown",
   "metadata": {},
   "source": [
    "### 전체 부적합품률"
   ]
  },
  {
   "cell_type": "markdown",
   "metadata": {},
   "source": [
    "#### 1호기 vs 2호기\n",
    "1. 가설\n",
    "    * $P_A$ : 1호기의 모부적합품률   \n",
    "    $P_B$ : 2호기의 모부적합품률  \n",
    "$$ H_0 : P_A = P_B$$\n",
    "$$ H_1 : P_A \\ne P_B$$"
   ]
  },
  {
   "cell_type": "markdown",
   "metadata": {},
   "source": [
    "2. 통계량 : $$u_0 = {\\hat{p_A} - \\hat{p_B} \\over \\sqrt{\\hat{p}(1-\\hat{p})({1 \\over n_A}+{1 \\over n_B})}}$$  \n",
    "    * $\\hat{p} = {x_A + x_B \\over n_A + n_B}$"
   ]
  },
  {
   "cell_type": "markdown",
   "metadata": {},
   "source": [
    "$$\\hat{p_A} = {x_A \\over n_A}$$  \n",
    "$$\\hat{p_B} = {x_B \\over n_B}$$"
   ]
  },
  {
   "cell_type": "markdown",
   "metadata": {},
   "source": [
    "$$\\hat{p} = {x_A + x_B \\over n_A + n_B}$$"
   ]
  },
  {
   "cell_type": "markdown",
   "metadata": {},
   "source": [
    "$x_A$ = A집단의 부적합품 수    \n",
    "$n_A$ = A집단의 총 검사 수량  \n",
    "  \n",
    "$x_B$= B집단의 부적합품 수  \n",
    "$n_B$ = B집단의 총 검사 수량"
   ]
  },
  {
   "cell_type": "code",
   "execution_count": 193,
   "metadata": {},
   "outputs": [
    {
     "name": "stdout",
     "output_type": "stream",
     "text": [
      "---------- 노광1호기 ----------\n",
      "노광1호기 검사 수량 : 5213464.0\n",
      "노광1호기 defect_from_light 발생 불량 수량 : 13292.682057\n",
      "\n",
      "pA hat:  0.0025496832925287296\n",
      "---------- 노광2호기 ----------\n",
      "노광2호기 검사 수량  : 4511488.0\n",
      "노광2호기 defect_from_light 발생 불량 수량 : 12138.177520000001\n",
      "\n",
      "pB hat:  0.0026905042238835617\n",
      "-------------------------------\n",
      "p hat : 0.0026150113210841558\n",
      "검정통계량 u0 : -4.288232968538851\n"
     ]
    }
   ],
   "source": [
    "mach_lst = [\"노광1호기\",\"노광2호기\"]\n",
    "u_0 = get_u0(defect_1,defect_2,mach_lst)"
   ]
  },
  {
   "cell_type": "markdown",
   "metadata": {},
   "source": [
    "3. 기각역 : $$u_0 > u_{1-\\alpha/2}$$ $$or$$ $$u_0 < -u_{1-\\alpha/2}$$  \n",
    "$\\alpha = 0.05$에서 $$u_0 > 1.96$$ $$or$$ $$u_0 < -1.96$$ 이면 $H_0$ 기각"
   ]
  },
  {
   "cell_type": "code",
   "execution_count": 194,
   "metadata": {},
   "outputs": [
    {
     "name": "stdout",
     "output_type": "stream",
     "text": [
      "u0 :  -4.288232968538851\n"
     ]
    }
   ],
   "source": [
    "print(\"u0 : \",u_0)"
   ]
  },
  {
   "cell_type": "markdown",
   "metadata": {},
   "source": [
    "4. 판정 : \n",
    "$$u_0 = -4.2882 < -1.96$$으로 $H_0$ 기각.  \n",
    "따라서 ***유의수준 0.05***에서 $H_0$기각, 노광 1호기의 모부적합품률과 노광 2호기의 모부적합품률은 같다고 할 수 없다."
   ]
  },
  {
   "cell_type": "markdown",
   "metadata": {},
   "source": [
    "##### 가설 변경\n",
    "1. 가설\n",
    "    * $P_A$ : 1호기의 모부적합품률   \n",
    "    $P_B$ : 2호기의 모부적합품률  \n",
    "$$ H_0 : P_A \\ge P_B$$\n",
    "$$ H_1 : P_A < P_B$$"
   ]
  },
  {
   "cell_type": "markdown",
   "metadata": {},
   "source": [
    "2. 통계량 : $$u_0 = {\\hat{p_A} - \\hat{p_B} \\over \\sqrt{\\hat{p}(1-\\hat{p})({1 \\over n_A}+{1 \\over n_B})}}$$  \n",
    "    * $\\hat{p} = {x_A + x_B \\over n_A + n_B}$"
   ]
  },
  {
   "cell_type": "code",
   "execution_count": 195,
   "metadata": {},
   "outputs": [
    {
     "name": "stdout",
     "output_type": "stream",
     "text": [
      "---------- 노광1호기 ----------\n",
      "노광1호기 검사 수량 : 5213464.0\n",
      "노광1호기 defect_from_light 발생 불량 수량 : 13292.682057\n",
      "\n",
      "pA hat:  0.0025496832925287296\n",
      "---------- 노광2호기 ----------\n",
      "노광2호기 검사 수량  : 4511488.0\n",
      "노광2호기 defect_from_light 발생 불량 수량 : 12138.177520000001\n",
      "\n",
      "pB hat:  0.0026905042238835617\n",
      "-------------------------------\n",
      "p hat : 0.0026150113210841558\n",
      "검정통계량 u0 : -4.288232968538851\n"
     ]
    }
   ],
   "source": [
    "mach_lst = [\"노광1호기\",\"노광2호기\"]\n",
    "u_0 = get_u0(defect_1,defect_2,mach_lst)"
   ]
  },
  {
   "cell_type": "markdown",
   "metadata": {},
   "source": [
    "3. 기각역 : $$u_0 < -u_{1-\\alpha}$$  \n",
    "$\\alpha = 0.05$에서 $$u_0 < -1.645$$ 이면 $H_0$ 기각"
   ]
  },
  {
   "cell_type": "code",
   "execution_count": 196,
   "metadata": {},
   "outputs": [
    {
     "name": "stdout",
     "output_type": "stream",
     "text": [
      "u0 :  -4.288232968538851\n"
     ]
    }
   ],
   "source": [
    "print(\"u0 : \",u_0)"
   ]
  },
  {
   "cell_type": "markdown",
   "metadata": {},
   "source": [
    "4. 판정 : \n",
    "$$u_0 = -4.28823 < -1.645$$로 $H_0$ 기각.  \n",
    "따라서 ***유의수준 0.05***에서 $H_0$기각, 노광 1호기의 모부적합품률이 노광 2호기의 모부적합품률보다 작다고 할 수 있다."
   ]
  },
  {
   "cell_type": "markdown",
   "metadata": {},
   "source": [
    "#### 4호기 vs 5호기 (연식에 의한 차이)\n",
    "1. 가설\n",
    "    * $P_A$ : 4호기의 모부적합품률   \n",
    "    $P_B$ : 5호기의 모부적합품률  \n",
    "$$ H_0 : P_A = P_B$$\n",
    "$$ H_1 : P_A \\ne P_B$$"
   ]
  },
  {
   "cell_type": "markdown",
   "metadata": {},
   "source": [
    "2. 통계량 : $$u_0 = {\\hat{p_A} - \\hat{p_B} \\over \\sqrt{\\hat{p}(1-\\hat{p})({1 \\over n_A}+{1 \\over n_B})}}$$  \n",
    "    * $\\hat{p} = {x_A + x_B \\over n_A + n_B}$"
   ]
  },
  {
   "cell_type": "code",
   "execution_count": 197,
   "metadata": {},
   "outputs": [
    {
     "name": "stdout",
     "output_type": "stream",
     "text": [
      "---------- 노광4호기 ----------\n",
      "노광4호기 검사 수량 : 1534041.0\n",
      "노광4호기 defect_from_light 발생 불량 수량 : 3680.027416\n",
      "\n",
      "pA hat:  0.002398910730547619\n",
      "---------- 노광5호기 ----------\n",
      "노광5호기 검사 수량  : 19569580.0\n",
      "노광5호기 defect_from_light 발생 불량 수량 : 56014.539664\n",
      "\n",
      "pB hat:  0.0028623271252627806\n",
      "-------------------------------\n",
      "p hat : 0.0028286409749303213\n",
      "검정통계량 u0 : -10.407066476212044\n"
     ]
    }
   ],
   "source": [
    "mach_lst = [\"노광4호기\",\"노광5호기\"]\n",
    "u_0 = get_u0(defect_4,defect_5,mach_lst)"
   ]
  },
  {
   "cell_type": "markdown",
   "metadata": {},
   "source": [
    "3. 기각역 : $$u_0 > u_{1-\\alpha/2}$$ $$or$$ $$u_0 < -u_{1-\\alpha/2}$$  \n",
    "$\\alpha = 0.05$에서 $$u_0 > 1.96$$ $$or$$ $$u_0 < -1.96$$ 이면 $H_0$ 기각"
   ]
  },
  {
   "cell_type": "code",
   "execution_count": 198,
   "metadata": {
    "scrolled": true
   },
   "outputs": [
    {
     "name": "stdout",
     "output_type": "stream",
     "text": [
      "u0 :  -10.407066476212044\n"
     ]
    }
   ],
   "source": [
    "print(\"u0 : \",u_0)"
   ]
  },
  {
   "cell_type": "markdown",
   "metadata": {},
   "source": [
    "4. 판정 : \n",
    "$$u_0 = -10.40707 < -1.96$$로 $H_0$ 기각.  \n",
    "따라서 ***유의수준 0.05***에서 $H_0$기각, 노광 4호기의 모부적합품률과 노광 5호기의 모부적합품률은 같다고 할 수 없다."
   ]
  },
  {
   "cell_type": "markdown",
   "metadata": {},
   "source": [
    "##### 가설 변경\n",
    "1. 가설\n",
    "    * $P_A$ : 4호기의 모부적합품률   \n",
    "    $P_B$ : 5호기의 모부적합품률  \n",
    "$$ H_0 : P_A \\ge P_B$$\n",
    "$$ H_1 : P_A < P_B$$"
   ]
  },
  {
   "cell_type": "markdown",
   "metadata": {},
   "source": [
    "2. 통계량 : 위와 동일"
   ]
  },
  {
   "cell_type": "code",
   "execution_count": 199,
   "metadata": {},
   "outputs": [
    {
     "name": "stdout",
     "output_type": "stream",
     "text": [
      "---------- 노광4호기 ----------\n",
      "노광4호기 검사 수량 : 1534041.0\n",
      "노광4호기 defect_from_light 발생 불량 수량 : 3680.027416\n",
      "\n",
      "pA hat:  0.002398910730547619\n",
      "---------- 노광5호기 ----------\n",
      "노광5호기 검사 수량  : 19569580.0\n",
      "노광5호기 defect_from_light 발생 불량 수량 : 56014.539664\n",
      "\n",
      "pB hat:  0.0028623271252627806\n",
      "-------------------------------\n",
      "p hat : 0.0028286409749303213\n",
      "검정통계량 u0 : -10.407066476212044\n"
     ]
    }
   ],
   "source": [
    "mach_lst = [\"노광4호기\",\"노광5호기\"]\n",
    "u_0 = get_u0(defect_4,defect_5,mach_lst)"
   ]
  },
  {
   "cell_type": "markdown",
   "metadata": {},
   "source": [
    "3. 기각역 : $$u_0 < -u_{1-\\alpha}$$  \n",
    "$\\alpha = 0.05$에서 $$u_0 < -1.645$$ 이면 $H_0$ 기각"
   ]
  },
  {
   "cell_type": "code",
   "execution_count": 200,
   "metadata": {},
   "outputs": [
    {
     "name": "stdout",
     "output_type": "stream",
     "text": [
      "u0 :  -10.407066476212044\n"
     ]
    }
   ],
   "source": [
    "print(\"u0 : \",u_0)"
   ]
  },
  {
   "cell_type": "markdown",
   "metadata": {},
   "source": [
    "4. 판정 : \n",
    "$$u_0 = −10.40707 < -1.645$$로 $H_0$ 기각.  \n",
    "따라서 유의수준 ***0.05***에서 $H_0$기각, 노광 4호기의 모부적합품률이 노광 5호기의 모부적합품률보다 작다고 할 수 있다."
   ]
  },
  {
   "cell_type": "markdown",
   "metadata": {},
   "source": [
    "##### 4호기(5년)의 부적합품률 < 5호기(2년)의 부적합품률\n",
    "***현재 데이터로는 연식이 오래 될 수록 부적합품률이 높아 지는 것으로 보이지 않고 오히려 반대의 경향을 보인다.***"
   ]
  },
  {
   "cell_type": "markdown",
   "metadata": {},
   "source": [
    "#### 1,2호기 vs 4,5호기 (기기 작동방식에 따른 차이)\n",
    "1. 가설\n",
    "    * $P_A$ : 1,2호기의 모부적합품률 -> 아날로그 방식   \n",
    "    $P_B$ : 4,5호기의 모부적합품률 -> 디지털 방식  \n",
    "$$ H_0 : P_A = P_B$$\n",
    "$$ H_1 : P_A \\ne P_B$$"
   ]
  },
  {
   "cell_type": "code",
   "execution_count": 201,
   "metadata": {},
   "outputs": [],
   "source": [
    "defect_A = pd.concat([defect_1,defect_2],axis = 0)\n",
    "defect_B = pd.concat([defect_4,defect_5],axis = 0)"
   ]
  },
  {
   "cell_type": "markdown",
   "metadata": {},
   "source": [
    "2. 통계량 : $$u_0 = {\\hat{p_A} - \\hat{p_B} \\over \\sqrt{\\hat{p}(1-\\hat{p})({1 \\over n_A}+{1 \\over n_B})}}$$  \n",
    "    * $\\hat{p} = {x_A + x_B \\over n_A + n_B}$"
   ]
  },
  {
   "cell_type": "code",
   "execution_count": 202,
   "metadata": {},
   "outputs": [
    {
     "name": "stdout",
     "output_type": "stream",
     "text": [
      "---------- 노광1,2호기 ----------\n",
      "노광1,2호기 검사 수량 : 9724952.0\n",
      "노광1,2호기 defect_from_light 발생 불량 수량 : 25430.859577000003\n",
      "\n",
      "pA hat:  0.0026150113210841558\n",
      "---------- 노광4,5호기 ----------\n",
      "노광4,5호기 검사 수량  : 21103621.0\n",
      "노광4,5호기 defect_from_light 발생 불량 수량 : 59694.56707999999\n",
      "\n",
      "pB hat:  0.002828640974930321\n",
      "-------------------------------\n",
      "p hat : 0.002761250955631323\n",
      "검정통계량 u0 : -10.503995715452623\n"
     ]
    }
   ],
   "source": [
    "mach_lst = [\"노광1,2호기\",\"노광4,5호기\"]\n",
    "u_0 = get_u0(defect_A,defect_B,mach_lst)"
   ]
  },
  {
   "cell_type": "markdown",
   "metadata": {},
   "source": [
    "3. 기각역 : $$u_0 > u_{1-\\alpha/2}$$ $$or$$ $$u_0 < -u_{1-\\alpha/2}$$  \n",
    "$\\alpha = 0.05$에서 $$u_0 > 1.96$$ $$or$$ $$u_0 < -1.96$$ 이면 $H_0$ 기각"
   ]
  },
  {
   "cell_type": "code",
   "execution_count": 203,
   "metadata": {},
   "outputs": [
    {
     "name": "stdout",
     "output_type": "stream",
     "text": [
      "u0 :  -10.503995715452623\n"
     ]
    }
   ],
   "source": [
    "print(\"u0 : \",u_0)"
   ]
  },
  {
   "cell_type": "markdown",
   "metadata": {},
   "source": [
    "4. 판정 : \n",
    "$$u_0 = -10.504 < -1.96$$로 $H_0$ 기각.  \n",
    "따라서 ***유의수준 0.05***에서 $H_0$기각, 노광 1,2호기의 부적합품률과 노광 4,5호기의 부적합품률은 같다고 할 수 없다."
   ]
  },
  {
   "cell_type": "markdown",
   "metadata": {},
   "source": [
    "##### 가설 변경\n",
    "1. 가설\n",
    "    * $P_A$ : 1,2호기의 모부적합품률 -> 아날로그 방식   \n",
    "    $P_B$ : 4,5호기의 모부적합품률 -> 디지털 방식  \n",
    "$$ H_0 : P_A \\ge P_B$$\n",
    "$$ H_1 : P_A < P_B$$"
   ]
  },
  {
   "cell_type": "markdown",
   "metadata": {},
   "source": [
    "2. 통계량 : 위와 동일"
   ]
  },
  {
   "cell_type": "code",
   "execution_count": 204,
   "metadata": {},
   "outputs": [
    {
     "name": "stdout",
     "output_type": "stream",
     "text": [
      "---------- 노광1,2호기 ----------\n",
      "노광1,2호기 검사 수량 : 9724952.0\n",
      "노광1,2호기 defect_from_light 발생 불량 수량 : 25430.859577000003\n",
      "\n",
      "pA hat:  0.0026150113210841558\n",
      "---------- 노광4,5호기 ----------\n",
      "노광4,5호기 검사 수량  : 21103621.0\n",
      "노광4,5호기 defect_from_light 발생 불량 수량 : 59694.56707999999\n",
      "\n",
      "pB hat:  0.002828640974930321\n",
      "-------------------------------\n",
      "p hat : 0.002761250955631323\n",
      "검정통계량 u0 : -10.503995715452623\n"
     ]
    }
   ],
   "source": [
    "mach_lst = [\"노광1,2호기\",\"노광4,5호기\"]\n",
    "u_0 = get_u0(defect_A,defect_B,mach_lst)"
   ]
  },
  {
   "cell_type": "markdown",
   "metadata": {},
   "source": [
    "3. 기각역 : $$u_0 < -u_{1-\\alpha}$$  \n",
    "$\\alpha = 0.05$에서 $$u_0 < -1.645$$ 이면 $H_0$ 기각"
   ]
  },
  {
   "cell_type": "code",
   "execution_count": 205,
   "metadata": {},
   "outputs": [
    {
     "name": "stdout",
     "output_type": "stream",
     "text": [
      "u0 :  -10.503995715452623\n"
     ]
    }
   ],
   "source": [
    "print(\"u0 : \",u_0)"
   ]
  },
  {
   "cell_type": "markdown",
   "metadata": {},
   "source": [
    "4. 판정 : \n",
    "$$u_0 = -10.504 < -1.645$$로 $H_0$ 기각.  \n",
    "따라서 유의수준 ***0.05***에서 $H_0$기각, 노광 1,2호기의 모부적합품률이 노광 4,5호기의 부적합품률보다 작다고 할 수 있다."
   ]
  },
  {
   "cell_type": "markdown",
   "metadata": {},
   "source": [
    "##### 1,2호기(아날로그)의 부적합품률 < 4,5호기(디지털)의 부적합품률\n",
    "***현재 데이터로는 아날로그 방식의 노광기보다 디지털 방식의 노광기가 부적합품을 더 많이 생산하는 것으로 보임***"
   ]
  },
  {
   "cell_type": "markdown",
   "metadata": {},
   "source": [
    "### 불량사유가 '오픈'인 부적합품률"
   ]
  },
  {
   "cell_type": "markdown",
   "metadata": {},
   "source": [
    "#### 1호기 vs 2호기\n",
    "1. 가설\n",
    "    * $P_A$ : 1호기의 오픈발생률   \n",
    "    $P_B$ : 2호기의 오픈발생률  \n",
    "$$ H_0 : P_A = P_B$$\n",
    "$$ H_1 : P_A \\ne P_B$$"
   ]
  },
  {
   "cell_type": "markdown",
   "metadata": {},
   "source": [
    "2. 통계량 : $$u_0 = {\\hat{p_A} - \\hat{p_B} \\over \\sqrt{\\hat{p}(1-\\hat{p})({1 \\over n_A}+{1 \\over n_B})}}$$  \n",
    "    * $\\hat{p} = {x_A + x_B \\over n_A + n_B}$"
   ]
  },
  {
   "cell_type": "code",
   "execution_count": 206,
   "metadata": {},
   "outputs": [
    {
     "name": "stdout",
     "output_type": "stream",
     "text": [
      "---------- 노광1호기 ----------\n",
      "노광1호기 검사 수량 : 5213464.0\n",
      "노광1호기 오픈 발생 불량 수량 : 4241.131004\n",
      "\n",
      "pA hat:  0.0008134957878293587\n",
      "---------- 노광2호기 ----------\n",
      "노광2호기 검사 수량  : 4511488.0\n",
      "노광2호기 오픈 발생 불량 수량 : 4041.200516\n",
      "\n",
      "pB hat:  0.000895757789004426\n",
      "-------------------------------\n",
      "p hat : 0.0008516578302905762\n",
      "검정통계량 u0 : -4.38562073916465\n"
     ]
    }
   ],
   "source": [
    "mach_lst = [\"노광1호기\",\"노광2호기\"]\n",
    "u_0 = get_u0(defect_1,defect_2,mach_lst,\"오픈\")"
   ]
  },
  {
   "cell_type": "markdown",
   "metadata": {},
   "source": [
    "3. 기각역 : $$u_0 > u_{1-\\alpha/2}$$ $$or$$ $$u_0 < -u_{1-\\alpha/2}$$  \n",
    "$\\alpha = 0.05$에서 $$u_0 > 1.96$$ $$or$$ $$u_0 < -1.96$$ 이면 $H_0$ 기각"
   ]
  },
  {
   "cell_type": "code",
   "execution_count": 207,
   "metadata": {},
   "outputs": [
    {
     "name": "stdout",
     "output_type": "stream",
     "text": [
      "u0 :  -4.38562073916465\n"
     ]
    }
   ],
   "source": [
    "print(\"u0 : \",u_0)"
   ]
  },
  {
   "cell_type": "markdown",
   "metadata": {},
   "source": [
    "4. 판정 : \n",
    "$$u_0 = -4.38562 < -1.96$$으로 $H_0$ 기각.  \n",
    "따라서 ***유의수준 0.05***에서 $H_0$기각, 노광 1호기의 오픈발생률과 노광 2호기의 오픈발생률은 같다고 할 수 없다."
   ]
  },
  {
   "cell_type": "markdown",
   "metadata": {},
   "source": [
    "##### 가설 변경\n",
    "1. 가설\n",
    "    * $P_A$ : 1호기의 오픈발생률   \n",
    "    $P_B$ : 2호기의 오픈발생률  \n",
    "$$ H_0 : P_A \\ge P_B$$\n",
    "$$ H_1 : P_A < P_B$$"
   ]
  },
  {
   "cell_type": "markdown",
   "metadata": {},
   "source": [
    "2. 통계량 : $$u_0 = {\\hat{p_A} - \\hat{p_B} \\over \\sqrt{\\hat{p}(1-\\hat{p})({1 \\over n_A}+{1 \\over n_B})}}$$  \n",
    "    * $\\hat{p} = {x_A + x_B \\over n_A + n_B}$"
   ]
  },
  {
   "cell_type": "code",
   "execution_count": 208,
   "metadata": {},
   "outputs": [
    {
     "name": "stdout",
     "output_type": "stream",
     "text": [
      "---------- 노광1호기 ----------\n",
      "노광1호기 검사 수량 : 5213464.0\n",
      "노광1호기 오픈 발생 불량 수량 : 4241.131004\n",
      "\n",
      "pA hat:  0.0008134957878293587\n",
      "---------- 노광2호기 ----------\n",
      "노광2호기 검사 수량  : 4511488.0\n",
      "노광2호기 오픈 발생 불량 수량 : 4041.200516\n",
      "\n",
      "pB hat:  0.000895757789004426\n",
      "-------------------------------\n",
      "p hat : 0.0008516578302905762\n",
      "검정통계량 u0 : -4.38562073916465\n"
     ]
    }
   ],
   "source": [
    "mach_lst = [\"노광1호기\",\"노광2호기\"]\n",
    "u_0 = get_u0(defect_1,defect_2,mach_lst,\"오픈\")"
   ]
  },
  {
   "cell_type": "markdown",
   "metadata": {},
   "source": [
    "3. 기각역 : $$u_0 < -u_{1-\\alpha}$$  \n",
    "$\\alpha = 0.05$에서 $$u_0 < -1.645$$ 이면 $H_0$ 기각"
   ]
  },
  {
   "cell_type": "code",
   "execution_count": 209,
   "metadata": {},
   "outputs": [
    {
     "name": "stdout",
     "output_type": "stream",
     "text": [
      "u0 :  -4.38562073916465\n"
     ]
    }
   ],
   "source": [
    "print(\"u0 : \",u_0)"
   ]
  },
  {
   "cell_type": "markdown",
   "metadata": {},
   "source": [
    "4. 판정 : \n",
    "$$u_0 = -58.13667 < -1.645$$로 $H_0$ 기각.  \n",
    "따라서 ***유의수준 0.05***에서 $H_0$기각, 노광 1호기의 오픈발생률이 노광 2호기의 오픈발생률보다 작다고 할 수 있다."
   ]
  },
  {
   "cell_type": "markdown",
   "metadata": {},
   "source": [
    "#### 4호기 vs 5호기 (연식에 의한 차이)\n",
    "1. 가설\n",
    "    * $P_A$ : 4호기의 오픈발생률   \n",
    "    $P_B$ : 5호기의 오픈발생률  \n",
    "$$ H_0 : P_A = P_B$$\n",
    "$$ H_1 : P_A \\ne P_B$$"
   ]
  },
  {
   "cell_type": "markdown",
   "metadata": {},
   "source": [
    "2. 통계량 : $$u_0 = {\\hat{p_A} - \\hat{p_B} \\over \\sqrt{\\hat{p}(1-\\hat{p})({1 \\over n_A}+{1 \\over n_B})}}$$  \n",
    "    * $\\hat{p} = {x_A + x_B \\over n_A + n_B}$"
   ]
  },
  {
   "cell_type": "code",
   "execution_count": 210,
   "metadata": {},
   "outputs": [
    {
     "name": "stdout",
     "output_type": "stream",
     "text": [
      "---------- 노광4호기 ----------\n",
      "노광4호기 검사 수량 : 1534041.0\n",
      "노광4호기 오픈 발생 불량 수량 : 1281.902795\n",
      "\n",
      "pA hat:  0.0008356378969010607\n",
      "---------- 노광5호기 ----------\n",
      "노광5호기 검사 수량  : 19569580.0\n",
      "노광5호기 오픈 발생 불량 수량 : 20442.467485\n",
      "\n",
      "pB hat:  0.0010446043034648674\n",
      "-------------------------------\n",
      "p hat : 0.0010294143493194841\n",
      "검정통계량 u0 : -7.772053150691969\n"
     ]
    }
   ],
   "source": [
    "mach_lst = [\"노광4호기\",\"노광5호기\"]\n",
    "u_0 = get_u0(defect_4,defect_5,mach_lst,\"오픈\")"
   ]
  },
  {
   "cell_type": "markdown",
   "metadata": {},
   "source": [
    "3. 기각역 : $$u_0 > u_{1-\\alpha/2}$$ $$or$$ $$u_0 < -u_{1-\\alpha/2}$$  \n",
    "$\\alpha = 0.05$에서 $$u_0 > 1.96$$ $$or$$ $$u_0 < -1.96$$ 이면 $H_0$ 기각"
   ]
  },
  {
   "cell_type": "code",
   "execution_count": 211,
   "metadata": {
    "scrolled": true
   },
   "outputs": [
    {
     "name": "stdout",
     "output_type": "stream",
     "text": [
      "u0 :  -7.772053150691969\n"
     ]
    }
   ],
   "source": [
    "print(\"u0 : \",u_0)"
   ]
  },
  {
   "cell_type": "markdown",
   "metadata": {},
   "source": [
    "4. 판정 : \n",
    "$$u_0 = -7.772 < -1.96$$로 $H_0$ 기각.  \n",
    "따라서 ***유의수준 0.05***에서 $H_0$기각, 노광 4호기의 오픈발생률과 노광 5호기의 오픈발생률은 같다고 할 수 없다."
   ]
  },
  {
   "cell_type": "markdown",
   "metadata": {},
   "source": [
    "##### 가설 변경\n",
    "1. 가설\n",
    "    * $P_A$ : 4호기의 오픈발생률   \n",
    "    $P_B$ : 5호기의 오픈발생률  \n",
    "$$ H_0 : P_A \\ge P_B$$\n",
    "$$ H_1 : P_A < P_B$$"
   ]
  },
  {
   "cell_type": "markdown",
   "metadata": {},
   "source": [
    "2. 통계량 : 위와 동일"
   ]
  },
  {
   "cell_type": "code",
   "execution_count": 212,
   "metadata": {},
   "outputs": [
    {
     "name": "stdout",
     "output_type": "stream",
     "text": [
      "---------- 노광4호기 ----------\n",
      "노광4호기 검사 수량 : 1534041.0\n",
      "노광4호기 오픈 발생 불량 수량 : 1281.902795\n",
      "\n",
      "pA hat:  0.0008356378969010607\n",
      "---------- 노광5호기 ----------\n",
      "노광5호기 검사 수량  : 19569580.0\n",
      "노광5호기 오픈 발생 불량 수량 : 20442.467485\n",
      "\n",
      "pB hat:  0.0010446043034648674\n",
      "-------------------------------\n",
      "p hat : 0.0010294143493194841\n",
      "검정통계량 u0 : -7.772053150691969\n"
     ]
    }
   ],
   "source": [
    "mach_lst = [\"노광4호기\",\"노광5호기\"]\n",
    "u_0 = get_u0(defect_4,defect_5,mach_lst,\"오픈\")"
   ]
  },
  {
   "cell_type": "markdown",
   "metadata": {},
   "source": [
    "3. 기각역 : $$u_0 < -u_{1-\\alpha}$$  \n",
    "$\\alpha = 0.05$에서 $$u_0 < -1.645$$ 이면 $H_0$ 기각"
   ]
  },
  {
   "cell_type": "code",
   "execution_count": 213,
   "metadata": {},
   "outputs": [
    {
     "name": "stdout",
     "output_type": "stream",
     "text": [
      "u0 :  -7.772053150691969\n"
     ]
    }
   ],
   "source": [
    "print(\"u0 : \",u_0)"
   ]
  },
  {
   "cell_type": "markdown",
   "metadata": {},
   "source": [
    "4. 판정 : \n",
    "$$u_0 = -7.772 < -1.645$$로 $H_0$ 기각.  \n",
    "따라서 유의수준 ***0.05***에서 $H_0$기각, 노광 4호기의 오픈발생률이 노광 5호기의 오픈발생률보다 작다고 할 수 있다."
   ]
  },
  {
   "cell_type": "markdown",
   "metadata": {},
   "source": [
    "##### 4호기(5년)의 부적합품률 < 5호기(2년)의 부적합품률\n",
    "***현재 데이터로는 연식이 오래 될 수록 오픈 발생률이 높아 지는 것으로 보이지 않는다.***"
   ]
  },
  {
   "cell_type": "markdown",
   "metadata": {},
   "source": [
    "#### 1,2호기 vs 4,5호기 (기기 작동방식에 따른 차이)\n",
    "1. 가설\n",
    "    * $P_A$ : 1,2호기의 오픈발생률 -> 아날로그 방식   \n",
    "    $P_B$ : 4,5호기의 오픈발생률 -> 디지털 방식  \n",
    "$$ H_0 : P_A = P_B$$\n",
    "$$ H_1 : P_A \\ne P_B$$"
   ]
  },
  {
   "cell_type": "code",
   "execution_count": 214,
   "metadata": {},
   "outputs": [],
   "source": [
    "defect_A = pd.concat([defect_1,defect_2],axis = 0)\n",
    "defect_B = pd.concat([defect_4,defect_5],axis = 0)"
   ]
  },
  {
   "cell_type": "markdown",
   "metadata": {},
   "source": [
    "2. 통계량 : $$u_0 = {\\hat{p_A} - \\hat{p_B} \\over \\sqrt{\\hat{p}(1-\\hat{p})({1 \\over n_A}+{1 \\over n_B})}}$$  \n",
    "    * $\\hat{p} = {x_A + x_B \\over n_A + n_B}$"
   ]
  },
  {
   "cell_type": "code",
   "execution_count": 215,
   "metadata": {},
   "outputs": [
    {
     "name": "stdout",
     "output_type": "stream",
     "text": [
      "---------- 노광1,2호기 ----------\n",
      "노광1,2호기 검사 수량 : 9724952.0\n",
      "노광1,2호기 오픈 발생 불량 수량 : 8282.33152\n",
      "\n",
      "pA hat:  0.0008516578302905762\n",
      "---------- 노광4,5호기 ----------\n",
      "노광4,5호기 검사 수량  : 21103621.0\n",
      "노광4,5호기 오픈 발생 불량 수량 : 21724.370280000003\n",
      "\n",
      "pB hat:  0.0010294143493194841\n",
      "-------------------------------\n",
      "p hat : 0.0009733406019149833\n",
      "검정통계량 u0 : -14.70788039612484\n"
     ]
    }
   ],
   "source": [
    "mach_lst = [\"노광1,2호기\",\"노광4,5호기\"]\n",
    "u_0 = get_u0(defect_A,defect_B,mach_lst,\"오픈\")"
   ]
  },
  {
   "cell_type": "markdown",
   "metadata": {},
   "source": [
    "3. 기각역 : $$u_0 > u_{1-\\alpha/2}$$ $$or$$ $$u_0 < -u_{1-\\alpha/2}$$  \n",
    "$\\alpha = 0.05$에서 $$u_0 > 1.96$$ $$or$$ $$u_0 < -1.96$$ 이면 $H_0$ 기각"
   ]
  },
  {
   "cell_type": "code",
   "execution_count": 216,
   "metadata": {},
   "outputs": [
    {
     "name": "stdout",
     "output_type": "stream",
     "text": [
      "u0 :  -14.70788039612484\n"
     ]
    }
   ],
   "source": [
    "print(\"u0 : \",u_0)"
   ]
  },
  {
   "cell_type": "markdown",
   "metadata": {},
   "source": [
    "4. 판정 : \n",
    "$$u_0 = -14.70788 < -1.96$$로 $H_0$ 기각.  \n",
    "따라서 ***유의수준 0.05***에서 $H_0$기각, 노광 1,2호기의 오픈발생률과 노광 4,5호기의 오픈발생률은 같다고 할 수 없다."
   ]
  },
  {
   "cell_type": "markdown",
   "metadata": {},
   "source": [
    "##### 가설 변경\n",
    "1. 가설\n",
    "    * $P_A$ : 1,2호기의 오픈발생률 -> 아날로그 방식   \n",
    "    $P_B$ : 4,5호기의 오픈발생률 -> 디지털 방식  \n",
    "$$ H_0 : P_A \\ge P_B$$\n",
    "$$ H_1 : P_A < P_B$$"
   ]
  },
  {
   "cell_type": "markdown",
   "metadata": {},
   "source": [
    "2. 통계량 : 위와 동일"
   ]
  },
  {
   "cell_type": "code",
   "execution_count": 217,
   "metadata": {},
   "outputs": [
    {
     "name": "stdout",
     "output_type": "stream",
     "text": [
      "---------- 노광1,2호기 ----------\n",
      "노광1,2호기 검사 수량 : 9724952.0\n",
      "노광1,2호기 오픈 발생 불량 수량 : 8282.33152\n",
      "\n",
      "pA hat:  0.0008516578302905762\n",
      "---------- 노광4,5호기 ----------\n",
      "노광4,5호기 검사 수량  : 21103621.0\n",
      "노광4,5호기 오픈 발생 불량 수량 : 21724.370280000003\n",
      "\n",
      "pB hat:  0.0010294143493194841\n",
      "-------------------------------\n",
      "p hat : 0.0009733406019149833\n",
      "검정통계량 u0 : -14.70788039612484\n"
     ]
    }
   ],
   "source": [
    "mach_lst = [\"노광1,2호기\",\"노광4,5호기\"]\n",
    "u_0 = get_u0(defect_A,defect_B,mach_lst,\"오픈\")"
   ]
  },
  {
   "cell_type": "markdown",
   "metadata": {},
   "source": [
    "3. 기각역 : $$u_0 < -u_{1-\\alpha}$$  \n",
    "$\\alpha = 0.05$에서 $$u_0 < -1.645$$ 이면 $H_0$ 기각"
   ]
  },
  {
   "cell_type": "code",
   "execution_count": 218,
   "metadata": {},
   "outputs": [
    {
     "name": "stdout",
     "output_type": "stream",
     "text": [
      "u0 :  -14.70788039612484\n"
     ]
    }
   ],
   "source": [
    "print(\"u0 : \",u_0)"
   ]
  },
  {
   "cell_type": "markdown",
   "metadata": {},
   "source": [
    "4. 판정 : \n",
    "$$u_0 = -14.70788 < -1.645$$로 $H_0$ 기각.  \n",
    "따라서 유의수준 ***0.05***에서 $H_0$기각, 노광 1,2호기의 오픈발생률이 노광 4,5호기의 오픈발생률보다 작다고 할 수 있다."
   ]
  },
  {
   "cell_type": "markdown",
   "metadata": {},
   "source": [
    "##### 1,2호기(아날로그)의 부적합품률 < 4,5호기(디지털)의 부적합품률\n",
    "***현재 데이터로는 아날로그 방식의 노광기보다 디지털 방식의 노광기가 부적합 원인이 오픈인 부적합품을 더 많이 생산하는 것으로 보임***"
   ]
  },
  {
   "cell_type": "markdown",
   "metadata": {},
   "source": [
    "### 불량사유가 '슬릿(상)'인 부적합품률"
   ]
  },
  {
   "cell_type": "markdown",
   "metadata": {},
   "source": [
    "#### 1호기 vs 2호기\n",
    "1. 가설\n",
    "    * $P_A$ : 1호기의 슬릿(상)발생률   \n",
    "    $P_B$ : 2호기의 슬릿(상)발생률  \n",
    "$$ H_0 : P_A = P_B$$\n",
    "$$ H_1 : P_A \\ne P_B$$"
   ]
  },
  {
   "cell_type": "markdown",
   "metadata": {},
   "source": [
    "2. 통계량 : $$u_0 = {\\hat{p_A} - \\hat{p_B} \\over \\sqrt{\\hat{p}(1-\\hat{p})({1 \\over n_A}+{1 \\over n_B})}}$$  \n",
    "    * $\\hat{p} = {x_A + x_B \\over n_A + n_B}$"
   ]
  },
  {
   "cell_type": "code",
   "execution_count": 219,
   "metadata": {},
   "outputs": [
    {
     "name": "stdout",
     "output_type": "stream",
     "text": [
      "---------- 노광1호기 ----------\n",
      "노광1호기 검사 수량 : 5213464.0\n",
      "노광1호기 슬릿(상) 발생 불량 수량 : 1436.0469579999997\n",
      "\n",
      "pA hat:  0.0002754496737677674\n",
      "---------- 노광2호기 ----------\n",
      "노광2호기 검사 수량  : 4511488.0\n",
      "노광2호기 슬릿(상) 발생 불량 수량 : 945.9827479999999\n",
      "\n",
      "pB hat:  0.0002096830908117233\n",
      "-------------------------------\n",
      "p hat : 0.0002449399962076933\n",
      "검정통계량 u0 : 6.53593882234717\n"
     ]
    }
   ],
   "source": [
    "mach_lst = [\"노광1호기\",\"노광2호기\"]\n",
    "u_0 = get_u0(defect_1,defect_2,mach_lst,\"슬릿(상)\")"
   ]
  },
  {
   "cell_type": "markdown",
   "metadata": {},
   "source": [
    "3. 기각역 : $$u_0 > u_{1-\\alpha/2}$$ $$or$$ $$u_0 < -u_{1-\\alpha/2}$$  \n",
    "$\\alpha = 0.05$에서 $$u_0 > 1.96$$ $$or$$ $$u_0 < -1.96$$ 이면 $H_0$ 기각"
   ]
  },
  {
   "cell_type": "code",
   "execution_count": 220,
   "metadata": {},
   "outputs": [
    {
     "name": "stdout",
     "output_type": "stream",
     "text": [
      "u0 :  6.53593882234717\n"
     ]
    }
   ],
   "source": [
    "print(\"u0 : \",u_0)"
   ]
  },
  {
   "cell_type": "markdown",
   "metadata": {},
   "source": [
    "4. 판정 : \n",
    "$$u_0 = 4.38562 > 1.96$$으로 $H_0$ 기각.  \n",
    "따라서 ***유의수준 0.05***에서 $H_0$기각, 노광 1호기의 슬릿(상)발생률과 노광 2호기의 슬릿(상)발생률은 같다고 할 수 없다."
   ]
  },
  {
   "cell_type": "markdown",
   "metadata": {},
   "source": [
    "##### 가설 변경\n",
    "1. 가설\n",
    "    * $P_A$ : 1호기의 슬릿(상)발생률   \n",
    "    $P_B$ : 2호기의 슬릿(상)발생률  \n",
    "$$ H_0 : P_A \\le P_B$$\n",
    "$$ H_1 : P_A > P_B$$"
   ]
  },
  {
   "cell_type": "markdown",
   "metadata": {},
   "source": [
    "2. 통계량 : $$u_0 = {\\hat{p_A} - \\hat{p_B} \\over \\sqrt{\\hat{p}(1-\\hat{p})({1 \\over n_A}+{1 \\over n_B})}}$$  \n",
    "    * $\\hat{p} = {x_A + x_B \\over n_A + n_B}$"
   ]
  },
  {
   "cell_type": "code",
   "execution_count": 221,
   "metadata": {},
   "outputs": [
    {
     "name": "stdout",
     "output_type": "stream",
     "text": [
      "---------- 노광1호기 ----------\n",
      "노광1호기 검사 수량 : 5213464.0\n",
      "노광1호기 슬릿(상) 발생 불량 수량 : 1436.0469579999997\n",
      "\n",
      "pA hat:  0.0002754496737677674\n",
      "---------- 노광2호기 ----------\n",
      "노광2호기 검사 수량  : 4511488.0\n",
      "노광2호기 슬릿(상) 발생 불량 수량 : 945.9827479999999\n",
      "\n",
      "pB hat:  0.0002096830908117233\n",
      "-------------------------------\n",
      "p hat : 0.0002449399962076933\n",
      "검정통계량 u0 : 6.53593882234717\n"
     ]
    }
   ],
   "source": [
    "mach_lst = [\"노광1호기\",\"노광2호기\"]\n",
    "u_0 = get_u0(defect_1,defect_2,mach_lst,\"슬릿(상)\")"
   ]
  },
  {
   "cell_type": "markdown",
   "metadata": {},
   "source": [
    "3. 기각역 : $$u_0 > u_{1-\\alpha}$$  \n",
    "$\\alpha = 0.05$에서 $$u_0 > 1.645$$ 이면 $H_0$ 기각"
   ]
  },
  {
   "cell_type": "code",
   "execution_count": 222,
   "metadata": {},
   "outputs": [
    {
     "name": "stdout",
     "output_type": "stream",
     "text": [
      "u0 :  6.53593882234717\n"
     ]
    }
   ],
   "source": [
    "print(\"u0 : \",u_0)"
   ]
  },
  {
   "cell_type": "markdown",
   "metadata": {},
   "source": [
    "4. 판정 : \n",
    "$$u_0 = 6.5359 > 1.645$$로 $H_0$ 기각.  \n",
    "따라서 ***유의수준 0.05***에서 $H_0$기각, 노광 1호기의 슬릿(상)발생률이 노광 2호기의 슬릿(상)발생률보다 크다고 할 수 있다."
   ]
  },
  {
   "cell_type": "markdown",
   "metadata": {},
   "source": [
    "#### 4호기 vs 5호기 (연식에 의한 차이)\n",
    "1. 가설\n",
    "    * $P_A$ : 4호기의 슬릿(상)발생률   \n",
    "    $P_B$ : 5호기의 슬릿(상)발생률  \n",
    "$$ H_0 : P_A = P_B$$\n",
    "$$ H_1 : P_A \\ne P_B$$"
   ]
  },
  {
   "cell_type": "markdown",
   "metadata": {},
   "source": [
    "2. 통계량 : $$u_0 = {\\hat{p_A} - \\hat{p_B} \\over \\sqrt{\\hat{p}(1-\\hat{p})({1 \\over n_A}+{1 \\over n_B})}}$$  \n",
    "    * $\\hat{p} = {x_A + x_B \\over n_A + n_B}$"
   ]
  },
  {
   "cell_type": "code",
   "execution_count": 223,
   "metadata": {},
   "outputs": [
    {
     "name": "stdout",
     "output_type": "stream",
     "text": [
      "---------- 노광4호기 ----------\n",
      "노광4호기 검사 수량 : 1534041.0\n",
      "노광4호기 슬릿(상) 발생 불량 수량 : 222.063354\n",
      "\n",
      "pA hat:  0.00014475711796490447\n",
      "---------- 노광5호기 ----------\n",
      "노광5호기 검사 수량  : 19569580.0\n",
      "노광5호기 슬릿(상) 발생 불량 수량 : 4476.895627999999\n",
      "\n",
      "pB hat:  0.00022876809967306398\n",
      "-------------------------------\n",
      "p hat : 0.00022266126661391422\n",
      "검정통계량 u0 : -6.715723767697492\n"
     ]
    }
   ],
   "source": [
    "mach_lst = [\"노광4호기\",\"노광5호기\"]\n",
    "u_0 = get_u0(defect_4,defect_5,mach_lst,\"슬릿(상)\")"
   ]
  },
  {
   "cell_type": "markdown",
   "metadata": {},
   "source": [
    "3. 기각역 : $$u_0 > u_{1-\\alpha/2}$$ $$or$$ $$u_0 < -u_{1-\\alpha/2}$$  \n",
    "$\\alpha = 0.05$에서 $$u_0 > 1.96$$ $$or$$ $$u_0 < -1.96$$ 이면 $H_0$ 기각"
   ]
  },
  {
   "cell_type": "code",
   "execution_count": 224,
   "metadata": {
    "scrolled": true
   },
   "outputs": [
    {
     "name": "stdout",
     "output_type": "stream",
     "text": [
      "u0 :  -6.715723767697492\n"
     ]
    }
   ],
   "source": [
    "print(\"u0 : \",u_0)"
   ]
  },
  {
   "cell_type": "markdown",
   "metadata": {},
   "source": [
    "4. 판정 : \n",
    "$$u_0 = -6.71572 < -1.96$$로 $H_0$ 기각.  \n",
    "따라서 ***유의수준 0.05***에서 $H_0$기각, 노광 4호기의 슬릿(상)발생률과 노광 5호기의 슬릿(상)발생률은 같다고 할 수 없다."
   ]
  },
  {
   "cell_type": "markdown",
   "metadata": {},
   "source": [
    "##### 가설 변경\n",
    "1. 가설\n",
    "    * $P_A$ : 4호기의 슬릿(상)발생률   \n",
    "    $P_B$ : 5호기의 슬릿(상)발생률  \n",
    "$$ H_0 : P_A \\ge P_B$$\n",
    "$$ H_1 : P_A < P_B$$"
   ]
  },
  {
   "cell_type": "markdown",
   "metadata": {},
   "source": [
    "2. 통계량 : 위와 동일"
   ]
  },
  {
   "cell_type": "code",
   "execution_count": 225,
   "metadata": {},
   "outputs": [
    {
     "name": "stdout",
     "output_type": "stream",
     "text": [
      "---------- 노광4호기 ----------\n",
      "노광4호기 검사 수량 : 1534041.0\n",
      "노광4호기 슬릿(상) 발생 불량 수량 : 222.063354\n",
      "\n",
      "pA hat:  0.00014475711796490447\n",
      "---------- 노광5호기 ----------\n",
      "노광5호기 검사 수량  : 19569580.0\n",
      "노광5호기 슬릿(상) 발생 불량 수량 : 4476.895627999999\n",
      "\n",
      "pB hat:  0.00022876809967306398\n",
      "-------------------------------\n",
      "p hat : 0.00022266126661391422\n",
      "검정통계량 u0 : -6.715723767697492\n"
     ]
    }
   ],
   "source": [
    "mach_lst = [\"노광4호기\",\"노광5호기\"]\n",
    "u_0 = get_u0(defect_4,defect_5,mach_lst,\"슬릿(상)\")"
   ]
  },
  {
   "cell_type": "markdown",
   "metadata": {},
   "source": [
    "3. 기각역 : $$u_0 < -u_{1-\\alpha}$$  \n",
    "$\\alpha = 0.05$에서 $$u_0 < -1.645$$ 이면 $H_0$ 기각"
   ]
  },
  {
   "cell_type": "code",
   "execution_count": 226,
   "metadata": {},
   "outputs": [
    {
     "name": "stdout",
     "output_type": "stream",
     "text": [
      "u0 :  -6.715723767697492\n"
     ]
    }
   ],
   "source": [
    "print(\"u0 : \",u_0)"
   ]
  },
  {
   "cell_type": "markdown",
   "metadata": {},
   "source": [
    "4. 판정 : \n",
    "$$u_0 = -6.7157 < -1.645$$로 $H_0$ 기각.  \n",
    "따라서 유의수준 ***0.05***에서 $H_0$기각, 노광 4호기의 슬릿(상)발생률이 노광 5호기의 슬릿(상)발생률보다 작다고 할 수 있다."
   ]
  },
  {
   "cell_type": "markdown",
   "metadata": {},
   "source": [
    "##### 4호기(5년)의 부적합품률 < 5호기(2년)의 부적합품률\n",
    "***현재 데이터로는 연식이 오래 될 수록 슬릿(상)발생률이 높아 지는 것으로 보이지 않는다.***"
   ]
  },
  {
   "cell_type": "markdown",
   "metadata": {},
   "source": [
    "#### 1,2호기 vs 4,5호기 (기기 작동방식에 따른 차이)\n",
    "1. 가설\n",
    "    * $P_A$ : 1,2호기의 슬릿(상)발생률 -> 아날로그 방식   \n",
    "    $P_B$ : 4,5호기의 슬릿(상)발생률 -> 디지털 방식  \n",
    "$$ H_0 : P_A = P_B$$\n",
    "$$ H_1 : P_A \\ne P_B$$"
   ]
  },
  {
   "cell_type": "code",
   "execution_count": 227,
   "metadata": {},
   "outputs": [],
   "source": [
    "defect_A = pd.concat([defect_1,defect_2],axis = 0)\n",
    "defect_B = pd.concat([defect_4,defect_5],axis = 0)"
   ]
  },
  {
   "cell_type": "markdown",
   "metadata": {},
   "source": [
    "2. 통계량 : $$u_0 = {\\hat{p_A} - \\hat{p_B} \\over \\sqrt{\\hat{p}(1-\\hat{p})({1 \\over n_A}+{1 \\over n_B})}}$$  \n",
    "    * $\\hat{p} = {x_A + x_B \\over n_A + n_B}$"
   ]
  },
  {
   "cell_type": "code",
   "execution_count": 228,
   "metadata": {},
   "outputs": [
    {
     "name": "stdout",
     "output_type": "stream",
     "text": [
      "---------- 노광1,2호기 ----------\n",
      "노광1,2호기 검사 수량 : 9724952.0\n",
      "노광1,2호기 슬릿(상) 발생 불량 수량 : 2382.029706\n",
      "\n",
      "pA hat:  0.00024493999620769333\n",
      "---------- 노광4,5호기 ----------\n",
      "노광4,5호기 검사 수량  : 21103621.0\n",
      "노광4,5호기 슬릿(상) 발생 불량 수량 : 4698.958982\n",
      "\n",
      "pB hat:  0.00022266126661391427\n",
      "-------------------------------\n",
      "p hat : 0.00022968914869981168\n",
      "검정통계량 u0 : 3.793285899966636\n"
     ]
    }
   ],
   "source": [
    "mach_lst = [\"노광1,2호기\",\"노광4,5호기\"]\n",
    "u_0 = get_u0(defect_A,defect_B,mach_lst,\"슬릿(상)\")"
   ]
  },
  {
   "cell_type": "markdown",
   "metadata": {},
   "source": [
    "3. 기각역 : $$u_0 > u_{1-\\alpha/2}$$ $$or$$ $$u_0 < -u_{1-\\alpha/2}$$  \n",
    "$\\alpha = 0.05$에서 $$u_0 > 1.96$$ $$or$$ $$u_0 < -1.96$$ 이면 $H_0$ 기각"
   ]
  },
  {
   "cell_type": "code",
   "execution_count": 229,
   "metadata": {},
   "outputs": [
    {
     "name": "stdout",
     "output_type": "stream",
     "text": [
      "u0 :  3.793285899966636\n"
     ]
    }
   ],
   "source": [
    "print(\"u0 : \",u_0)"
   ]
  },
  {
   "cell_type": "markdown",
   "metadata": {},
   "source": [
    "4. 판정 : \n",
    "$$u_0 = 3.793286> 1.96$$로 $H_0$ 기각.  \n",
    "따라서 ***유의수준 0.05***에서 $H_0$기각, 노광 1,2호기의 슬릿(상)발생률과 노광 4,5호기의 슬릿(상)발생률은 같다고 할 수 없다."
   ]
  },
  {
   "cell_type": "markdown",
   "metadata": {},
   "source": [
    "##### 가설 변경\n",
    "1. 가설\n",
    "    * $P_A$ : 1,2호기의 슬릿(상)발생률 -> 아날로그 방식   \n",
    "    $P_B$ : 4,5호기의 슬릿(상)발생률 -> 디지털 방식  \n",
    "$$ H_0 : P_A \\le P_B$$\n",
    "$$ H_1 : P_A > P_B$$"
   ]
  },
  {
   "cell_type": "markdown",
   "metadata": {},
   "source": [
    "2. 통계량 : 위와 동일"
   ]
  },
  {
   "cell_type": "code",
   "execution_count": 230,
   "metadata": {},
   "outputs": [
    {
     "name": "stdout",
     "output_type": "stream",
     "text": [
      "---------- 노광1,2호기 ----------\n",
      "노광1,2호기 검사 수량 : 9724952.0\n",
      "노광1,2호기 슬릿(상) 발생 불량 수량 : 2382.029706\n",
      "\n",
      "pA hat:  0.00024493999620769333\n",
      "---------- 노광4,5호기 ----------\n",
      "노광4,5호기 검사 수량  : 21103621.0\n",
      "노광4,5호기 슬릿(상) 발생 불량 수량 : 4698.958982\n",
      "\n",
      "pB hat:  0.00022266126661391427\n",
      "-------------------------------\n",
      "p hat : 0.00022968914869981168\n",
      "검정통계량 u0 : 3.793285899966636\n"
     ]
    }
   ],
   "source": [
    "mach_lst = [\"노광1,2호기\",\"노광4,5호기\"]\n",
    "u_0 = get_u0(defect_A,defect_B,mach_lst,\"슬릿(상)\")"
   ]
  },
  {
   "cell_type": "markdown",
   "metadata": {},
   "source": [
    "3. 기각역 : $$u_0 > u_{1-\\alpha}$$  \n",
    "$\\alpha = 0.05$에서 $$u_0 > 1.645$$ 이면 $H_0$ 기각"
   ]
  },
  {
   "cell_type": "code",
   "execution_count": 231,
   "metadata": {},
   "outputs": [
    {
     "name": "stdout",
     "output_type": "stream",
     "text": [
      "u0 :  3.793285899966636\n"
     ]
    }
   ],
   "source": [
    "print(\"u0 : \",u_0)"
   ]
  },
  {
   "cell_type": "markdown",
   "metadata": {},
   "source": [
    "4. 판정 : \n",
    "$$u_0 = 3.793286 > 1.645$$로 $H_0$ 기각.  \n",
    "따라서 유의수준 ***0.05***에서 $H_0$기각, 노광 1,2호기의 슬릿(상)발생률이 노광 4,5호기의 슬릿(상)발생률보다 크다고 할 수 있다."
   ]
  },
  {
   "cell_type": "markdown",
   "metadata": {},
   "source": [
    "##### 1,2호기(아날로그)의 부적합품률 < 4,5호기(디지털)의 부적합품률\n",
    "***현재 데이터로는 아날로그 방식의 노광기가 디지털 방식의 노광기보다 부적합 원인이 슬릿(상)인 부적합품을 더 많이 생산하는 것으로 보임***"
   ]
  },
  {
   "cell_type": "markdown",
   "metadata": {},
   "source": [
    "### 불량사유가 '슬릿(하)'인 부적합품률"
   ]
  },
  {
   "cell_type": "markdown",
   "metadata": {},
   "source": [
    "#### 1호기 vs 2호기\n",
    "1. 가설\n",
    "    * $P_A$ : 1호기의 슬릿(하)발생률   \n",
    "    $P_B$ : 2호기의 슬릿(하)발생률  \n",
    "$$ H_0 : P_A = P_B$$\n",
    "$$ H_1 : P_A \\ne P_B$$"
   ]
  },
  {
   "cell_type": "markdown",
   "metadata": {},
   "source": [
    "2. 통계량 : $$u_0 = {\\hat{p_A} - \\hat{p_B} \\over \\sqrt{\\hat{p}(1-\\hat{p})({1 \\over n_A}+{1 \\over n_B})}}$$  \n",
    "    * $\\hat{p} = {x_A + x_B \\over n_A + n_B}$"
   ]
  },
  {
   "cell_type": "code",
   "execution_count": 232,
   "metadata": {},
   "outputs": [
    {
     "name": "stdout",
     "output_type": "stream",
     "text": [
      "---------- 노광1호기 ----------\n",
      "노광1호기 검사 수량 : 5213464.0\n",
      "노광1호기 슬릿(하) 발생 불량 수량 : 2581.048841\n",
      "\n",
      "pA hat:  0.0004950736863244859\n",
      "---------- 노광2호기 ----------\n",
      "노광2호기 검사 수량  : 4511488.0\n",
      "노광2호기 슬릿(하) 발생 불량 수량 : 2774.084157999999\n",
      "\n",
      "pB hat:  0.0006148933917146625\n",
      "-------------------------------\n",
      "p hat : 0.000550659067417505\n",
      "검정통계량 u0 : -7.943022934907598\n"
     ]
    }
   ],
   "source": [
    "mach_lst = [\"노광1호기\",\"노광2호기\"]\n",
    "u_0 = get_u0(defect_1,defect_2,mach_lst,\"슬릿(하)\")"
   ]
  },
  {
   "cell_type": "markdown",
   "metadata": {},
   "source": [
    "3. 기각역 : $$u_0 > u_{1-\\alpha/2}$$ $$or$$ $$u_0 < -u_{1-\\alpha/2}$$  \n",
    "$\\alpha = 0.05$에서 $$u_0 > 1.96$$ $$or$$ $$u_0 < -1.96$$ 이면 $H_0$ 기각"
   ]
  },
  {
   "cell_type": "code",
   "execution_count": 233,
   "metadata": {},
   "outputs": [
    {
     "name": "stdout",
     "output_type": "stream",
     "text": [
      "u0 :  -7.943022934907598\n"
     ]
    }
   ],
   "source": [
    "print(\"u0 : \",u_0)"
   ]
  },
  {
   "cell_type": "markdown",
   "metadata": {},
   "source": [
    "4. 판정 : \n",
    "$$u_0 = -7.94302 < -1.96$$으로 $H_0$ 기각.  \n",
    "따라서 ***유의수준 0.05***에서 $H_0$기각, 노광 1호기의 슬릿(하)발생률과 노광 2호기의 슬릿(하)발생률은 같다고 할 수 없다."
   ]
  },
  {
   "cell_type": "markdown",
   "metadata": {},
   "source": [
    "##### 가설 변경\n",
    "1. 가설\n",
    "    * $P_A$ : 1호기의 슬릿(하)발생률   \n",
    "    $P_B$ : 2호기의 슬릿(하)발생률  \n",
    "$$ H_0 : P_A \\ge P_B$$\n",
    "$$ H_1 : P_A < P_B$$"
   ]
  },
  {
   "cell_type": "markdown",
   "metadata": {},
   "source": [
    "2. 통계량 : $$u_0 = {\\hat{p_A} - \\hat{p_B} \\over \\sqrt{\\hat{p}(1-\\hat{p})({1 \\over n_A}+{1 \\over n_B})}}$$  \n",
    "    * $\\hat{p} = {x_A + x_B \\over n_A + n_B}$"
   ]
  },
  {
   "cell_type": "code",
   "execution_count": 234,
   "metadata": {},
   "outputs": [
    {
     "name": "stdout",
     "output_type": "stream",
     "text": [
      "---------- 노광1호기 ----------\n",
      "노광1호기 검사 수량 : 5213464.0\n",
      "노광1호기 슬릿(하) 발생 불량 수량 : 2581.048841\n",
      "\n",
      "pA hat:  0.0004950736863244859\n",
      "---------- 노광2호기 ----------\n",
      "노광2호기 검사 수량  : 4511488.0\n",
      "노광2호기 슬릿(하) 발생 불량 수량 : 2774.084157999999\n",
      "\n",
      "pB hat:  0.0006148933917146625\n",
      "-------------------------------\n",
      "p hat : 0.000550659067417505\n",
      "검정통계량 u0 : -7.943022934907598\n"
     ]
    }
   ],
   "source": [
    "mach_lst = [\"노광1호기\",\"노광2호기\"]\n",
    "u_0 = get_u0(defect_1,defect_2,mach_lst,\"슬릿(하)\")"
   ]
  },
  {
   "cell_type": "markdown",
   "metadata": {},
   "source": [
    "3. 기각역 : $$u_0 < -u_{1-\\alpha}$$  \n",
    "$\\alpha = 0.05$에서 $$u_0 < -1.645$$ 이면 $H_0$ 기각"
   ]
  },
  {
   "cell_type": "code",
   "execution_count": 235,
   "metadata": {},
   "outputs": [
    {
     "name": "stdout",
     "output_type": "stream",
     "text": [
      "u0 :  -7.943022934907598\n"
     ]
    }
   ],
   "source": [
    "print(\"u0 : \",u_0)"
   ]
  },
  {
   "cell_type": "markdown",
   "metadata": {},
   "source": [
    "4. 판정 : \n",
    "$$u_0 = -7.94302 < -1.645$$로 $H_0$ 기각.  \n",
    "따라서 ***유의수준 0.05***에서 $H_0$기각, 노광 1호기의 슬릿(하)발생률이 노광 2호기의 슬릿(하)발생률보다 작다고 할 수 있다."
   ]
  },
  {
   "cell_type": "markdown",
   "metadata": {},
   "source": [
    "#### 4호기 vs 5호기 (연식에 의한 차이)\n",
    "1. 가설\n",
    "    * $P_A$ : 4호기의 슬릿(하)발생률   \n",
    "    $P_B$ : 5호기의 슬릿(하)발생률  \n",
    "$$ H_0 : P_A = P_B$$\n",
    "$$ H_1 : P_A \\ne P_B$$"
   ]
  },
  {
   "cell_type": "markdown",
   "metadata": {},
   "source": [
    "2. 통계량 : $$u_0 = {\\hat{p_A} - \\hat{p_B} \\over \\sqrt{\\hat{p}(1-\\hat{p})({1 \\over n_A}+{1 \\over n_B})}}$$  \n",
    "    * $\\hat{p} = {x_A + x_B \\over n_A + n_B}$"
   ]
  },
  {
   "cell_type": "code",
   "execution_count": 236,
   "metadata": {},
   "outputs": [
    {
     "name": "stdout",
     "output_type": "stream",
     "text": [
      "---------- 노광4호기 ----------\n",
      "노광4호기 검사 수량 : 1534041.0\n",
      "노광4호기 슬릿(하) 발생 불량 수량 : 1015.01794\n",
      "\n",
      "pA hat:  0.0006616628499499036\n",
      "---------- 노광5호기 ----------\n",
      "노광5호기 검사 수량  : 19569580.0\n",
      "노광5호기 슬릿(하) 발생 불량 수량 : 12629.612895999999\n",
      "\n",
      "pB hat:  0.0006453696449285063\n",
      "-------------------------------\n",
      "p hat : 0.0006465540125080904\n",
      "검정통계량 u0 : 0.7644961562587734\n"
     ]
    }
   ],
   "source": [
    "mach_lst = [\"노광4호기\",\"노광5호기\"]\n",
    "u_0 = get_u0(defect_4,defect_5,mach_lst,\"슬릿(하)\")"
   ]
  },
  {
   "cell_type": "markdown",
   "metadata": {},
   "source": [
    "3. 기각역 : $$u_0 > u_{1-\\alpha/2}$$ $$or$$ $$u_0 < -u_{1-\\alpha/2}$$  \n",
    "$\\alpha = 0.05$에서 $$u_0 > 1.96$$ $$or$$ $$u_0 < -1.96$$ 이면 $H_0$ 기각"
   ]
  },
  {
   "cell_type": "code",
   "execution_count": 237,
   "metadata": {
    "scrolled": true
   },
   "outputs": [
    {
     "name": "stdout",
     "output_type": "stream",
     "text": [
      "u0 :  0.7644961562587734\n"
     ]
    }
   ],
   "source": [
    "print(\"u0 : \",u_0)"
   ]
  },
  {
   "cell_type": "markdown",
   "metadata": {},
   "source": [
    "4. 판정 : \n",
    "$$-1.96 < u_0 = 0.764496 < 1.96$$로 $H_0$ 채택.  \n",
    "따라서 ***유의수준 0.05***에서 $H_0$채택, 노광 4호기의 슬릿(하)발생률과 노광 5호기의 슬릿(하)발생률은 같다고 할 수 있다."
   ]
  },
  {
   "cell_type": "markdown",
   "metadata": {},
   "source": [
    "##### 4호기(5년)의 부적합품률 = 5호기(2년)의 부적합품률\n",
    "***현재 데이터로는 연식에 상관없이 슬릿(하)발생률은 같은 것으로 보인다.***"
   ]
  },
  {
   "cell_type": "markdown",
   "metadata": {},
   "source": [
    "#### 1,2호기 vs 4,5호기 (기기 작동방식에 따른 차이)\n",
    "1. 가설\n",
    "    * $P_A$ : 1,2호기의 슬릿(하)발생률 -> 아날로그 방식   \n",
    "    $P_B$ : 4,5호기의 슬릿(하)발생률 -> 디지털 방식  \n",
    "$$ H_0 : P_A = P_B$$\n",
    "$$ H_1 : P_A \\ne P_B$$"
   ]
  },
  {
   "cell_type": "code",
   "execution_count": 238,
   "metadata": {},
   "outputs": [],
   "source": [
    "defect_A = pd.concat([defect_1,defect_2],axis = 0)\n",
    "defect_B = pd.concat([defect_4,defect_5],axis = 0)"
   ]
  },
  {
   "cell_type": "markdown",
   "metadata": {},
   "source": [
    "2. 통계량 : $$u_0 = {\\hat{p_A} - \\hat{p_B} \\over \\sqrt{\\hat{p}(1-\\hat{p})({1 \\over n_A}+{1 \\over n_B})}}$$  \n",
    "    * $\\hat{p} = {x_A + x_B \\over n_A + n_B}$"
   ]
  },
  {
   "cell_type": "code",
   "execution_count": 239,
   "metadata": {},
   "outputs": [
    {
     "name": "stdout",
     "output_type": "stream",
     "text": [
      "---------- 노광1,2호기 ----------\n",
      "노광1,2호기 검사 수량 : 9724952.0\n",
      "노광1,2호기 슬릿(하) 발생 불량 수량 : 5355.1329989999995\n",
      "\n",
      "pA hat:  0.000550659067417505\n",
      "---------- 노광4,5호기 ----------\n",
      "노광4,5호기 검사 수량  : 21103621.0\n",
      "노광4,5호기 슬릿(하) 발생 불량 수량 : 13644.630836000006\n",
      "\n",
      "pB hat:  0.0006465540125080907\n",
      "-------------------------------\n",
      "p hat : 0.000616303707440497\n",
      "검정통계량 u0 : -9.969599358045778\n"
     ]
    }
   ],
   "source": [
    "mach_lst = [\"노광1,2호기\",\"노광4,5호기\"]\n",
    "u_0 = get_u0(defect_A,defect_B,mach_lst,\"슬릿(하)\")"
   ]
  },
  {
   "cell_type": "markdown",
   "metadata": {},
   "source": [
    "3. 기각역 : $$u_0 > u_{1-\\alpha/2}$$ $$or$$ $$u_0 < -u_{1-\\alpha/2}$$  \n",
    "$\\alpha = 0.05$에서 $$u_0 > 1.96$$ $$or$$ $$u_0 < -1.96$$ 이면 $H_0$ 기각"
   ]
  },
  {
   "cell_type": "code",
   "execution_count": 240,
   "metadata": {},
   "outputs": [
    {
     "name": "stdout",
     "output_type": "stream",
     "text": [
      "u0 :  -9.969599358045778\n"
     ]
    }
   ],
   "source": [
    "print(\"u0 : \",u_0)"
   ]
  },
  {
   "cell_type": "markdown",
   "metadata": {},
   "source": [
    "4. 판정 : \n",
    "$$u_0 = -9.9696 < -1.96$$로 $H_0$ 기각.  \n",
    "따라서 ***유의수준 0.05***에서 $H_0$기각, 노광 1,2호기의 슬릿(하)발생률과 노광 4,5호기의 슬릿(하)발생률은 같다고 할 수 없다."
   ]
  },
  {
   "cell_type": "markdown",
   "metadata": {},
   "source": [
    "##### 가설 변경\n",
    "1. 가설\n",
    "    * $P_A$ : 1,2호기의 슬릿(하)발생률 -> 아날로그 방식   \n",
    "    $P_B$ : 4,5호기의 슬릿(하)발생률 -> 디지털 방식  \n",
    "$$ H_0 : P_A \\ge P_B$$\n",
    "$$ H_1 : P_A < P_B$$"
   ]
  },
  {
   "cell_type": "markdown",
   "metadata": {},
   "source": [
    "2. 통계량 : 위와 동일"
   ]
  },
  {
   "cell_type": "code",
   "execution_count": 241,
   "metadata": {},
   "outputs": [
    {
     "name": "stdout",
     "output_type": "stream",
     "text": [
      "---------- 노광1,2호기 ----------\n",
      "노광1,2호기 검사 수량 : 9724952.0\n",
      "노광1,2호기 슬릿(하) 발생 불량 수량 : 5355.1329989999995\n",
      "\n",
      "pA hat:  0.000550659067417505\n",
      "---------- 노광4,5호기 ----------\n",
      "노광4,5호기 검사 수량  : 21103621.0\n",
      "노광4,5호기 슬릿(하) 발생 불량 수량 : 13644.630836000006\n",
      "\n",
      "pB hat:  0.0006465540125080907\n",
      "-------------------------------\n",
      "p hat : 0.000616303707440497\n",
      "검정통계량 u0 : -9.969599358045778\n"
     ]
    }
   ],
   "source": [
    "mach_lst = [\"노광1,2호기\",\"노광4,5호기\"]\n",
    "u_0 = get_u0(defect_A,defect_B,mach_lst,\"슬릿(하)\")"
   ]
  },
  {
   "cell_type": "markdown",
   "metadata": {},
   "source": [
    "3. 기각역 : $$u_0 < -u_{1-\\alpha}$$  \n",
    "$\\alpha = 0.05$에서 $$u_0 < -1.645$$ 이면 $H_0$ 기각"
   ]
  },
  {
   "cell_type": "code",
   "execution_count": 242,
   "metadata": {},
   "outputs": [
    {
     "name": "stdout",
     "output_type": "stream",
     "text": [
      "u0 :  -9.969599358045778\n"
     ]
    }
   ],
   "source": [
    "print(\"u0 : \",u_0)"
   ]
  },
  {
   "cell_type": "markdown",
   "metadata": {},
   "source": [
    "4. 판정 : \n",
    "$$u_0 = -9.9696 < -1.645$$로 $H_0$ 기각.  \n",
    "따라서 유의수준 ***0.05***에서 $H_0$기각, 노광 1,2호기의 슬릿(상)발생률이 노광 4,5호기의 슬릿(상)발생률보다 작다고 할 수 있다."
   ]
  },
  {
   "cell_type": "markdown",
   "metadata": {},
   "source": [
    "##### 1,2호기(아날로그)의 부적합품률 < 4,5호기(디지털)의 부적합품률\n",
    "***현재 데이터로는 디지털 방식의 노광기가 아날로그 방식의 노광기보다 부적합 원인이 슬릿(하)인 부적합품을 더 많이 생산하는 것으로 보임***"
   ]
  },
  {
   "cell_type": "markdown",
   "metadata": {},
   "source": [
    "### 불량사유가 '쇼트'인 부적합품률"
   ]
  },
  {
   "cell_type": "markdown",
   "metadata": {},
   "source": [
    "#### 1호기 vs 2호기\n",
    "1. 가설\n",
    "    * $P_A$ : 1호기의 쇼트발생률   \n",
    "    $P_B$ : 2호기의 쇼트발생률  \n",
    "$$ H_0 : P_A = P_B$$\n",
    "$$ H_1 : P_A \\ne P_B$$"
   ]
  },
  {
   "cell_type": "markdown",
   "metadata": {},
   "source": [
    "2. 통계량 : $$u_0 = {\\hat{p_A} - \\hat{p_B} \\over \\sqrt{\\hat{p}(1-\\hat{p})({1 \\over n_A}+{1 \\over n_B})}}$$  \n",
    "    * $\\hat{p} = {x_A + x_B \\over n_A + n_B}$"
   ]
  },
  {
   "cell_type": "code",
   "execution_count": 243,
   "metadata": {},
   "outputs": [
    {
     "name": "stdout",
     "output_type": "stream",
     "text": [
      "---------- 노광1호기 ----------\n",
      "노광1호기 검사 수량 : 5213464.0\n",
      "노광1호기 쇼트 발생 불량 수량 : 5034.455254\n",
      "\n",
      "pA hat:  0.0009656641446071174\n",
      "---------- 노광2호기 ----------\n",
      "노광2호기 검사 수량  : 4511488.0\n",
      "노광2호기 쇼트 발생 불량 수량 : 4376.910098\n",
      "\n",
      "pB hat:  0.0009701699523527493\n",
      "-------------------------------\n",
      "p hat : 0.000967754427168381\n",
      "검정통계량 u0 : -0.22536147703300966\n"
     ]
    }
   ],
   "source": [
    "mach_lst = [\"노광1호기\",\"노광2호기\"]\n",
    "u_0 = get_u0(defect_1,defect_2,mach_lst,\"쇼트\")"
   ]
  },
  {
   "cell_type": "markdown",
   "metadata": {},
   "source": [
    "3. 기각역 : $$u_0 > u_{1-\\alpha/2}$$ $$or$$ $$u_0 < -u_{1-\\alpha/2}$$  \n",
    "$\\alpha = 0.05$에서 $$u_0 > 1.96$$ $$or$$ $$u_0 < -1.96$$ 이면 $H_0$ 기각"
   ]
  },
  {
   "cell_type": "code",
   "execution_count": 244,
   "metadata": {},
   "outputs": [
    {
     "name": "stdout",
     "output_type": "stream",
     "text": [
      "u0 :  -0.22536147703300966\n"
     ]
    }
   ],
   "source": [
    "print(\"u0 : \",u_0)"
   ]
  },
  {
   "cell_type": "markdown",
   "metadata": {},
   "source": [
    "4. 판정 : \n",
    "$$-1.96 < u_0 = -0.22536 < 1.96$$으로 $H_0$ 채택.  \n",
    "따라서 ***유의수준 0.05***에서 $H_0$채택, 노광 1호기의 쇼트발생률과 노광 2호기의 쇼트발생률은 같다고 할 수 있다."
   ]
  },
  {
   "cell_type": "markdown",
   "metadata": {},
   "source": [
    "#### 4호기 vs 5호기 (연식에 의한 차이)\n",
    "1. 가설\n",
    "    * $P_A$ : 4호기의 쇼트발생률   \n",
    "    $P_B$ : 5호기의 쇼트발생률  \n",
    "$$ H_0 : P_A = P_B$$\n",
    "$$ H_1 : P_A \\ne P_B$$"
   ]
  },
  {
   "cell_type": "markdown",
   "metadata": {},
   "source": [
    "2. 통계량 : $$u_0 = {\\hat{p_A} - \\hat{p_B} \\over \\sqrt{\\hat{p}(1-\\hat{p})({1 \\over n_A}+{1 \\over n_B})}}$$  \n",
    "    * $\\hat{p} = {x_A + x_B \\over n_A + n_B}$"
   ]
  },
  {
   "cell_type": "code",
   "execution_count": 245,
   "metadata": {},
   "outputs": [
    {
     "name": "stdout",
     "output_type": "stream",
     "text": [
      "---------- 노광4호기 ----------\n",
      "노광4호기 검사 수량 : 1534041.0\n",
      "노광4호기 쇼트 발생 불량 수량 : 1161.043327\n",
      "\n",
      "pA hat:  0.0007568528657317504\n",
      "---------- 노광5호기 ----------\n",
      "노광5호기 검사 수량  : 19569580.0\n",
      "노광5호기 쇼트 발생 불량 수량 : 18465.563654999998\n",
      "\n",
      "pB hat:  0.0009435850771963423\n",
      "-------------------------------\n",
      "p hat : 0.0009300113464888323\n",
      "검정통계량 u0 : -7.30647507348834\n"
     ]
    }
   ],
   "source": [
    "mach_lst = [\"노광4호기\",\"노광5호기\"]\n",
    "u_0 = get_u0(defect_4,defect_5,mach_lst,\"쇼트\")"
   ]
  },
  {
   "cell_type": "markdown",
   "metadata": {},
   "source": [
    "3. 기각역 : $$u_0 > u_{1-\\alpha/2}$$ $$or$$ $$u_0 < -u_{1-\\alpha/2}$$  \n",
    "$\\alpha = 0.05$에서 $$u_0 > 1.96$$ $$or$$ $$u_0 < -1.96$$ 이면 $H_0$ 기각"
   ]
  },
  {
   "cell_type": "code",
   "execution_count": 246,
   "metadata": {
    "scrolled": true
   },
   "outputs": [
    {
     "name": "stdout",
     "output_type": "stream",
     "text": [
      "u0 :  -7.30647507348834\n"
     ]
    }
   ],
   "source": [
    "print(\"u0 : \",u_0)"
   ]
  },
  {
   "cell_type": "markdown",
   "metadata": {},
   "source": [
    "4. 판정 : \n",
    "$$u_0 = -7.306475 < -1.96$$로 $H_0$ 기각.  \n",
    "따라서 ***유의수준 0.05***에서 $H_0$기각, 노광 4호기의 슬릿(상)발생률과 노광 5호기의 슬릿(상)발생률은 같다고 할 수 없다."
   ]
  },
  {
   "cell_type": "markdown",
   "metadata": {},
   "source": [
    "##### 가설 변경\n",
    "1. 가설\n",
    "    * $P_A$ : 4호기의 쇼트발생률   \n",
    "    $P_B$ : 5호기의 쇼트발생률  \n",
    "$$ H_0 : P_A \\ge P_B$$\n",
    "$$ H_1 : P_A < P_B$$"
   ]
  },
  {
   "cell_type": "markdown",
   "metadata": {},
   "source": [
    "2. 통계량 : 위와 동일"
   ]
  },
  {
   "cell_type": "code",
   "execution_count": 247,
   "metadata": {},
   "outputs": [
    {
     "name": "stdout",
     "output_type": "stream",
     "text": [
      "---------- 노광4호기 ----------\n",
      "노광4호기 검사 수량 : 1534041.0\n",
      "노광4호기 쇼트 발생 불량 수량 : 1161.043327\n",
      "\n",
      "pA hat:  0.0007568528657317504\n",
      "---------- 노광5호기 ----------\n",
      "노광5호기 검사 수량  : 19569580.0\n",
      "노광5호기 쇼트 발생 불량 수량 : 18465.563654999998\n",
      "\n",
      "pB hat:  0.0009435850771963423\n",
      "-------------------------------\n",
      "p hat : 0.0009300113464888323\n",
      "검정통계량 u0 : -7.30647507348834\n"
     ]
    }
   ],
   "source": [
    "mach_lst = [\"노광4호기\",\"노광5호기\"]\n",
    "u_0 = get_u0(defect_4,defect_5,mach_lst,\"쇼트\")"
   ]
  },
  {
   "cell_type": "markdown",
   "metadata": {},
   "source": [
    "3. 기각역 : $$u_0 < -u_{1-\\alpha}$$  \n",
    "$\\alpha = 0.05$에서 $$u_0 < -1.645$$ 이면 $H_0$ 기각"
   ]
  },
  {
   "cell_type": "code",
   "execution_count": 248,
   "metadata": {},
   "outputs": [
    {
     "name": "stdout",
     "output_type": "stream",
     "text": [
      "u0 :  -7.30647507348834\n"
     ]
    }
   ],
   "source": [
    "print(\"u0 : \",u_0)"
   ]
  },
  {
   "cell_type": "markdown",
   "metadata": {},
   "source": [
    "4. 판정 : \n",
    "$$u_0 = -7.30647 < -1.645$$로 $H_0$ 기각.  \n",
    "따라서 유의수준 ***0.05***에서 $H_0$기각, 노광 4호기의 슬릿(상)발생률이 노광 5호기의 슬릿(상)발생률보다 작다고 할 수 있다."
   ]
  },
  {
   "cell_type": "markdown",
   "metadata": {},
   "source": [
    "##### 4호기(5년)의 부적합품률 < 5호기(2년)의 부적합품률\n",
    "***현재 데이터로는 연식이 오래 될 수록 슬릿(상)발생률이 높아 지는 것으로 보이지 않는다.***"
   ]
  },
  {
   "cell_type": "markdown",
   "metadata": {},
   "source": [
    "#### 1,2호기 vs 4,5호기 (기기 작동방식에 따른 차이)\n",
    "1. 가설\n",
    "    * $P_A$ : 1,2호기의 쇼트발생률 -> 아날로그 방식   \n",
    "    $P_B$ : 4,5호기의 쇼트발생률 -> 디지털 방식  \n",
    "$$ H_0 : P_A = P_B$$\n",
    "$$ H_1 : P_A \\ne P_B$$"
   ]
  },
  {
   "cell_type": "code",
   "execution_count": 249,
   "metadata": {},
   "outputs": [],
   "source": [
    "defect_A = pd.concat([defect_1,defect_2],axis = 0)\n",
    "defect_B = pd.concat([defect_4,defect_5],axis = 0)"
   ]
  },
  {
   "cell_type": "markdown",
   "metadata": {},
   "source": [
    "2. 통계량 : $$u_0 = {\\hat{p_A} - \\hat{p_B} \\over \\sqrt{\\hat{p}(1-\\hat{p})({1 \\over n_A}+{1 \\over n_B})}}$$  \n",
    "    * $\\hat{p} = {x_A + x_B \\over n_A + n_B}$"
   ]
  },
  {
   "cell_type": "code",
   "execution_count": 250,
   "metadata": {},
   "outputs": [
    {
     "name": "stdout",
     "output_type": "stream",
     "text": [
      "---------- 노광1,2호기 ----------\n",
      "노광1,2호기 검사 수량 : 9724952.0\n",
      "노광1,2호기 쇼트 발생 불량 수량 : 9411.365352\n",
      "\n",
      "pA hat:  0.000967754427168381\n",
      "---------- 노광4,5호기 ----------\n",
      "노광4,5호기 검사 수량  : 21103621.0\n",
      "노광4,5호기 쇼트 발생 불량 수량 : 19626.606981999998\n",
      "\n",
      "pB hat:  0.0009300113464888323\n",
      "-------------------------------\n",
      "p hat : 0.0009419174975760311\n",
      "검정통계량 u0 : 3.174541841773631\n"
     ]
    }
   ],
   "source": [
    "mach_lst = [\"노광1,2호기\",\"노광4,5호기\"]\n",
    "u_0 = get_u0(defect_A,defect_B,mach_lst,\"쇼트\")"
   ]
  },
  {
   "cell_type": "markdown",
   "metadata": {},
   "source": [
    "3. 기각역 : $$u_0 > u_{1-\\alpha/2}$$ $$or$$ $$u_0 < -u_{1-\\alpha/2}$$  \n",
    "$\\alpha = 0.05$에서 $$u_0 > 1.96$$ $$or$$ $$u_0 < -1.96$$ 이면 $H_0$ 기각"
   ]
  },
  {
   "cell_type": "code",
   "execution_count": 251,
   "metadata": {},
   "outputs": [
    {
     "name": "stdout",
     "output_type": "stream",
     "text": [
      "u0 :  3.174541841773631\n"
     ]
    }
   ],
   "source": [
    "print(\"u0 : \",u_0)"
   ]
  },
  {
   "cell_type": "markdown",
   "metadata": {},
   "source": [
    "4. 판정 : \n",
    "$$u_0 = 3.17454> 1.96$$로 $H_0$ 기각.  \n",
    "따라서 ***유의수준 0.05***에서 $H_0$기각, 노광 1,2호기의 부적합품률과 노광 4,5호기의 부적합품률은 같다고 할 수 없다."
   ]
  },
  {
   "cell_type": "markdown",
   "metadata": {},
   "source": [
    "##### 가설 변경\n",
    "1. 가설\n",
    "    * $P_A$ : 1,2호기의 쇼트발생률 -> 아날로그 방식   \n",
    "    $P_B$ : 4,5호기의 쇼트발생률 -> 디지털 방식  \n",
    "$$ H_0 : P_A \\le P_B$$\n",
    "$$ H_1 : P_A > P_B$$"
   ]
  },
  {
   "cell_type": "markdown",
   "metadata": {},
   "source": [
    "2. 통계량 : 위와 동일"
   ]
  },
  {
   "cell_type": "code",
   "execution_count": 252,
   "metadata": {},
   "outputs": [
    {
     "name": "stdout",
     "output_type": "stream",
     "text": [
      "---------- 노광1,2호기 ----------\n",
      "노광1,2호기 검사 수량 : 9724952.0\n",
      "노광1,2호기 쇼트 발생 불량 수량 : 9411.365352\n",
      "\n",
      "pA hat:  0.000967754427168381\n",
      "---------- 노광4,5호기 ----------\n",
      "노광4,5호기 검사 수량  : 21103621.0\n",
      "노광4,5호기 쇼트 발생 불량 수량 : 19626.606981999998\n",
      "\n",
      "pB hat:  0.0009300113464888323\n",
      "-------------------------------\n",
      "p hat : 0.0009419174975760311\n",
      "검정통계량 u0 : 3.174541841773631\n"
     ]
    }
   ],
   "source": [
    "mach_lst = [\"노광1,2호기\",\"노광4,5호기\"]\n",
    "u_0 = get_u0(defect_A,defect_B,mach_lst,\"쇼트\")"
   ]
  },
  {
   "cell_type": "markdown",
   "metadata": {},
   "source": [
    "3. 기각역 : $$u_0 > u_{1-\\alpha}$$  \n",
    "$\\alpha = 0.05$에서 $$u_0 > 1.645$$ 이면 $H_0$ 기각"
   ]
  },
  {
   "cell_type": "code",
   "execution_count": 253,
   "metadata": {},
   "outputs": [
    {
     "name": "stdout",
     "output_type": "stream",
     "text": [
      "u0 :  3.174541841773631\n"
     ]
    }
   ],
   "source": [
    "print(\"u0 : \",u_0)"
   ]
  },
  {
   "cell_type": "markdown",
   "metadata": {},
   "source": [
    "4. 판정 : \n",
    "$$u_0 = 3.17454 > 1.645$$로 $H_0$ 기각.  \n",
    "따라서 유의수준 ***0.05***에서 $H_0$기각, 노광 1,2호기의 슬릿(상)발생률이 노광 4,5호기의 슬릿(상)발생률보다 크다고 할 수 있다."
   ]
  },
  {
   "cell_type": "markdown",
   "metadata": {},
   "source": [
    "##### 1,2호기(아날로그)의 부적합품률 < 4,5호기(디지털)의 부적합품률\n",
    "***현재 데이터로는 아날로그 방식의 노광기가 디지털 방식의 노광기보다 부적합 원인이 쇼트인 부적합품을 더 많이 생산하는 것으로 보임***"
   ]
  },
  {
   "attachments": {
    "image.png": {
     "image/png": "[encoded data removed]"
    }
   },
   "cell_type": "markdown",
   "metadata": {},
   "source": [
    "#### 정리\n",
    "![image.png](attachment:image.png)"
   ]
  },
  {
   "cell_type": "markdown",
   "metadata": {},
   "source": [
    "# Particle 데이터 요약에 따른 분포 차 검정"
   ]
  },
  {
   "cell_type": "code",
   "execution_count": 254,
   "metadata": {},
   "outputs": [],
   "source": [
    "def merge_dates(x):\n",
    "    date_time = datetime.datetime(2020,int(x[\"month\"]),int(x[\"day\"]),int(x[\"hour\"]),int(x[\"minute\"]))\n",
    "    return date_time"
   ]
  },
  {
   "cell_type": "code",
   "execution_count": 255,
   "metadata": {},
   "outputs": [],
   "source": [
    "def merge_columns(tmp_df,date_columns = [\"month\",\"day\",\"hour\",\"minute\"]):\n",
    "    time_list = tmp_df[date_columns].apply(lambda x: merge_dates(x), axis = 1)\n",
    "    tmp_df[\"Time\"] = time_list\n",
    "    tmp_df = tmp_df.drop(date_columns,axis = 1)\n",
    "    return tmp_df"
   ]
  },
  {
   "cell_type": "code",
   "execution_count": 256,
   "metadata": {},
   "outputs": [],
   "source": [
    "def make_plot(df):\n",
    "    for col in particle_cols:\n",
    "        sns.lineplot(x = \"Time\",y = col,data = df)\n",
    "        plt.show()"
   ]
  },
  {
   "cell_type": "code",
   "execution_count": 257,
   "metadata": {},
   "outputs": [],
   "source": [
    "def divide_un_over(processed_df,date_time,col_name = \"Time\"):\n",
    "    under_df = processed_df[processed_df[col_name] < date_time]\n",
    "    over_df = processed_df[processed_df[col_name] > date_time]\n",
    "    return under_df, over_df"
   ]
  },
  {
   "cell_type": "code",
   "execution_count": 258,
   "metadata": {},
   "outputs": [
    {
     "data": {
      "text/html": [
       "<div>\n",
       "<style scoped>\n",
       "    .dataframe tbody tr th:only-of-type {\n",
       "        vertical-align: middle;\n",
       "    }\n",
       "\n",
       "    .dataframe tbody tr th {\n",
       "        vertical-align: top;\n",
       "    }\n",
       "\n",
       "    .dataframe thead th {\n",
       "        text-align: right;\n",
       "    }\n",
       "</style>\n",
       "<table border=\"1\" class=\"dataframe\">\n",
       "  <thead>\n",
       "    <tr style=\"text-align: right;\">\n",
       "      <th></th>\n",
       "      <th>Location</th>\n",
       "      <th>Time</th>\n",
       "      <th>over_0.3_delta</th>\n",
       "      <th>over_0.5_delta</th>\n",
       "      <th>over_1.0_delta</th>\n",
       "      <th>over_5.0_delta</th>\n",
       "      <th>over_0.3_sigma</th>\n",
       "      <th>over_0.5_sigma</th>\n",
       "      <th>over_1.0_sigma</th>\n",
       "      <th>month</th>\n",
       "      <th>day</th>\n",
       "      <th>weekday</th>\n",
       "      <th>hour</th>\n",
       "      <th>minute</th>\n",
       "      <th>second</th>\n",
       "    </tr>\n",
       "  </thead>\n",
       "  <tbody>\n",
       "    <tr>\n",
       "      <th>0</th>\n",
       "      <td>노광1호기130</td>\n",
       "      <td>2020-04-27 18:02:23</td>\n",
       "      <td>0</td>\n",
       "      <td>0</td>\n",
       "      <td>0</td>\n",
       "      <td>0</td>\n",
       "      <td>0</td>\n",
       "      <td>0</td>\n",
       "      <td>0</td>\n",
       "      <td>4</td>\n",
       "      <td>27</td>\n",
       "      <td>0</td>\n",
       "      <td>18</td>\n",
       "      <td>2</td>\n",
       "      <td>23</td>\n",
       "    </tr>\n",
       "    <tr>\n",
       "      <th>1</th>\n",
       "      <td>노광1호기130</td>\n",
       "      <td>2020-04-27 18:03:28</td>\n",
       "      <td>0</td>\n",
       "      <td>0</td>\n",
       "      <td>0</td>\n",
       "      <td>0</td>\n",
       "      <td>0</td>\n",
       "      <td>0</td>\n",
       "      <td>0</td>\n",
       "      <td>4</td>\n",
       "      <td>27</td>\n",
       "      <td>0</td>\n",
       "      <td>18</td>\n",
       "      <td>3</td>\n",
       "      <td>28</td>\n",
       "    </tr>\n",
       "    <tr>\n",
       "      <th>2</th>\n",
       "      <td>노광1호기130</td>\n",
       "      <td>2020-04-27 18:04:28</td>\n",
       "      <td>0</td>\n",
       "      <td>0</td>\n",
       "      <td>0</td>\n",
       "      <td>0</td>\n",
       "      <td>0</td>\n",
       "      <td>0</td>\n",
       "      <td>0</td>\n",
       "      <td>4</td>\n",
       "      <td>27</td>\n",
       "      <td>0</td>\n",
       "      <td>18</td>\n",
       "      <td>4</td>\n",
       "      <td>28</td>\n",
       "    </tr>\n",
       "    <tr>\n",
       "      <th>3</th>\n",
       "      <td>노광1호기130</td>\n",
       "      <td>2020-04-27 18:05:28</td>\n",
       "      <td>0</td>\n",
       "      <td>0</td>\n",
       "      <td>0</td>\n",
       "      <td>0</td>\n",
       "      <td>0</td>\n",
       "      <td>0</td>\n",
       "      <td>0</td>\n",
       "      <td>4</td>\n",
       "      <td>27</td>\n",
       "      <td>0</td>\n",
       "      <td>18</td>\n",
       "      <td>5</td>\n",
       "      <td>28</td>\n",
       "    </tr>\n",
       "    <tr>\n",
       "      <th>4</th>\n",
       "      <td>노광1호기130</td>\n",
       "      <td>2020-04-27 18:06:28</td>\n",
       "      <td>0</td>\n",
       "      <td>0</td>\n",
       "      <td>0</td>\n",
       "      <td>0</td>\n",
       "      <td>0</td>\n",
       "      <td>0</td>\n",
       "      <td>0</td>\n",
       "      <td>4</td>\n",
       "      <td>27</td>\n",
       "      <td>0</td>\n",
       "      <td>18</td>\n",
       "      <td>6</td>\n",
       "      <td>28</td>\n",
       "    </tr>\n",
       "    <tr>\n",
       "      <th>...</th>\n",
       "      <td>...</td>\n",
       "      <td>...</td>\n",
       "      <td>...</td>\n",
       "      <td>...</td>\n",
       "      <td>...</td>\n",
       "      <td>...</td>\n",
       "      <td>...</td>\n",
       "      <td>...</td>\n",
       "      <td>...</td>\n",
       "      <td>...</td>\n",
       "      <td>...</td>\n",
       "      <td>...</td>\n",
       "      <td>...</td>\n",
       "      <td>...</td>\n",
       "      <td>...</td>\n",
       "    </tr>\n",
       "    <tr>\n",
       "      <th>25913</th>\n",
       "      <td>노광1호기130</td>\n",
       "      <td>2020-08-11 11:47:38</td>\n",
       "      <td>58</td>\n",
       "      <td>6</td>\n",
       "      <td>0</td>\n",
       "      <td>0</td>\n",
       "      <td>64</td>\n",
       "      <td>6</td>\n",
       "      <td>0</td>\n",
       "      <td>8</td>\n",
       "      <td>11</td>\n",
       "      <td>1</td>\n",
       "      <td>11</td>\n",
       "      <td>47</td>\n",
       "      <td>38</td>\n",
       "    </tr>\n",
       "    <tr>\n",
       "      <th>25914</th>\n",
       "      <td>노광1호기130</td>\n",
       "      <td>2020-08-11 11:47:41</td>\n",
       "      <td>41</td>\n",
       "      <td>6</td>\n",
       "      <td>0</td>\n",
       "      <td>0</td>\n",
       "      <td>47</td>\n",
       "      <td>6</td>\n",
       "      <td>0</td>\n",
       "      <td>8</td>\n",
       "      <td>11</td>\n",
       "      <td>1</td>\n",
       "      <td>11</td>\n",
       "      <td>47</td>\n",
       "      <td>41</td>\n",
       "    </tr>\n",
       "    <tr>\n",
       "      <th>25915</th>\n",
       "      <td>노광1호기130</td>\n",
       "      <td>2020-08-11 11:47:44</td>\n",
       "      <td>97</td>\n",
       "      <td>32</td>\n",
       "      <td>1</td>\n",
       "      <td>0</td>\n",
       "      <td>130</td>\n",
       "      <td>33</td>\n",
       "      <td>1</td>\n",
       "      <td>8</td>\n",
       "      <td>11</td>\n",
       "      <td>1</td>\n",
       "      <td>11</td>\n",
       "      <td>47</td>\n",
       "      <td>44</td>\n",
       "    </tr>\n",
       "    <tr>\n",
       "      <th>25916</th>\n",
       "      <td>노광1호기130</td>\n",
       "      <td>2020-08-11 11:47:45</td>\n",
       "      <td>45</td>\n",
       "      <td>9</td>\n",
       "      <td>0</td>\n",
       "      <td>0</td>\n",
       "      <td>54</td>\n",
       "      <td>9</td>\n",
       "      <td>0</td>\n",
       "      <td>8</td>\n",
       "      <td>11</td>\n",
       "      <td>1</td>\n",
       "      <td>11</td>\n",
       "      <td>47</td>\n",
       "      <td>45</td>\n",
       "    </tr>\n",
       "    <tr>\n",
       "      <th>25917</th>\n",
       "      <td>노광1호기130</td>\n",
       "      <td>2020-08-11 11:47:46</td>\n",
       "      <td>45</td>\n",
       "      <td>7</td>\n",
       "      <td>0</td>\n",
       "      <td>0</td>\n",
       "      <td>52</td>\n",
       "      <td>7</td>\n",
       "      <td>0</td>\n",
       "      <td>8</td>\n",
       "      <td>11</td>\n",
       "      <td>1</td>\n",
       "      <td>11</td>\n",
       "      <td>47</td>\n",
       "      <td>46</td>\n",
       "    </tr>\n",
       "  </tbody>\n",
       "</table>\n",
       "<p>3198614 rows × 15 columns</p>\n",
       "</div>"
      ],
      "text/plain": [
       "       Location                 Time  over_0.3_delta  over_0.5_delta  \\\n",
       "0      노광1호기130  2020-04-27 18:02:23               0               0   \n",
       "1      노광1호기130  2020-04-27 18:03:28               0               0   \n",
       "2      노광1호기130  2020-04-27 18:04:28               0               0   \n",
       "3      노광1호기130  2020-04-27 18:05:28               0               0   \n",
       "4      노광1호기130  2020-04-27 18:06:28               0               0   \n",
       "...         ...                  ...             ...             ...   \n",
       "25913  노광1호기130  2020-08-11 11:47:38              58               6   \n",
       "25914  노광1호기130  2020-08-11 11:47:41              41               6   \n",
       "25915  노광1호기130  2020-08-11 11:47:44              97              32   \n",
       "25916  노광1호기130  2020-08-11 11:47:45              45               9   \n",
       "25917  노광1호기130  2020-08-11 11:47:46              45               7   \n",
       "\n",
       "       over_1.0_delta  over_5.0_delta  over_0.3_sigma  over_0.5_sigma  \\\n",
       "0                   0               0               0               0   \n",
       "1                   0               0               0               0   \n",
       "2                   0               0               0               0   \n",
       "3                   0               0               0               0   \n",
       "4                   0               0               0               0   \n",
       "...               ...             ...             ...             ...   \n",
       "25913               0               0              64               6   \n",
       "25914               0               0              47               6   \n",
       "25915               1               0             130              33   \n",
       "25916               0               0              54               9   \n",
       "25917               0               0              52               7   \n",
       "\n",
       "       over_1.0_sigma  month  day  weekday  hour  minute  second  \n",
       "0                   0      4   27        0    18       2      23  \n",
       "1                   0      4   27        0    18       3      28  \n",
       "2                   0      4   27        0    18       4      28  \n",
       "3                   0      4   27        0    18       5      28  \n",
       "4                   0      4   27        0    18       6      28  \n",
       "...               ...    ...  ...      ...   ...     ...     ...  \n",
       "25913               0      8   11        1    11      47      38  \n",
       "25914               0      8   11        1    11      47      41  \n",
       "25915               1      8   11        1    11      47      44  \n",
       "25916               0      8   11        1    11      47      45  \n",
       "25917               0      8   11        1    11      47      46  \n",
       "\n",
       "[3198614 rows x 15 columns]"
      ]
     },
     "execution_count": 258,
     "metadata": {},
     "output_type": "execute_result"
    }
   ],
   "source": [
    "light_expose_1"
   ]
  },
  {
   "cell_type": "code",
   "execution_count": 259,
   "metadata": {},
   "outputs": [],
   "source": [
    "light_expose_1[\"Time\"] = pd.to_datetime(light_expose_1[\"Time\"],format = \"%Y.%m.%d %H:%M:%S\")\n",
    "light_expose_2[\"Time\"] = pd.to_datetime(light_expose_2[\"Time\"],format = \"%Y.%m.%d %H:%M:%S\")\n",
    "light_expose_4[\"Time\"] = pd.to_datetime(light_expose_4[\"Time\"],format = \"%Y.%m.%d %H:%M:%S\")\n",
    "light_expose_5[\"Time\"] = pd.to_datetime(light_expose_5[\"Time\"],format = \"%Y.%m.%d %H:%M:%S\")"
   ]
  },
  {
   "cell_type": "code",
   "execution_count": 260,
   "metadata": {},
   "outputs": [
    {
     "data": {
      "text/html": [
       "<div>\n",
       "<style scoped>\n",
       "    .dataframe tbody tr th:only-of-type {\n",
       "        vertical-align: middle;\n",
       "    }\n",
       "\n",
       "    .dataframe tbody tr th {\n",
       "        vertical-align: top;\n",
       "    }\n",
       "\n",
       "    .dataframe thead th {\n",
       "        text-align: right;\n",
       "    }\n",
       "</style>\n",
       "<table border=\"1\" class=\"dataframe\">\n",
       "  <thead>\n",
       "    <tr style=\"text-align: right;\">\n",
       "      <th></th>\n",
       "      <th>Location</th>\n",
       "      <th>Time</th>\n",
       "      <th>over_0.3_delta</th>\n",
       "      <th>over_0.5_delta</th>\n",
       "      <th>over_1.0_delta</th>\n",
       "      <th>over_5.0_delta</th>\n",
       "      <th>over_0.3_sigma</th>\n",
       "      <th>over_0.5_sigma</th>\n",
       "      <th>over_1.0_sigma</th>\n",
       "      <th>month</th>\n",
       "      <th>day</th>\n",
       "      <th>weekday</th>\n",
       "      <th>hour</th>\n",
       "      <th>minute</th>\n",
       "      <th>second</th>\n",
       "    </tr>\n",
       "  </thead>\n",
       "  <tbody>\n",
       "    <tr>\n",
       "      <th>0</th>\n",
       "      <td>노광1호기130</td>\n",
       "      <td>2020-04-27 18:02:23</td>\n",
       "      <td>0</td>\n",
       "      <td>0</td>\n",
       "      <td>0</td>\n",
       "      <td>0</td>\n",
       "      <td>0</td>\n",
       "      <td>0</td>\n",
       "      <td>0</td>\n",
       "      <td>4</td>\n",
       "      <td>27</td>\n",
       "      <td>0</td>\n",
       "      <td>18</td>\n",
       "      <td>2</td>\n",
       "      <td>23</td>\n",
       "    </tr>\n",
       "    <tr>\n",
       "      <th>1</th>\n",
       "      <td>노광1호기130</td>\n",
       "      <td>2020-04-27 18:03:28</td>\n",
       "      <td>0</td>\n",
       "      <td>0</td>\n",
       "      <td>0</td>\n",
       "      <td>0</td>\n",
       "      <td>0</td>\n",
       "      <td>0</td>\n",
       "      <td>0</td>\n",
       "      <td>4</td>\n",
       "      <td>27</td>\n",
       "      <td>0</td>\n",
       "      <td>18</td>\n",
       "      <td>3</td>\n",
       "      <td>28</td>\n",
       "    </tr>\n",
       "    <tr>\n",
       "      <th>2</th>\n",
       "      <td>노광1호기130</td>\n",
       "      <td>2020-04-27 18:04:28</td>\n",
       "      <td>0</td>\n",
       "      <td>0</td>\n",
       "      <td>0</td>\n",
       "      <td>0</td>\n",
       "      <td>0</td>\n",
       "      <td>0</td>\n",
       "      <td>0</td>\n",
       "      <td>4</td>\n",
       "      <td>27</td>\n",
       "      <td>0</td>\n",
       "      <td>18</td>\n",
       "      <td>4</td>\n",
       "      <td>28</td>\n",
       "    </tr>\n",
       "    <tr>\n",
       "      <th>3</th>\n",
       "      <td>노광1호기130</td>\n",
       "      <td>2020-04-27 18:05:28</td>\n",
       "      <td>0</td>\n",
       "      <td>0</td>\n",
       "      <td>0</td>\n",
       "      <td>0</td>\n",
       "      <td>0</td>\n",
       "      <td>0</td>\n",
       "      <td>0</td>\n",
       "      <td>4</td>\n",
       "      <td>27</td>\n",
       "      <td>0</td>\n",
       "      <td>18</td>\n",
       "      <td>5</td>\n",
       "      <td>28</td>\n",
       "    </tr>\n",
       "    <tr>\n",
       "      <th>4</th>\n",
       "      <td>노광1호기130</td>\n",
       "      <td>2020-04-27 18:06:28</td>\n",
       "      <td>0</td>\n",
       "      <td>0</td>\n",
       "      <td>0</td>\n",
       "      <td>0</td>\n",
       "      <td>0</td>\n",
       "      <td>0</td>\n",
       "      <td>0</td>\n",
       "      <td>4</td>\n",
       "      <td>27</td>\n",
       "      <td>0</td>\n",
       "      <td>18</td>\n",
       "      <td>6</td>\n",
       "      <td>28</td>\n",
       "    </tr>\n",
       "    <tr>\n",
       "      <th>...</th>\n",
       "      <td>...</td>\n",
       "      <td>...</td>\n",
       "      <td>...</td>\n",
       "      <td>...</td>\n",
       "      <td>...</td>\n",
       "      <td>...</td>\n",
       "      <td>...</td>\n",
       "      <td>...</td>\n",
       "      <td>...</td>\n",
       "      <td>...</td>\n",
       "      <td>...</td>\n",
       "      <td>...</td>\n",
       "      <td>...</td>\n",
       "      <td>...</td>\n",
       "      <td>...</td>\n",
       "    </tr>\n",
       "    <tr>\n",
       "      <th>25913</th>\n",
       "      <td>노광1호기130</td>\n",
       "      <td>2020-08-11 11:47:38</td>\n",
       "      <td>58</td>\n",
       "      <td>6</td>\n",
       "      <td>0</td>\n",
       "      <td>0</td>\n",
       "      <td>64</td>\n",
       "      <td>6</td>\n",
       "      <td>0</td>\n",
       "      <td>8</td>\n",
       "      <td>11</td>\n",
       "      <td>1</td>\n",
       "      <td>11</td>\n",
       "      <td>47</td>\n",
       "      <td>38</td>\n",
       "    </tr>\n",
       "    <tr>\n",
       "      <th>25914</th>\n",
       "      <td>노광1호기130</td>\n",
       "      <td>2020-08-11 11:47:41</td>\n",
       "      <td>41</td>\n",
       "      <td>6</td>\n",
       "      <td>0</td>\n",
       "      <td>0</td>\n",
       "      <td>47</td>\n",
       "      <td>6</td>\n",
       "      <td>0</td>\n",
       "      <td>8</td>\n",
       "      <td>11</td>\n",
       "      <td>1</td>\n",
       "      <td>11</td>\n",
       "      <td>47</td>\n",
       "      <td>41</td>\n",
       "    </tr>\n",
       "    <tr>\n",
       "      <th>25915</th>\n",
       "      <td>노광1호기130</td>\n",
       "      <td>2020-08-11 11:47:44</td>\n",
       "      <td>97</td>\n",
       "      <td>32</td>\n",
       "      <td>1</td>\n",
       "      <td>0</td>\n",
       "      <td>130</td>\n",
       "      <td>33</td>\n",
       "      <td>1</td>\n",
       "      <td>8</td>\n",
       "      <td>11</td>\n",
       "      <td>1</td>\n",
       "      <td>11</td>\n",
       "      <td>47</td>\n",
       "      <td>44</td>\n",
       "    </tr>\n",
       "    <tr>\n",
       "      <th>25916</th>\n",
       "      <td>노광1호기130</td>\n",
       "      <td>2020-08-11 11:47:45</td>\n",
       "      <td>45</td>\n",
       "      <td>9</td>\n",
       "      <td>0</td>\n",
       "      <td>0</td>\n",
       "      <td>54</td>\n",
       "      <td>9</td>\n",
       "      <td>0</td>\n",
       "      <td>8</td>\n",
       "      <td>11</td>\n",
       "      <td>1</td>\n",
       "      <td>11</td>\n",
       "      <td>47</td>\n",
       "      <td>45</td>\n",
       "    </tr>\n",
       "    <tr>\n",
       "      <th>25917</th>\n",
       "      <td>노광1호기130</td>\n",
       "      <td>2020-08-11 11:47:46</td>\n",
       "      <td>45</td>\n",
       "      <td>7</td>\n",
       "      <td>0</td>\n",
       "      <td>0</td>\n",
       "      <td>52</td>\n",
       "      <td>7</td>\n",
       "      <td>0</td>\n",
       "      <td>8</td>\n",
       "      <td>11</td>\n",
       "      <td>1</td>\n",
       "      <td>11</td>\n",
       "      <td>47</td>\n",
       "      <td>46</td>\n",
       "    </tr>\n",
       "  </tbody>\n",
       "</table>\n",
       "<p>3197590 rows × 15 columns</p>\n",
       "</div>"
      ],
      "text/plain": [
       "       Location                Time  over_0.3_delta  over_0.5_delta  \\\n",
       "0      노광1호기130 2020-04-27 18:02:23               0               0   \n",
       "1      노광1호기130 2020-04-27 18:03:28               0               0   \n",
       "2      노광1호기130 2020-04-27 18:04:28               0               0   \n",
       "3      노광1호기130 2020-04-27 18:05:28               0               0   \n",
       "4      노광1호기130 2020-04-27 18:06:28               0               0   \n",
       "...         ...                 ...             ...             ...   \n",
       "25913  노광1호기130 2020-08-11 11:47:38              58               6   \n",
       "25914  노광1호기130 2020-08-11 11:47:41              41               6   \n",
       "25915  노광1호기130 2020-08-11 11:47:44              97              32   \n",
       "25916  노광1호기130 2020-08-11 11:47:45              45               9   \n",
       "25917  노광1호기130 2020-08-11 11:47:46              45               7   \n",
       "\n",
       "       over_1.0_delta  over_5.0_delta  over_0.3_sigma  over_0.5_sigma  \\\n",
       "0                   0               0               0               0   \n",
       "1                   0               0               0               0   \n",
       "2                   0               0               0               0   \n",
       "3                   0               0               0               0   \n",
       "4                   0               0               0               0   \n",
       "...               ...             ...             ...             ...   \n",
       "25913               0               0              64               6   \n",
       "25914               0               0              47               6   \n",
       "25915               1               0             130              33   \n",
       "25916               0               0              54               9   \n",
       "25917               0               0              52               7   \n",
       "\n",
       "       over_1.0_sigma  month  day  weekday  hour  minute  second  \n",
       "0                   0      4   27        0    18       2      23  \n",
       "1                   0      4   27        0    18       3      28  \n",
       "2                   0      4   27        0    18       4      28  \n",
       "3                   0      4   27        0    18       5      28  \n",
       "4                   0      4   27        0    18       6      28  \n",
       "...               ...    ...  ...      ...   ...     ...     ...  \n",
       "25913               0      8   11        1    11      47      38  \n",
       "25914               0      8   11        1    11      47      41  \n",
       "25915               1      8   11        1    11      47      44  \n",
       "25916               0      8   11        1    11      47      45  \n",
       "25917               0      8   11        1    11      47      46  \n",
       "\n",
       "[3197590 rows x 15 columns]"
      ]
     },
     "execution_count": 260,
     "metadata": {},
     "output_type": "execute_result"
    }
   ],
   "source": [
    "light_expose_1[light_expose_1[\"over_0.3_sigma\"] < 4000]"
   ]
  },
  {
   "cell_type": "code",
   "execution_count": 261,
   "metadata": {},
   "outputs": [],
   "source": [
    "light_expose_1 = light_expose_1[light_expose_1[\"over_0.3_sigma\"] < 10000]\n",
    "light_expose_2 = light_expose_2[light_expose_2[\"over_0.3_sigma\"] < 10000]\n",
    "light_expose_4 = light_expose_4[light_expose_4[\"over_0.3_sigma\"] < 10000]\n",
    "light_expose_5 = light_expose_5[light_expose_5[\"over_0.3_sigma\"] < 10000]"
   ]
  },
  {
   "cell_type": "code",
   "execution_count": 262,
   "metadata": {},
   "outputs": [
    {
     "name": "stdout",
     "output_type": "stream",
     "text": [
      "------------------------------\n",
      "not0_df's shape : (1108339, 15)\n",
      "0s percent : 65.34266 %\n",
      "------------------------------\n",
      "not0_df's shape : (338229, 15)\n",
      "0s percent : 89.30394 %\n",
      "------------------------------\n",
      "not0_df's shape : (3057613, 15)\n",
      "0s percent : 4.45007 %\n",
      "------------------------------\n",
      "not0_df's shape : (1913516, 15)\n",
      "0s percent : 39.23027 %\n"
     ]
    }
   ],
   "source": [
    "df_list = [light_expose_1,light_expose_2,light_expose_4,light_expose_5]\n",
    "not0_df_list = []\n",
    "only0_df_list = []\n",
    "for df in df_list:\n",
    "    not0_df = df[df[\"over_0.3_sigma\"] != 0]\n",
    "    only0_df = df[df[\"over_0.3_sigma\"] == 0]\n",
    "    not0_df_list.append(not0_df)\n",
    "    only0_df_list.append(only0_df)\n",
    "    print(\"-\"*30)\n",
    "    print(\"not0_df's shape :\",not0_df.shape)\n",
    "    print(\"0s percent :\",round((1-not0_df.shape[0]/df.shape[0])*100,5),\"%\")"
   ]
  },
  {
   "cell_type": "code",
   "execution_count": 263,
   "metadata": {},
   "outputs": [],
   "source": [
    "light_expose_1_not0 = not0_df_list[0]\n",
    "light_expose_2_not0 = not0_df_list[1]\n",
    "light_expose_4_not0 = not0_df_list[2]\n",
    "light_expose_5_not0 = not0_df_list[3]\n",
    "\n",
    "light_expose_1_only0 = only0_df_list[0]\n",
    "light_expose_2_only0 = only0_df_list[1]\n",
    "light_expose_4_only0 = only0_df_list[2]\n",
    "light_expose_5_only0 = only0_df_list[3]"
   ]
  },
  {
   "cell_type": "code",
   "execution_count": 264,
   "metadata": {},
   "outputs": [
    {
     "data": {
      "image/png": "[encoded data removed]",
      "text/plain": [
       "<Figure size 576x576 with 1 Axes>"
      ]
     },
     "metadata": {},
     "output_type": "display_data"
    }
   ],
   "source": [
    "shape_names = [\"0이 아닌 요소\",\"0인 요소\"]\n",
    "shape_list = [not0_df.shape[0],light_expose_1.shape[0]-not0_df.shape[0]]\n",
    "plt.figure(figsize = (8,8))\n",
    "plt.pie(shape_list,\n",
    "        labels=shape_names,  \n",
    "        autopct='%1.2f%%', # second decimal place\n",
    "        shadow=True, \n",
    "        textprops={'fontsize': 14}) # text font size\n",
    "plt.axis('equal') #  equal length of X and Y axis\n",
    "plt.title(\"over 0.3 sigma가 0인 데이터의 분포 비교\", fontsize=20)\n",
    "plt.show()"
   ]
  },
  {
   "cell_type": "code",
   "execution_count": 265,
   "metadata": {},
   "outputs": [],
   "source": [
    "sigma_03_df = light_expose_1[light_expose_1[\"over_0.3_sigma\"] == 0]"
   ]
  },
  {
   "cell_type": "code",
   "execution_count": 266,
   "metadata": {},
   "outputs": [],
   "source": [
    "tmp_df = pd.DataFrame(sigma_03_df[[\"Time\",\"over_0.3_sigma\",\"month\",\"day\",\"hour\",\"minute\"]].groupby([\"month\",\"day\",\"hour\",\"minute\"]).count()).reset_index()\n",
    "merge_tmp = merge_columns(tmp_df)"
   ]
  },
  {
   "cell_type": "code",
   "execution_count": 267,
   "metadata": {},
   "outputs": [
    {
     "data": {
      "image/png": "[encoded data removed]",
      "text/plain": [
       "<Figure size 1152x432 with 1 Axes>"
      ]
     },
     "metadata": {
      "needs_background": "light"
     },
     "output_type": "display_data"
    }
   ],
   "source": [
    "start_date = datetime.datetime(2020,7,1)\n",
    "end_date = datetime.datetime(2020,8,11)\n",
    "plt.figure(figsize=(16,6))\n",
    "sns.lineplot(x = \"Time\",y =\"over_0.3_sigma\",data = merge_tmp)\n",
    "plt.xlim(start_date,end_date)\n",
    "plt.ylabel(\"count of over_0.3_sigma\")\n",
    "plt.show()"
   ]
  },
  {
   "cell_type": "code",
   "execution_count": 268,
   "metadata": {},
   "outputs": [],
   "source": [
    "tmp_df = pd.DataFrame(not0_df[[\"Time\",\"over_0.3_sigma\",\"month\",\"day\",\"hour\",\"minute\"]].groupby([\"month\",\"day\",\"hour\",\"minute\"]).mean()).reset_index()\n",
    "merge_tmp = merge_columns(tmp_df)"
   ]
  },
  {
   "cell_type": "code",
   "execution_count": 269,
   "metadata": {},
   "outputs": [],
   "source": [
    "merge_tmp = merge_tmp[merge_tmp[\"over_0.3_sigma\"] < 2000]"
   ]
  },
  {
   "cell_type": "code",
   "execution_count": 270,
   "metadata": {},
   "outputs": [
    {
     "data": {
      "image/png": "[encoded data removed]",
      "text/plain": [
       "<Figure size 1152x432 with 1 Axes>"
      ]
     },
     "metadata": {
      "needs_background": "light"
     },
     "output_type": "display_data"
    }
   ],
   "source": [
    "start_date = datetime.datetime(2020,7,1)\n",
    "end_date = datetime.datetime(2020,8,11)\n",
    "plt.figure(figsize=(16,6))\n",
    "sns.lineplot(x = \"Time\",y =\"over_0.3_sigma\",data = merge_tmp)\n",
    "plt.xlim(start_date,end_date)\n",
    "plt.ylabel(\"count of over_0.3_sigma\")\n",
    "plt.show()"
   ]
  },
  {
   "cell_type": "code",
   "execution_count": 271,
   "metadata": {},
   "outputs": [],
   "source": [
    "tmp_df = light_expose_1[light_expose_1[\"over_0.3_sigma\"]<20000]"
   ]
  },
  {
   "cell_type": "code",
   "execution_count": 272,
   "metadata": {},
   "outputs": [],
   "source": [
    "not0_df = tmp_df[tmp_df[\"over_0.3_sigma\"] != 0]"
   ]
  },
  {
   "cell_type": "code",
   "execution_count": 273,
   "metadata": {},
   "outputs": [
    {
     "data": {
      "image/png": "[encoded data removed]",
      "text/plain": [
       "<Figure size 720x432 with 1 Axes>"
      ]
     },
     "metadata": {
      "needs_background": "light"
     },
     "output_type": "display_data"
    }
   ],
   "source": [
    "plt.figure(figsize = (10,6))\n",
    "sns.distplot(tmp_df[\"over_0.3_sigma\"])\n",
    "plt.show()"
   ]
  },
  {
   "cell_type": "code",
   "execution_count": 274,
   "metadata": {},
   "outputs": [
    {
     "data": {
      "image/png": "[encoded data removed]",
      "text/plain": [
       "<Figure size 720x432 with 1 Axes>"
      ]
     },
     "metadata": {
      "needs_background": "light"
     },
     "output_type": "display_data"
    }
   ],
   "source": [
    "plt.figure(figsize = (10,6))\n",
    "sns.distplot(np.log(tmp_df[\"over_0.3_sigma\"]+1))\n",
    "plt.show()"
   ]
  },
  {
   "cell_type": "code",
   "execution_count": 275,
   "metadata": {},
   "outputs": [
    {
     "data": {
      "image/png": "[encoded data removed]",
      "text/plain": [
       "<Figure size 720x432 with 1 Axes>"
      ]
     },
     "metadata": {
      "needs_background": "light"
     },
     "output_type": "display_data"
    }
   ],
   "source": [
    "plt.figure(figsize = (10,6))\n",
    "sns.distplot(not0_df[\"over_0.3_sigma\"])\n",
    "plt.show()"
   ]
  },
  {
   "cell_type": "code",
   "execution_count": 276,
   "metadata": {},
   "outputs": [
    {
     "data": {
      "text/plain": [
       "14.10213479865809"
      ]
     },
     "execution_count": 276,
     "metadata": {},
     "output_type": "execute_result"
    }
   ],
   "source": [
    "stats.skew(not0_df[\"over_0.3_sigma\"]) # 왜도"
   ]
  },
  {
   "cell_type": "code",
   "execution_count": 277,
   "metadata": {},
   "outputs": [
    {
     "data": {
      "text/plain": [
       "272.2916137660456"
      ]
     },
     "execution_count": 277,
     "metadata": {},
     "output_type": "execute_result"
    }
   ],
   "source": [
    "stats.kurtosis(not0_df[\"over_0.3_sigma\"]) # 첨도"
   ]
  },
  {
   "cell_type": "code",
   "execution_count": 278,
   "metadata": {},
   "outputs": [
    {
     "data": {
      "image/png": "[encoded data removed]",
      "text/plain": [
       "<Figure size 720x432 with 1 Axes>"
      ]
     },
     "metadata": {
      "needs_background": "light"
     },
     "output_type": "display_data"
    }
   ],
   "source": [
    "plt.figure(figsize = (10,6))\n",
    "sns.distplot(np.log(not0_df[\"over_0.3_sigma\"]))\n",
    "plt.show()"
   ]
  },
  {
   "cell_type": "code",
   "execution_count": 279,
   "metadata": {},
   "outputs": [
    {
     "data": {
      "text/plain": [
       "0.4743238691546928"
      ]
     },
     "execution_count": 279,
     "metadata": {},
     "output_type": "execute_result"
    }
   ],
   "source": [
    "stats.skew(np.log(not0_df[\"over_0.3_sigma\"])) # 왜도"
   ]
  },
  {
   "cell_type": "code",
   "execution_count": 280,
   "metadata": {},
   "outputs": [
    {
     "data": {
      "text/plain": [
       "3.408103554999082"
      ]
     },
     "execution_count": 280,
     "metadata": {},
     "output_type": "execute_result"
    }
   ],
   "source": [
    "stats.kurtosis(np.log(not0_df[\"over_0.3_sigma\"])) #첨도"
   ]
  },
  {
   "cell_type": "code",
   "execution_count": 281,
   "metadata": {},
   "outputs": [
    {
     "data": {
      "image/png": "[encoded data removed]",
      "text/plain": [
       "<Figure size 720x432 with 1 Axes>"
      ]
     },
     "metadata": {
      "needs_background": "light"
     },
     "output_type": "display_data"
    }
   ],
   "source": [
    "plt.figure(figsize = (10,6))\n",
    "sns.distplot(light_expose_1[\"over_0.3_sigma\"])\n",
    "plt.show()"
   ]
  },
  {
   "cell_type": "markdown",
   "metadata": {},
   "source": [
    "## 노광1호기 Particle 대표값 추출 및 분포비교"
   ]
  },
  {
   "cell_type": "markdown",
   "metadata": {},
   "source": [
    "* 요약 내용 : min, max, mean, range, 왜도(skew), 첨도(kurtosis)"
   ]
  },
  {
   "cell_type": "code",
   "execution_count": 282,
   "metadata": {},
   "outputs": [],
   "source": [
    "def get_range(my_list):\n",
    "    return max(my_list) - min(my_list)"
   ]
  },
  {
   "cell_type": "markdown",
   "metadata": {},
   "source": [
    "### 요약 단위 : 시간"
   ]
  },
  {
   "cell_type": "code",
   "execution_count": 283,
   "metadata": {},
   "outputs": [],
   "source": [
    "summary_func_list = [\"sum\",\"min\",\"max\",\"mean\",get_range,stats.skew,stats.kurtosis]"
   ]
  },
  {
   "cell_type": "code",
   "execution_count": 284,
   "metadata": {},
   "outputs": [],
   "source": [
    "summary_unit = [\"month\",\"day\"]\n",
    "column_list = [\"over_0.3_delta\",\"over_0.5_delta\",\"over_1.0_delta\",\"over_5.0_delta\",\"over_0.3_sigma\",\"over_0.5_sigma\",\"over_1.0_sigma\"]\n",
    "grouped_hour_1 = light_expose_1.groupby(summary_unit)[column_list].agg(summary_func_list).reset_index()\n",
    "grouped_hour_2 = light_expose_2.groupby(summary_unit)[column_list].agg(summary_func_list).reset_index()\n",
    "grouped_hour_4 = light_expose_4.groupby(summary_unit)[column_list].agg(summary_func_list).reset_index()\n",
    "grouped_hour_5 = light_expose_5.groupby(summary_unit)[column_list].agg(summary_func_list).reset_index()"
   ]
  },
  {
   "cell_type": "code",
   "execution_count": 285,
   "metadata": {},
   "outputs": [],
   "source": [
    "column_list = list(map(lambda x: \"_\".join(x),grouped_hour_1.columns))\n",
    "grouped_hour_1.columns = column_list\n",
    "grouped_hour_2.columns = column_list\n",
    "grouped_hour_4.columns = column_list\n",
    "grouped_hour_5.columns = column_list"
   ]
  },
  {
   "cell_type": "code",
   "execution_count": 286,
   "metadata": {},
   "outputs": [],
   "source": [
    "def merge_dates_by_day(x):\n",
    "    date_time = datetime.datetime(2020,int(x[\"month_\"]),int(x[\"day_\"]))\n",
    "    return date_time"
   ]
  },
  {
   "cell_type": "code",
   "execution_count": 287,
   "metadata": {},
   "outputs": [],
   "source": [
    "def merge_columns_by_day(tmp_df,date_columns = [\"month_\",\"day_\",]):\n",
    "    time_list = tmp_df[date_columns].apply(lambda x: merge_dates_by_day(x), axis = 1)\n",
    "    tmp_df[\"Time\"] = time_list\n",
    "    tmp_df = tmp_df.drop(date_columns,axis = 1)\n",
    "    return tmp_df"
   ]
  },
  {
   "cell_type": "code",
   "execution_count": 288,
   "metadata": {},
   "outputs": [
    {
     "data": {
      "text/html": [
       "<div>\n",
       "<style scoped>\n",
       "    .dataframe tbody tr th:only-of-type {\n",
       "        vertical-align: middle;\n",
       "    }\n",
       "\n",
       "    .dataframe tbody tr th {\n",
       "        vertical-align: top;\n",
       "    }\n",
       "\n",
       "    .dataframe thead th {\n",
       "        text-align: right;\n",
       "    }\n",
       "</style>\n",
       "<table border=\"1\" class=\"dataframe\">\n",
       "  <thead>\n",
       "    <tr style=\"text-align: right;\">\n",
       "      <th></th>\n",
       "      <th>month_</th>\n",
       "      <th>day_</th>\n",
       "      <th>over_0.3_delta_sum</th>\n",
       "      <th>over_0.3_delta_min</th>\n",
       "      <th>over_0.3_delta_max</th>\n",
       "      <th>over_0.3_delta_mean</th>\n",
       "      <th>over_0.3_delta_get_range</th>\n",
       "      <th>over_0.3_delta_skew</th>\n",
       "      <th>over_0.3_delta_kurtosis</th>\n",
       "      <th>over_0.5_delta_sum</th>\n",
       "      <th>...</th>\n",
       "      <th>over_0.5_sigma_get_range</th>\n",
       "      <th>over_0.5_sigma_skew</th>\n",
       "      <th>over_0.5_sigma_kurtosis</th>\n",
       "      <th>over_1.0_sigma_sum</th>\n",
       "      <th>over_1.0_sigma_min</th>\n",
       "      <th>over_1.0_sigma_max</th>\n",
       "      <th>over_1.0_sigma_mean</th>\n",
       "      <th>over_1.0_sigma_get_range</th>\n",
       "      <th>over_1.0_sigma_skew</th>\n",
       "      <th>over_1.0_sigma_kurtosis</th>\n",
       "    </tr>\n",
       "  </thead>\n",
       "  <tbody>\n",
       "    <tr>\n",
       "      <th>0</th>\n",
       "      <td>4</td>\n",
       "      <td>27</td>\n",
       "      <td>12122</td>\n",
       "      <td>0</td>\n",
       "      <td>4638</td>\n",
       "      <td>64.137566</td>\n",
       "      <td>4638</td>\n",
       "      <td>12.167056</td>\n",
       "      <td>156.554221</td>\n",
       "      <td>4851</td>\n",
       "      <td>...</td>\n",
       "      <td>3216</td>\n",
       "      <td>12.671703</td>\n",
       "      <td>165.713361</td>\n",
       "      <td>1735</td>\n",
       "      <td>0</td>\n",
       "      <td>730</td>\n",
       "      <td>9.179894</td>\n",
       "      <td>730</td>\n",
       "      <td>12.099480</td>\n",
       "      <td>155.022856</td>\n",
       "    </tr>\n",
       "    <tr>\n",
       "      <th>1</th>\n",
       "      <td>4</td>\n",
       "      <td>28</td>\n",
       "      <td>31014</td>\n",
       "      <td>0</td>\n",
       "      <td>1120</td>\n",
       "      <td>51.262810</td>\n",
       "      <td>1120</td>\n",
       "      <td>4.281867</td>\n",
       "      <td>18.206673</td>\n",
       "      <td>10196</td>\n",
       "      <td>...</td>\n",
       "      <td>507</td>\n",
       "      <td>4.308930</td>\n",
       "      <td>19.225041</td>\n",
       "      <td>2663</td>\n",
       "      <td>0</td>\n",
       "      <td>151</td>\n",
       "      <td>4.401653</td>\n",
       "      <td>151</td>\n",
       "      <td>5.045499</td>\n",
       "      <td>34.122101</td>\n",
       "    </tr>\n",
       "    <tr>\n",
       "      <th>2</th>\n",
       "      <td>4</td>\n",
       "      <td>29</td>\n",
       "      <td>158282</td>\n",
       "      <td>0</td>\n",
       "      <td>4844</td>\n",
       "      <td>109.918056</td>\n",
       "      <td>4844</td>\n",
       "      <td>7.481669</td>\n",
       "      <td>74.545969</td>\n",
       "      <td>54554</td>\n",
       "      <td>...</td>\n",
       "      <td>2235</td>\n",
       "      <td>8.051963</td>\n",
       "      <td>83.796111</td>\n",
       "      <td>8826</td>\n",
       "      <td>0</td>\n",
       "      <td>345</td>\n",
       "      <td>6.129167</td>\n",
       "      <td>345</td>\n",
       "      <td>7.846317</td>\n",
       "      <td>78.182616</td>\n",
       "    </tr>\n",
       "    <tr>\n",
       "      <th>3</th>\n",
       "      <td>4</td>\n",
       "      <td>30</td>\n",
       "      <td>161981</td>\n",
       "      <td>0</td>\n",
       "      <td>2695</td>\n",
       "      <td>112.408744</td>\n",
       "      <td>2695</td>\n",
       "      <td>3.279303</td>\n",
       "      <td>13.069227</td>\n",
       "      <td>53876</td>\n",
       "      <td>...</td>\n",
       "      <td>2388</td>\n",
       "      <td>6.569919</td>\n",
       "      <td>79.567078</td>\n",
       "      <td>9905</td>\n",
       "      <td>0</td>\n",
       "      <td>1186</td>\n",
       "      <td>6.873699</td>\n",
       "      <td>1186</td>\n",
       "      <td>23.285399</td>\n",
       "      <td>678.290831</td>\n",
       "    </tr>\n",
       "    <tr>\n",
       "      <th>4</th>\n",
       "      <td>5</td>\n",
       "      <td>1</td>\n",
       "      <td>147383</td>\n",
       "      <td>0</td>\n",
       "      <td>1291</td>\n",
       "      <td>102.349306</td>\n",
       "      <td>1291</td>\n",
       "      <td>2.175536</td>\n",
       "      <td>3.628434</td>\n",
       "      <td>48623</td>\n",
       "      <td>...</td>\n",
       "      <td>787</td>\n",
       "      <td>2.722280</td>\n",
       "      <td>9.025303</td>\n",
       "      <td>9003</td>\n",
       "      <td>0</td>\n",
       "      <td>419</td>\n",
       "      <td>6.252083</td>\n",
       "      <td>419</td>\n",
       "      <td>10.134830</td>\n",
       "      <td>180.906275</td>\n",
       "    </tr>\n",
       "    <tr>\n",
       "      <th>...</th>\n",
       "      <td>...</td>\n",
       "      <td>...</td>\n",
       "      <td>...</td>\n",
       "      <td>...</td>\n",
       "      <td>...</td>\n",
       "      <td>...</td>\n",
       "      <td>...</td>\n",
       "      <td>...</td>\n",
       "      <td>...</td>\n",
       "      <td>...</td>\n",
       "      <td>...</td>\n",
       "      <td>...</td>\n",
       "      <td>...</td>\n",
       "      <td>...</td>\n",
       "      <td>...</td>\n",
       "      <td>...</td>\n",
       "      <td>...</td>\n",
       "      <td>...</td>\n",
       "      <td>...</td>\n",
       "      <td>...</td>\n",
       "      <td>...</td>\n",
       "    </tr>\n",
       "    <tr>\n",
       "      <th>98</th>\n",
       "      <td>8</td>\n",
       "      <td>7</td>\n",
       "      <td>557781</td>\n",
       "      <td>0</td>\n",
       "      <td>656</td>\n",
       "      <td>8.878894</td>\n",
       "      <td>656</td>\n",
       "      <td>5.340200</td>\n",
       "      <td>118.861438</td>\n",
       "      <td>111723</td>\n",
       "      <td>...</td>\n",
       "      <td>1034</td>\n",
       "      <td>101.332369</td>\n",
       "      <td>17627.653978</td>\n",
       "      <td>11746</td>\n",
       "      <td>0</td>\n",
       "      <td>511</td>\n",
       "      <td>0.186976</td>\n",
       "      <td>511</td>\n",
       "      <td>185.749084</td>\n",
       "      <td>40001.576576</td>\n",
       "    </tr>\n",
       "    <tr>\n",
       "      <th>99</th>\n",
       "      <td>8</td>\n",
       "      <td>8</td>\n",
       "      <td>328453</td>\n",
       "      <td>0</td>\n",
       "      <td>382</td>\n",
       "      <td>5.365739</td>\n",
       "      <td>382</td>\n",
       "      <td>3.645613</td>\n",
       "      <td>45.854466</td>\n",
       "      <td>65488</td>\n",
       "      <td>...</td>\n",
       "      <td>246</td>\n",
       "      <td>23.226610</td>\n",
       "      <td>1451.183580</td>\n",
       "      <td>6589</td>\n",
       "      <td>0</td>\n",
       "      <td>111</td>\n",
       "      <td>0.107641</td>\n",
       "      <td>111</td>\n",
       "      <td>76.919546</td>\n",
       "      <td>9492.678113</td>\n",
       "    </tr>\n",
       "    <tr>\n",
       "      <th>100</th>\n",
       "      <td>8</td>\n",
       "      <td>9</td>\n",
       "      <td>805230</td>\n",
       "      <td>0</td>\n",
       "      <td>392</td>\n",
       "      <td>13.788657</td>\n",
       "      <td>392</td>\n",
       "      <td>3.712529</td>\n",
       "      <td>13.993645</td>\n",
       "      <td>167686</td>\n",
       "      <td>...</td>\n",
       "      <td>292</td>\n",
       "      <td>4.727423</td>\n",
       "      <td>46.832010</td>\n",
       "      <td>12833</td>\n",
       "      <td>0</td>\n",
       "      <td>74</td>\n",
       "      <td>0.219751</td>\n",
       "      <td>74</td>\n",
       "      <td>23.463005</td>\n",
       "      <td>1497.506056</td>\n",
       "    </tr>\n",
       "    <tr>\n",
       "      <th>101</th>\n",
       "      <td>8</td>\n",
       "      <td>10</td>\n",
       "      <td>181302</td>\n",
       "      <td>0</td>\n",
       "      <td>1089</td>\n",
       "      <td>3.350248</td>\n",
       "      <td>1089</td>\n",
       "      <td>41.121682</td>\n",
       "      <td>4184.663655</td>\n",
       "      <td>42486</td>\n",
       "      <td>...</td>\n",
       "      <td>1592</td>\n",
       "      <td>153.568073</td>\n",
       "      <td>28004.970021</td>\n",
       "      <td>6462</td>\n",
       "      <td>0</td>\n",
       "      <td>617</td>\n",
       "      <td>0.119410</td>\n",
       "      <td>617</td>\n",
       "      <td>182.719081</td>\n",
       "      <td>36947.880472</td>\n",
       "    </tr>\n",
       "    <tr>\n",
       "      <th>102</th>\n",
       "      <td>8</td>\n",
       "      <td>11</td>\n",
       "      <td>66626</td>\n",
       "      <td>0</td>\n",
       "      <td>103</td>\n",
       "      <td>2.570646</td>\n",
       "      <td>103</td>\n",
       "      <td>4.495374</td>\n",
       "      <td>27.743911</td>\n",
       "      <td>14443</td>\n",
       "      <td>...</td>\n",
       "      <td>82</td>\n",
       "      <td>6.583386</td>\n",
       "      <td>120.944892</td>\n",
       "      <td>1828</td>\n",
       "      <td>0</td>\n",
       "      <td>23</td>\n",
       "      <td>0.070530</td>\n",
       "      <td>23</td>\n",
       "      <td>15.247329</td>\n",
       "      <td>571.423808</td>\n",
       "    </tr>\n",
       "  </tbody>\n",
       "</table>\n",
       "<p>103 rows × 51 columns</p>\n",
       "</div>"
      ],
      "text/plain": [
       "     month_  day_  over_0.3_delta_sum  over_0.3_delta_min  over_0.3_delta_max  \\\n",
       "0         4    27               12122                   0                4638   \n",
       "1         4    28               31014                   0                1120   \n",
       "2         4    29              158282                   0                4844   \n",
       "3         4    30              161981                   0                2695   \n",
       "4         5     1              147383                   0                1291   \n",
       "..      ...   ...                 ...                 ...                 ...   \n",
       "98        8     7              557781                   0                 656   \n",
       "99        8     8              328453                   0                 382   \n",
       "100       8     9              805230                   0                 392   \n",
       "101       8    10              181302                   0                1089   \n",
       "102       8    11               66626                   0                 103   \n",
       "\n",
       "     over_0.3_delta_mean  over_0.3_delta_get_range  over_0.3_delta_skew  \\\n",
       "0              64.137566                      4638            12.167056   \n",
       "1              51.262810                      1120             4.281867   \n",
       "2             109.918056                      4844             7.481669   \n",
       "3             112.408744                      2695             3.279303   \n",
       "4             102.349306                      1291             2.175536   \n",
       "..                   ...                       ...                  ...   \n",
       "98              8.878894                       656             5.340200   \n",
       "99              5.365739                       382             3.645613   \n",
       "100            13.788657                       392             3.712529   \n",
       "101             3.350248                      1089            41.121682   \n",
       "102             2.570646                       103             4.495374   \n",
       "\n",
       "     over_0.3_delta_kurtosis  over_0.5_delta_sum  ...  \\\n",
       "0                 156.554221                4851  ...   \n",
       "1                  18.206673               10196  ...   \n",
       "2                  74.545969               54554  ...   \n",
       "3                  13.069227               53876  ...   \n",
       "4                   3.628434               48623  ...   \n",
       "..                       ...                 ...  ...   \n",
       "98                118.861438              111723  ...   \n",
       "99                 45.854466               65488  ...   \n",
       "100                13.993645              167686  ...   \n",
       "101              4184.663655               42486  ...   \n",
       "102                27.743911               14443  ...   \n",
       "\n",
       "     over_0.5_sigma_get_range  over_0.5_sigma_skew  over_0.5_sigma_kurtosis  \\\n",
       "0                        3216            12.671703               165.713361   \n",
       "1                         507             4.308930                19.225041   \n",
       "2                        2235             8.051963                83.796111   \n",
       "3                        2388             6.569919                79.567078   \n",
       "4                         787             2.722280                 9.025303   \n",
       "..                        ...                  ...                      ...   \n",
       "98                       1034           101.332369             17627.653978   \n",
       "99                        246            23.226610              1451.183580   \n",
       "100                       292             4.727423                46.832010   \n",
       "101                      1592           153.568073             28004.970021   \n",
       "102                        82             6.583386               120.944892   \n",
       "\n",
       "     over_1.0_sigma_sum  over_1.0_sigma_min  over_1.0_sigma_max  \\\n",
       "0                  1735                   0                 730   \n",
       "1                  2663                   0                 151   \n",
       "2                  8826                   0                 345   \n",
       "3                  9905                   0                1186   \n",
       "4                  9003                   0                 419   \n",
       "..                  ...                 ...                 ...   \n",
       "98                11746                   0                 511   \n",
       "99                 6589                   0                 111   \n",
       "100               12833                   0                  74   \n",
       "101                6462                   0                 617   \n",
       "102                1828                   0                  23   \n",
       "\n",
       "     over_1.0_sigma_mean  over_1.0_sigma_get_range  over_1.0_sigma_skew  \\\n",
       "0               9.179894                       730            12.099480   \n",
       "1               4.401653                       151             5.045499   \n",
       "2               6.129167                       345             7.846317   \n",
       "3               6.873699                      1186            23.285399   \n",
       "4               6.252083                       419            10.134830   \n",
       "..                   ...                       ...                  ...   \n",
       "98              0.186976                       511           185.749084   \n",
       "99              0.107641                       111            76.919546   \n",
       "100             0.219751                        74            23.463005   \n",
       "101             0.119410                       617           182.719081   \n",
       "102             0.070530                        23            15.247329   \n",
       "\n",
       "     over_1.0_sigma_kurtosis  \n",
       "0                 155.022856  \n",
       "1                  34.122101  \n",
       "2                  78.182616  \n",
       "3                 678.290831  \n",
       "4                 180.906275  \n",
       "..                       ...  \n",
       "98              40001.576576  \n",
       "99               9492.678113  \n",
       "100              1497.506056  \n",
       "101             36947.880472  \n",
       "102               571.423808  \n",
       "\n",
       "[103 rows x 51 columns]"
      ]
     },
     "execution_count": 288,
     "metadata": {},
     "output_type": "execute_result"
    }
   ],
   "source": [
    "grouped_hour_1"
   ]
  },
  {
   "cell_type": "code",
   "execution_count": 289,
   "metadata": {},
   "outputs": [],
   "source": [
    "grouped_hour_1 = merge_columns_by_day(grouped_hour_1)\n",
    "grouped_hour_2 = merge_columns_by_day(grouped_hour_2)\n",
    "grouped_hour_4 = merge_columns_by_day(grouped_hour_4)\n",
    "grouped_hour_5 = merge_columns_by_day(grouped_hour_5)"
   ]
  },
  {
   "cell_type": "code",
   "execution_count": 290,
   "metadata": {},
   "outputs": [],
   "source": [
    "grouped_hour_1.to_csv(\"./preprocessed/group_by/grouped_hour_1.csv\",index = False, encoding = \"euc-kr\")\n",
    "grouped_hour_2.to_csv(\"./preprocessed/group_by/grouped_hour_2.csv\",index = False, encoding = \"euc-kr\")\n",
    "grouped_hour_4.to_csv(\"./preprocessed/group_by/grouped_hour_4.csv\",index = False, encoding = \"euc-kr\")\n",
    "grouped_hour_5.to_csv(\"./preprocessed/group_by/grouped_hour_5.csv\",index = False, encoding = \"euc-kr\")"
   ]
  },
  {
   "cell_type": "markdown",
   "metadata": {},
   "source": [
    "### 요약 단위 : 시간"
   ]
  },
  {
   "cell_type": "markdown",
   "metadata": {},
   "source": [
    "#### 0.3 sigma 가 0인 데이터 포함"
   ]
  },
  {
   "cell_type": "markdown",
   "metadata": {},
   "source": [
    "summary_unit = [\"month\",\"day\",\"hour\"]\n",
    "column_list = [\"over_0.3_delta\",\"over_0.5_delta\",\"over_1.0_delta\",\"over_5.0_delta\",\"over_0.3_sigma\",\"over_0.5_sigma\",\"over_1.0_sigma\"]\n",
    "grouped_hour_1 = light_expose_1.groupby(summary_unit)[column_list].agg(summary_func_list).reset_index()\n",
    "grouped_hour_2 = light_expose_2.groupby(summary_unit)[column_list].agg(summary_func_list).reset_index()\n",
    "grouped_hour_4 = light_expose_4.groupby(summary_unit)[column_list].agg(summary_func_list).reset_index()\n",
    "grouped_hour_5 = light_expose_5.groupby(summary_unit)[column_list].agg(summary_func_list).reset_index()"
   ]
  },
  {
   "cell_type": "markdown",
   "metadata": {},
   "source": [
    "column_list = list(map(lambda x: \"_\".join(x),grouped_hour_1.columns))\n",
    "grouped_hour_1.columns = column_list\n",
    "grouped_hour_2.columns = column_list\n",
    "grouped_hour_4.columns = column_list\n",
    "grouped_hour_5.columns = column_list"
   ]
  },
  {
   "cell_type": "markdown",
   "metadata": {},
   "source": [
    "#### 0.3 sigma 가 0인 데이터 제외"
   ]
  },
  {
   "cell_type": "markdown",
   "metadata": {},
   "source": [
    "summary_unit = [\"month\",\"day\",\"hour\"]\n",
    "column_list = [\"over_0.3_delta\",\"over_0.5_delta\",\"over_1.0_delta\",\"over_5.0_delta\",\"over_0.3_sigma\",\"over_0.5_sigma\",\"over_1.0_sigma\"]\n",
    "grouped_hour_1_not0 = light_expose_1_not0.groupby(summary_unit)[column_list].agg(summary_func_list).reset_index()\n",
    "grouped_hour_2_not0 = light_expose_2_not0.groupby(summary_unit)[column_list].agg(summary_func_list).reset_index()\n",
    "grouped_hour_4_not0 = light_expose_4_not0.groupby(summary_unit)[column_list].agg(summary_func_list).reset_index()\n",
    "grouped_hour_5_not0 = light_expose_5_not0.groupby(summary_unit)[column_list].agg(summary_func_list).reset_index()"
   ]
  },
  {
   "cell_type": "markdown",
   "metadata": {},
   "source": [
    "column_list = list(map(lambda x: \"_\".join(x),grouped_hour_1_not0.columns))\n",
    "grouped_hour_1_not0.columns = column_list\n",
    "grouped_hour_2_not0.columns = column_list\n",
    "grouped_hour_4_not0.columns = column_list\n",
    "grouped_hour_5_not0.columns = column_list"
   ]
  },
  {
   "cell_type": "markdown",
   "metadata": {},
   "source": [
    "grouped_1.to_csv(\"./preprocessed/group_by/grouped_minute_1.csv\")\n",
    "grouped_2.to_csv(\"./preprocessed/group_by/grouped_minute_2.csv\")\n",
    "grouped_4.to_csv(\"./preprocessed/group_by/grouped_minute_4.csv\")\n",
    "grouped_5.to_csv(\"./preprocessed/group_by/grouped_minute_5.csv\")\n",
    "grouped_minute_1.to_csv(\"./preprocessed/group_by/grouped_minute_1_not0.csv\")\n",
    "grouped_minute_2.to_csv(\"./preprocessed/group_by/grouped_minute_2_not0.csv\")\n",
    "grouped_minute_4.to_csv(\"./preprocessed/group_by/grouped_minute_4_not0.csv\")\n",
    "grouped_minute_5.to_csv(\"./preprocessed/group_by/grouped_minute_5_not0.csv\")\n",
    "grouped_hour_1.to_csv(\"./preprocessed/group_by/grouped_hour_1.csv\")\n",
    "grouped_hour_2.to_csv(\"./preprocessed/group_by/grouped_hour_2.csv\")\n",
    "grouped_hour_4.to_csv(\"./preprocessed/group_by/grouped_hour_4.csv\")\n",
    "grouped_hour_5.to_csv(\"./preprocessed/group_by/grouped_hour_5.csv\")\n",
    "grouped_hour_1_not0.to_csv(\"./preprocessed/group_by/grouped_hour_1_not0.csv\")\n",
    "grouped_hour_2_not0.to_csv(\"./preprocessed/group_by/grouped_hour_2_not0.csv\")\n",
    "grouped_hour_4_not0.to_csv(\"./preprocessed/group_by/grouped_hour_4_not0.csv\")\n",
    "grouped_hour_5_not0.to_csv(\"./preprocessed/group_by/grouped_hour_5_not0.csv\")"
   ]
  },
  {
   "cell_type": "code",
   "execution_count": 291,
   "metadata": {},
   "outputs": [],
   "source": [
    "grouped_hour_1 = pd.read_csv(\"./preprocessed/group_by/grouped_hour_1.csv\")\n",
    "grouped_hour_2 = pd.read_csv(\"./preprocessed/group_by/grouped_hour_2.csv\")\n",
    "grouped_hour_4 = pd.read_csv(\"./preprocessed/group_by/grouped_hour_4.csv\")\n",
    "grouped_hour_5 = pd.read_csv(\"./preprocessed/group_by/grouped_hour_5.csv\")"
   ]
  },
  {
   "cell_type": "markdown",
   "metadata": {},
   "source": [
    "#  기타 시각화"
   ]
  },
  {
   "cell_type": "code",
   "execution_count": 292,
   "metadata": {},
   "outputs": [
    {
     "data": {
      "text/plain": [
       "Index(['over_0.3_delta_sum', 'over_0.3_delta_min', 'over_0.3_delta_max',\n",
       "       'over_0.3_delta_mean', 'over_0.3_delta_get_range',\n",
       "       'over_0.3_delta_skew', 'over_0.3_delta_kurtosis', 'over_0.5_delta_sum',\n",
       "       'over_0.5_delta_min', 'over_0.5_delta_max', 'over_0.5_delta_mean',\n",
       "       'over_0.5_delta_get_range', 'over_0.5_delta_skew',\n",
       "       'over_0.5_delta_kurtosis', 'over_1.0_delta_sum', 'over_1.0_delta_min',\n",
       "       'over_1.0_delta_max', 'over_1.0_delta_mean', 'over_1.0_delta_get_range',\n",
       "       'over_1.0_delta_skew', 'over_1.0_delta_kurtosis', 'over_5.0_delta_sum',\n",
       "       'over_5.0_delta_min', 'over_5.0_delta_max', 'over_5.0_delta_mean',\n",
       "       'over_5.0_delta_get_range', 'over_5.0_delta_skew',\n",
       "       'over_5.0_delta_kurtosis', 'over_0.3_sigma_sum', 'over_0.3_sigma_min',\n",
       "       'over_0.3_sigma_max', 'over_0.3_sigma_mean', 'over_0.3_sigma_get_range',\n",
       "       'over_0.3_sigma_skew', 'over_0.3_sigma_kurtosis', 'over_0.5_sigma_sum',\n",
       "       'over_0.5_sigma_min', 'over_0.5_sigma_max', 'over_0.5_sigma_mean',\n",
       "       'over_0.5_sigma_get_range', 'over_0.5_sigma_skew',\n",
       "       'over_0.5_sigma_kurtosis', 'over_1.0_sigma_sum', 'over_1.0_sigma_min',\n",
       "       'over_1.0_sigma_max', 'over_1.0_sigma_mean', 'over_1.0_sigma_get_range',\n",
       "       'over_1.0_sigma_skew', 'over_1.0_sigma_kurtosis', 'Time'],\n",
       "      dtype='object')"
      ]
     },
     "execution_count": 292,
     "metadata": {},
     "output_type": "execute_result"
    }
   ],
   "source": [
    "grouped_hour_1.columns"
   ]
  },
  {
   "cell_type": "code",
   "execution_count": 293,
   "metadata": {},
   "outputs": [
    {
     "data": {
      "text/plain": [
       "Ks_2sampResult(statistic=0.8266421761567393, pvalue=0.0)"
      ]
     },
     "execution_count": 293,
     "metadata": {},
     "output_type": "execute_result"
    }
   ],
   "source": [
    "x1 = np.log(grouped_hour_1[\"over_0.5_sigma_max\"]+1)\n",
    "x2 = np.log(defect_1[\"defect_from_light\"]+1)\n",
    "scipy.stats.ks_2samp(x1, x2)"
   ]
  },
  {
   "cell_type": "code",
   "execution_count": 294,
   "metadata": {},
   "outputs": [
    {
     "data": {
      "image/png": "[encoded data removed]",
      "text/plain": [
       "<Figure size 432x288 with 1 Axes>"
      ]
     },
     "metadata": {
      "needs_background": "light"
     },
     "output_type": "display_data"
    }
   ],
   "source": [
    "sns.distplot(np.log(grouped_hour_1[\"over_0.5_sigma_max\"]+1))\n",
    "plt.show()"
   ]
  },
  {
   "cell_type": "code",
   "execution_count": 295,
   "metadata": {},
   "outputs": [
    {
     "data": {
      "image/png": "[encoded data removed]",
      "text/plain": [
       "<Figure size 432x288 with 1 Axes>"
      ]
     },
     "metadata": {
      "needs_background": "light"
     },
     "output_type": "display_data"
    }
   ],
   "source": [
    "sns.distplot(np.log(defect_1[\"defect_from_light\"]+1))\n",
    "plt.show()"
   ]
  },
  {
   "cell_type": "code",
   "execution_count": 296,
   "metadata": {},
   "outputs": [
    {
     "data": {
      "image/png": "[encoded data removed]",
      "text/plain": [
       "<Figure size 432x288 with 1 Axes>"
      ]
     },
     "metadata": {
      "needs_background": "light"
     },
     "output_type": "display_data"
    }
   ],
   "source": [
    "sns.distplot(np.log(defect_concat[\"총 검사 수량\"]))\n",
    "plt.show()"
   ]
  },
  {
   "cell_type": "code",
   "execution_count": 297,
   "metadata": {},
   "outputs": [],
   "source": [
    "def defect_plot(df1,df2,df3,df4,col_name = \"pure_yield\",data_name = [\"노광1호기\",\"노광2호기\",\"노광4호기\",\"노광5호기\"]):\n",
    "    data_list = [df1[col_name],df2[col_name],df3[col_name],df4[col_name]]\n",
    "    plt.figure(figsize = (14,6))\n",
    "    plt.boxplot(data_list)\n",
    "    plt.title(f\"각 호기 별 '{col_name}' boxtplot\", size = 18)\n",
    "    plt.xticks(ticks = [1,2,3,4],labels = data_name)\n",
    "    plt.show()"
   ]
  },
  {
   "cell_type": "code",
   "execution_count": 298,
   "metadata": {},
   "outputs": [
    {
     "data": {
      "image/png": "[encoded data removed]",
      "text/plain": [
       "<Figure size 1008x432 with 1 Axes>"
      ]
     },
     "metadata": {
      "needs_background": "light"
     },
     "output_type": "display_data"
    }
   ],
   "source": [
    "defect_plot(defect_1,defect_2,defect_4,defect_5)"
   ]
  },
  {
   "cell_type": "code",
   "execution_count": 299,
   "metadata": {},
   "outputs": [
    {
     "data": {
      "image/png": "[encoded data removed]",
      "text/plain": [
       "<Figure size 1008x432 with 1 Axes>"
      ]
     },
     "metadata": {
      "needs_background": "light"
     },
     "output_type": "display_data"
    }
   ],
   "source": [
    "defect_plot(defect_1,defect_2,defect_4,defect_5,col_name = \"오픈\")"
   ]
  },
  {
   "cell_type": "code",
   "execution_count": 300,
   "metadata": {},
   "outputs": [
    {
     "data": {
      "image/png": "[encoded data removed]",
      "text/plain": [
       "<Figure size 1008x432 with 1 Axes>"
      ]
     },
     "metadata": {
      "needs_background": "light"
     },
     "output_type": "display_data"
    }
   ],
   "source": [
    "defect_plot(defect_1,defect_2,defect_4,defect_5,col_name = \"슬릿(상)\")"
   ]
  },
  {
   "cell_type": "code",
   "execution_count": 301,
   "metadata": {},
   "outputs": [
    {
     "data": {
      "image/png": "[encoded data removed]",
      "text/plain": [
       "<Figure size 1008x432 with 1 Axes>"
      ]
     },
     "metadata": {
      "needs_background": "light"
     },
     "output_type": "display_data"
    }
   ],
   "source": [
    "defect_plot(defect_1,defect_2,defect_4,defect_5,col_name = \"슬릿(하)\")"
   ]
  },
  {
   "cell_type": "code",
   "execution_count": 302,
   "metadata": {},
   "outputs": [
    {
     "data": {
      "image/png": "[encoded data removed]",
      "text/plain": [
       "<Figure size 1008x432 with 1 Axes>"
      ]
     },
     "metadata": {
      "needs_background": "light"
     },
     "output_type": "display_data"
    }
   ],
   "source": [
    "defect_plot(defect_1,defect_2,defect_4,defect_5,col_name = \"쇼트\")"
   ]
  },
  {
   "cell_type": "code",
   "execution_count": 303,
   "metadata": {},
   "outputs": [
    {
     "data": {
      "image/png": "[encoded data removed]",
      "text/plain": [
       "<Figure size 1008x432 with 1 Axes>"
      ]
     },
     "metadata": {
      "needs_background": "light"
     },
     "output_type": "display_data"
    }
   ],
   "source": [
    "defect_plot(defect_1,defect_2,defect_4,defect_5,col_name = \"defect_from_light\")"
   ]
  },
  {
   "cell_type": "code",
   "execution_count": 304,
   "metadata": {},
   "outputs": [],
   "source": [
    "day_list = []\n",
    "start = datetime.datetime.strptime(\"2020.04.01\",\"%Y.%m.%d\")\n",
    "end = datetime.datetime.strptime(\"2020.08.23\",\"%Y.%m.%d\")\n",
    "date_generated = [start + datetime.timedelta(days=x) for x in range(0, (end-start).days)]\n",
    "for date in date_generated:\n",
    "    day_list.append(date.strftime(\"%Y%m%d\"))"
   ]
  },
  {
   "cell_type": "code",
   "execution_count": 305,
   "metadata": {},
   "outputs": [],
   "source": [
    "empt_day = []\n",
    "for day in date_generated:\n",
    "    if day not in list(defect_1[\"일자\"]):\n",
    "        empt_day.append(day.strftime(\"%Y%m%d\"))"
   ]
  },
  {
   "cell_type": "code",
   "execution_count": 306,
   "metadata": {},
   "outputs": [],
   "source": [
    "def plot_pie_chart(df,df_name = 1):\n",
    "    reason_names = [\"오픈\",\"슬릿(상)\",\"슬릿(하)\",\"쇼트\"]\n",
    "    reason_count = list(df[reason_names].sum())\n",
    "    plt.figure(figsize = (8,8))\n",
    "    plt.pie(reason_count,\n",
    "           labels=reason_names,  \n",
    "            autopct='%1.2f%%', # second decimal place\n",
    "            shadow=True, \n",
    "            textprops={'fontsize': 14}) # text font size\n",
    "    plt.axis('equal') #  equal length of X and Y axis\n",
    "    plt.title(\"노광\" + str(df_name) + \"호기\" + '불량 요인', fontsize=20)\n",
    "    plt.show()"
   ]
  },
  {
   "cell_type": "code",
   "execution_count": 307,
   "metadata": {},
   "outputs": [
    {
     "data": {
      "text/html": [
       "<div>\n",
       "<style scoped>\n",
       "    .dataframe tbody tr th:only-of-type {\n",
       "        vertical-align: middle;\n",
       "    }\n",
       "\n",
       "    .dataframe tbody tr th {\n",
       "        vertical-align: top;\n",
       "    }\n",
       "\n",
       "    .dataframe thead th {\n",
       "        text-align: right;\n",
       "    }\n",
       "</style>\n",
       "<table border=\"1\" class=\"dataframe\">\n",
       "  <thead>\n",
       "    <tr style=\"text-align: right;\">\n",
       "      <th></th>\n",
       "      <th>일자</th>\n",
       "      <th>총 검사 수량</th>\n",
       "      <th>총 불량 수량</th>\n",
       "      <th>오픈</th>\n",
       "      <th>슬릿(상)</th>\n",
       "      <th>슬릿(하)</th>\n",
       "      <th>쇼트</th>\n",
       "      <th>Yield(%)</th>\n",
       "      <th>defect_from_light</th>\n",
       "      <th>pure_yield</th>\n",
       "      <th>mach_num</th>\n",
       "    </tr>\n",
       "  </thead>\n",
       "  <tbody>\n",
       "    <tr>\n",
       "      <th>0</th>\n",
       "      <td>2020-04-01</td>\n",
       "      <td>10368.0</td>\n",
       "      <td>65.0</td>\n",
       "      <td>11.000448</td>\n",
       "      <td>0.995328</td>\n",
       "      <td>6.998400</td>\n",
       "      <td>2.001024</td>\n",
       "      <td>99.37</td>\n",
       "      <td>20.995200</td>\n",
       "      <td>99.7975</td>\n",
       "      <td>1</td>\n",
       "    </tr>\n",
       "    <tr>\n",
       "      <th>3</th>\n",
       "      <td>2020-04-04</td>\n",
       "      <td>39636.0</td>\n",
       "      <td>221.0</td>\n",
       "      <td>8.006472</td>\n",
       "      <td>4.003236</td>\n",
       "      <td>12.009708</td>\n",
       "      <td>17.003844</td>\n",
       "      <td>99.44</td>\n",
       "      <td>41.023260</td>\n",
       "      <td>99.8965</td>\n",
       "      <td>1</td>\n",
       "    </tr>\n",
       "    <tr>\n",
       "      <th>21</th>\n",
       "      <td>2020-04-22</td>\n",
       "      <td>10696.0</td>\n",
       "      <td>161.0</td>\n",
       "      <td>10.995488</td>\n",
       "      <td>0.994728</td>\n",
       "      <td>6.995184</td>\n",
       "      <td>4.995032</td>\n",
       "      <td>98.49</td>\n",
       "      <td>23.980432</td>\n",
       "      <td>99.7758</td>\n",
       "      <td>1</td>\n",
       "    </tr>\n",
       "    <tr>\n",
       "      <th>22</th>\n",
       "      <td>2020-04-23</td>\n",
       "      <td>10752.0</td>\n",
       "      <td>160.0</td>\n",
       "      <td>6.999552</td>\n",
       "      <td>0.000000</td>\n",
       "      <td>14.999040</td>\n",
       "      <td>20.998656</td>\n",
       "      <td>98.51</td>\n",
       "      <td>42.997248</td>\n",
       "      <td>99.6001</td>\n",
       "      <td>1</td>\n",
       "    </tr>\n",
       "    <tr>\n",
       "      <th>23</th>\n",
       "      <td>2020-04-24</td>\n",
       "      <td>16128.0</td>\n",
       "      <td>285.0</td>\n",
       "      <td>6.999552</td>\n",
       "      <td>5.999616</td>\n",
       "      <td>6.999552</td>\n",
       "      <td>15.998976</td>\n",
       "      <td>98.23</td>\n",
       "      <td>35.997696</td>\n",
       "      <td>99.7768</td>\n",
       "      <td>1</td>\n",
       "    </tr>\n",
       "    <tr>\n",
       "      <th>...</th>\n",
       "      <td>...</td>\n",
       "      <td>...</td>\n",
       "      <td>...</td>\n",
       "      <td>...</td>\n",
       "      <td>...</td>\n",
       "      <td>...</td>\n",
       "      <td>...</td>\n",
       "      <td>...</td>\n",
       "      <td>...</td>\n",
       "      <td>...</td>\n",
       "      <td>...</td>\n",
       "    </tr>\n",
       "    <tr>\n",
       "      <th>140</th>\n",
       "      <td>2020-08-19</td>\n",
       "      <td>21224.0</td>\n",
       "      <td>1279.0</td>\n",
       "      <td>17.000424</td>\n",
       "      <td>40.007240</td>\n",
       "      <td>33.003320</td>\n",
       "      <td>60.000248</td>\n",
       "      <td>93.97</td>\n",
       "      <td>150.011232</td>\n",
       "      <td>99.2932</td>\n",
       "      <td>1</td>\n",
       "    </tr>\n",
       "    <tr>\n",
       "      <th>141</th>\n",
       "      <td>2020-08-20</td>\n",
       "      <td>62976.0</td>\n",
       "      <td>1220.0</td>\n",
       "      <td>56.993280</td>\n",
       "      <td>73.996800</td>\n",
       "      <td>55.985664</td>\n",
       "      <td>46.980096</td>\n",
       "      <td>98.06</td>\n",
       "      <td>233.955840</td>\n",
       "      <td>99.6285</td>\n",
       "      <td>1</td>\n",
       "    </tr>\n",
       "    <tr>\n",
       "      <th>142</th>\n",
       "      <td>2020-08-21</td>\n",
       "      <td>69840.0</td>\n",
       "      <td>1170.0</td>\n",
       "      <td>40.996080</td>\n",
       "      <td>16.971120</td>\n",
       "      <td>44.976960</td>\n",
       "      <td>91.001520</td>\n",
       "      <td>98.32</td>\n",
       "      <td>193.945680</td>\n",
       "      <td>99.7223</td>\n",
       "      <td>1</td>\n",
       "    </tr>\n",
       "    <tr>\n",
       "      <th>143</th>\n",
       "      <td>2020-08-22</td>\n",
       "      <td>36032.0</td>\n",
       "      <td>725.0</td>\n",
       "      <td>31.996416</td>\n",
       "      <td>6.990208</td>\n",
       "      <td>19.997760</td>\n",
       "      <td>43.995072</td>\n",
       "      <td>97.99</td>\n",
       "      <td>102.979456</td>\n",
       "      <td>99.7142</td>\n",
       "      <td>1</td>\n",
       "    </tr>\n",
       "    <tr>\n",
       "      <th>144</th>\n",
       "      <td>2020-08-23</td>\n",
       "      <td>68706.0</td>\n",
       "      <td>931.0</td>\n",
       "      <td>77.019426</td>\n",
       "      <td>5.977422</td>\n",
       "      <td>45.002430</td>\n",
       "      <td>223.019676</td>\n",
       "      <td>98.64</td>\n",
       "      <td>351.018954</td>\n",
       "      <td>99.4891</td>\n",
       "      <td>1</td>\n",
       "    </tr>\n",
       "  </tbody>\n",
       "</table>\n",
       "<p>111 rows × 11 columns</p>\n",
       "</div>"
      ],
      "text/plain": [
       "            일자  총 검사 수량  총 불량 수량         오픈      슬릿(상)      슬릿(하)          쇼트  \\\n",
       "0   2020-04-01  10368.0     65.0  11.000448   0.995328   6.998400    2.001024   \n",
       "3   2020-04-04  39636.0    221.0   8.006472   4.003236  12.009708   17.003844   \n",
       "21  2020-04-22  10696.0    161.0  10.995488   0.994728   6.995184    4.995032   \n",
       "22  2020-04-23  10752.0    160.0   6.999552   0.000000  14.999040   20.998656   \n",
       "23  2020-04-24  16128.0    285.0   6.999552   5.999616   6.999552   15.998976   \n",
       "..         ...      ...      ...        ...        ...        ...         ...   \n",
       "140 2020-08-19  21224.0   1279.0  17.000424  40.007240  33.003320   60.000248   \n",
       "141 2020-08-20  62976.0   1220.0  56.993280  73.996800  55.985664   46.980096   \n",
       "142 2020-08-21  69840.0   1170.0  40.996080  16.971120  44.976960   91.001520   \n",
       "143 2020-08-22  36032.0    725.0  31.996416   6.990208  19.997760   43.995072   \n",
       "144 2020-08-23  68706.0    931.0  77.019426   5.977422  45.002430  223.019676   \n",
       "\n",
       "     Yield(%)  defect_from_light  pure_yield mach_num  \n",
       "0       99.37          20.995200     99.7975        1  \n",
       "3       99.44          41.023260     99.8965        1  \n",
       "21      98.49          23.980432     99.7758        1  \n",
       "22      98.51          42.997248     99.6001        1  \n",
       "23      98.23          35.997696     99.7768        1  \n",
       "..        ...                ...         ...      ...  \n",
       "140     93.97         150.011232     99.2932        1  \n",
       "141     98.06         233.955840     99.6285        1  \n",
       "142     98.32         193.945680     99.7223        1  \n",
       "143     97.99         102.979456     99.7142        1  \n",
       "144     98.64         351.018954     99.4891        1  \n",
       "\n",
       "[111 rows x 11 columns]"
      ]
     },
     "execution_count": 307,
     "metadata": {},
     "output_type": "execute_result"
    }
   ],
   "source": [
    "defect_1"
   ]
  },
  {
   "cell_type": "code",
   "execution_count": 308,
   "metadata": {
    "scrolled": false
   },
   "outputs": [
    {
     "data": {
      "image/png": "[encoded data removed]",
      "text/plain": [
       "<Figure size 576x576 with 1 Axes>"
      ]
     },
     "metadata": {},
     "output_type": "display_data"
    }
   ],
   "source": [
    "plot_pie_chart(defect_1,1)"
   ]
  },
  {
   "cell_type": "code",
   "execution_count": 309,
   "metadata": {},
   "outputs": [
    {
     "data": {
      "image/png": "[encoded data removed]",
      "text/plain": [
       "<Figure size 576x576 with 1 Axes>"
      ]
     },
     "metadata": {},
     "output_type": "display_data"
    }
   ],
   "source": [
    "plot_pie_chart(defect_2,2)"
   ]
  },
  {
   "cell_type": "code",
   "execution_count": 310,
   "metadata": {},
   "outputs": [
    {
     "data": {
      "image/png": "[encoded data removed]",
      "text/plain": [
       "<Figure size 576x576 with 1 Axes>"
      ]
     },
     "metadata": {},
     "output_type": "display_data"
    }
   ],
   "source": [
    "plot_pie_chart(defect_4,4)"
   ]
  },
  {
   "cell_type": "code",
   "execution_count": 311,
   "metadata": {},
   "outputs": [
    {
     "data": {
      "image/png": "[encoded data removed]",
      "text/plain": [
       "<Figure size 576x576 with 1 Axes>"
      ]
     },
     "metadata": {},
     "output_type": "display_data"
    }
   ],
   "source": [
    "plot_pie_chart(defect_5,5)"
   ]
  },
  {
   "cell_type": "markdown",
   "metadata": {},
   "source": [
    "ppm_to_count = $${ppm  \\over 1,000,000}\\times (총 검사 수량)$$"
   ]
  },
  {
   "cell_type": "code",
   "execution_count": 312,
   "metadata": {},
   "outputs": [
    {
     "data": {
      "image/png": "[encoded data removed]",
      "text/plain": [
       "<Figure size 432x288 with 1 Axes>"
      ]
     },
     "metadata": {
      "needs_background": "light"
     },
     "output_type": "display_data"
    }
   ],
   "source": [
    "sns.distplot(defect_1[\"총 불량 수량\"])\n",
    "plt.show()"
   ]
  },
  {
   "cell_type": "code",
   "execution_count": 313,
   "metadata": {},
   "outputs": [
    {
     "data": {
      "image/png": "[encoded data removed]",
      "text/plain": [
       "<Figure size 432x288 with 1 Axes>"
      ]
     },
     "metadata": {
      "needs_background": "light"
     },
     "output_type": "display_data"
    }
   ],
   "source": [
    "sns.distplot(defect_2[\"총 불량 수량\"])\n",
    "plt.show()"
   ]
  },
  {
   "cell_type": "code",
   "execution_count": 314,
   "metadata": {},
   "outputs": [
    {
     "data": {
      "image/png": "[encoded data removed]",
      "text/plain": [
       "<Figure size 432x288 with 1 Axes>"
      ]
     },
     "metadata": {
      "needs_background": "light"
     },
     "output_type": "display_data"
    }
   ],
   "source": [
    "sns.distplot(defect_4[\"총 불량 수량\"])\n",
    "plt.show()"
   ]
  },
  {
   "cell_type": "code",
   "execution_count": 315,
   "metadata": {},
   "outputs": [
    {
     "data": {
      "image/png": "[encoded data removed]",
      "text/plain": [
       "<Figure size 432x288 with 1 Axes>"
      ]
     },
     "metadata": {
      "needs_background": "light"
     },
     "output_type": "display_data"
    }
   ],
   "source": [
    "sns.distplot(defect_5[\"총 불량 수량\"])\n",
    "plt.show()"
   ]
  },
  {
   "cell_type": "code",
   "execution_count": 316,
   "metadata": {},
   "outputs": [
    {
     "data": {
      "image/png": "[encoded data removed]",
      "text/plain": [
       "<Figure size 432x288 with 1 Axes>"
      ]
     },
     "metadata": {
      "needs_background": "light"
     },
     "output_type": "display_data"
    }
   ],
   "source": [
    "sns.distplot(defect_1[\"총 검사 수량\"])\n",
    "plt.show()"
   ]
  },
  {
   "cell_type": "code",
   "execution_count": 317,
   "metadata": {},
   "outputs": [
    {
     "data": {
      "image/png": "[encoded data removed]",
      "text/plain": [
       "<Figure size 432x288 with 1 Axes>"
      ]
     },
     "metadata": {
      "needs_background": "light"
     },
     "output_type": "display_data"
    }
   ],
   "source": [
    "sns.distplot(defect_2[\"총 검사 수량\"])\n",
    "plt.show()"
   ]
  },
  {
   "cell_type": "code",
   "execution_count": 318,
   "metadata": {},
   "outputs": [
    {
     "data": {
      "image/png": "[encoded data removed]",
      "text/plain": [
       "<Figure size 432x288 with 1 Axes>"
      ]
     },
     "metadata": {
      "needs_background": "light"
     },
     "output_type": "display_data"
    }
   ],
   "source": [
    "sns.distplot(defect_4[\"총 검사 수량\"])\n",
    "plt.show()"
   ]
  },
  {
   "cell_type": "code",
   "execution_count": 319,
   "metadata": {},
   "outputs": [
    {
     "data": {
      "image/png": "[encoded data removed]",
      "text/plain": [
       "<Figure size 432x288 with 1 Axes>"
      ]
     },
     "metadata": {
      "needs_background": "light"
     },
     "output_type": "display_data"
    }
   ],
   "source": [
    "sns.distplot(defect_5[\"총 검사 수량\"])\n",
    "plt.show()"
   ]
  },
  {
   "cell_type": "code",
   "execution_count": 320,
   "metadata": {},
   "outputs": [
    {
     "data": {
      "image/png": "[encoded data removed]",
      "text/plain": [
       "<Figure size 432x288 with 1 Axes>"
      ]
     },
     "metadata": {
      "needs_background": "light"
     },
     "output_type": "display_data"
    }
   ],
   "source": [
    "sns.lineplot(x = \"일자\",y = \"Yield(%)\",data = defect_1)\n",
    "plt.show()"
   ]
  },
  {
   "cell_type": "code",
   "execution_count": 321,
   "metadata": {},
   "outputs": [
    {
     "data": {
      "image/png": "[encoded data removed]",
      "text/plain": [
       "<Figure size 432x288 with 1 Axes>"
      ]
     },
     "metadata": {
      "needs_background": "light"
     },
     "output_type": "display_data"
    }
   ],
   "source": [
    "sns.lineplot(x = \"일자\",y = \"Yield(%)\",data = defect_2)\n",
    "plt.show()"
   ]
  },
  {
   "cell_type": "code",
   "execution_count": 322,
   "metadata": {},
   "outputs": [
    {
     "data": {
      "image/png": "[encoded data removed]",
      "text/plain": [
       "<Figure size 432x288 with 1 Axes>"
      ]
     },
     "metadata": {
      "needs_background": "light"
     },
     "output_type": "display_data"
    }
   ],
   "source": [
    "sns.lineplot(x = \"일자\",y = \"Yield(%)\",data = defect_4)\n",
    "plt.xticks(rotation = 45)\n",
    "plt.show()"
   ]
  },
  {
   "cell_type": "code",
   "execution_count": 323,
   "metadata": {},
   "outputs": [
    {
     "data": {
      "image/png": "[encoded data removed]",
      "text/plain": [
       "<Figure size 432x288 with 1 Axes>"
      ]
     },
     "metadata": {
      "needs_background": "light"
     },
     "output_type": "display_data"
    }
   ],
   "source": [
    "sns.lineplot(x = \"일자\",y = \"Yield(%)\",data = defect_5)\n",
    "plt.show()"
   ]
  },
  {
   "cell_type": "code",
   "execution_count": 324,
   "metadata": {},
   "outputs": [
    {
     "ename": "ValueError",
     "evalue": "Could not interpret input '총 검사 수량'",
     "output_type": "error",
     "traceback": [
      "\u001b[1;31m---------------------------------------------------------------------------\u001b[0m",
      "\u001b[1;31mValueError\u001b[0m                                Traceback (most recent call last)",
      "\u001b[1;32m<ipython-input-324-e07746dcd0f5>\u001b[0m in \u001b[0;36m<module>\u001b[1;34m\u001b[0m\n\u001b[0;32m      1\u001b[0m \u001b[0mplt\u001b[0m\u001b[1;33m.\u001b[0m\u001b[0mfigure\u001b[0m\u001b[1;33m(\u001b[0m\u001b[0mfigsize\u001b[0m \u001b[1;33m=\u001b[0m \u001b[1;33m(\u001b[0m\u001b[1;36m16\u001b[0m\u001b[1;33m,\u001b[0m\u001b[1;36m6\u001b[0m\u001b[1;33m)\u001b[0m\u001b[1;33m)\u001b[0m\u001b[1;33m\u001b[0m\u001b[1;33m\u001b[0m\u001b[0m\n\u001b[1;32m----> 2\u001b[1;33m \u001b[0msns\u001b[0m\u001b[1;33m.\u001b[0m\u001b[0mscatterplot\u001b[0m\u001b[1;33m(\u001b[0m\u001b[0mx\u001b[0m \u001b[1;33m=\u001b[0m \u001b[1;34m\"총 검사 수량\"\u001b[0m\u001b[1;33m,\u001b[0m\u001b[0my\u001b[0m \u001b[1;33m=\u001b[0m \u001b[1;34m\"총 불량 수량\"\u001b[0m\u001b[1;33m,\u001b[0m \u001b[0mdata\u001b[0m \u001b[1;33m=\u001b[0m \u001b[0mtmp_df\u001b[0m\u001b[1;33m)\u001b[0m\u001b[1;33m\u001b[0m\u001b[1;33m\u001b[0m\u001b[0m\n\u001b[0m\u001b[0;32m      3\u001b[0m \u001b[0mplt\u001b[0m\u001b[1;33m.\u001b[0m\u001b[0mtitle\u001b[0m\u001b[1;33m(\u001b[0m\u001b[1;34m\"노광 1호기\"\u001b[0m\u001b[1;33m,\u001b[0m\u001b[0msize\u001b[0m \u001b[1;33m=\u001b[0m \u001b[1;36m18\u001b[0m\u001b[1;33m)\u001b[0m\u001b[1;33m\u001b[0m\u001b[1;33m\u001b[0m\u001b[0m\n\u001b[0;32m      4\u001b[0m \u001b[0mplt\u001b[0m\u001b[1;33m.\u001b[0m\u001b[0mshow\u001b[0m\u001b[1;33m(\u001b[0m\u001b[1;33m)\u001b[0m\u001b[1;33m\u001b[0m\u001b[1;33m\u001b[0m\u001b[0m\n",
      "\u001b[1;32m~\\anaconda3\\lib\\site-packages\\seaborn\\relational.py\u001b[0m in \u001b[0;36mscatterplot\u001b[1;34m(x, y, hue, style, size, data, palette, hue_order, hue_norm, sizes, size_order, size_norm, markers, style_order, x_bins, y_bins, units, estimator, ci, n_boot, alpha, x_jitter, y_jitter, legend, ax, **kwargs)\u001b[0m\n\u001b[0;32m   1400\u001b[0m         \u001b[0mx_bins\u001b[0m\u001b[1;33m=\u001b[0m\u001b[0mx_bins\u001b[0m\u001b[1;33m,\u001b[0m \u001b[0my_bins\u001b[0m\u001b[1;33m=\u001b[0m\u001b[0my_bins\u001b[0m\u001b[1;33m,\u001b[0m\u001b[1;33m\u001b[0m\u001b[1;33m\u001b[0m\u001b[0m\n\u001b[0;32m   1401\u001b[0m         \u001b[0mestimator\u001b[0m\u001b[1;33m=\u001b[0m\u001b[0mestimator\u001b[0m\u001b[1;33m,\u001b[0m \u001b[0mci\u001b[0m\u001b[1;33m=\u001b[0m\u001b[0mci\u001b[0m\u001b[1;33m,\u001b[0m \u001b[0mn_boot\u001b[0m\u001b[1;33m=\u001b[0m\u001b[0mn_boot\u001b[0m\u001b[1;33m,\u001b[0m\u001b[1;33m\u001b[0m\u001b[1;33m\u001b[0m\u001b[0m\n\u001b[1;32m-> 1402\u001b[1;33m         \u001b[0malpha\u001b[0m\u001b[1;33m=\u001b[0m\u001b[0malpha\u001b[0m\u001b[1;33m,\u001b[0m \u001b[0mx_jitter\u001b[0m\u001b[1;33m=\u001b[0m\u001b[0mx_jitter\u001b[0m\u001b[1;33m,\u001b[0m \u001b[0my_jitter\u001b[0m\u001b[1;33m=\u001b[0m\u001b[0my_jitter\u001b[0m\u001b[1;33m,\u001b[0m \u001b[0mlegend\u001b[0m\u001b[1;33m=\u001b[0m\u001b[0mlegend\u001b[0m\u001b[1;33m,\u001b[0m\u001b[1;33m\u001b[0m\u001b[1;33m\u001b[0m\u001b[0m\n\u001b[0m\u001b[0;32m   1403\u001b[0m     )\n\u001b[0;32m   1404\u001b[0m \u001b[1;33m\u001b[0m\u001b[0m\n",
      "\u001b[1;32m~\\anaconda3\\lib\\site-packages\\seaborn\\relational.py\u001b[0m in \u001b[0;36m__init__\u001b[1;34m(self, x, y, hue, size, style, data, palette, hue_order, hue_norm, sizes, size_order, size_norm, dashes, markers, style_order, x_bins, y_bins, units, estimator, ci, n_boot, alpha, x_jitter, y_jitter, legend)\u001b[0m\n\u001b[0;32m    889\u001b[0m \u001b[1;33m\u001b[0m\u001b[0m\n\u001b[0;32m    890\u001b[0m         plot_data = self.establish_variables(\n\u001b[1;32m--> 891\u001b[1;33m             \u001b[0mx\u001b[0m\u001b[1;33m,\u001b[0m \u001b[0my\u001b[0m\u001b[1;33m,\u001b[0m \u001b[0mhue\u001b[0m\u001b[1;33m,\u001b[0m \u001b[0msize\u001b[0m\u001b[1;33m,\u001b[0m \u001b[0mstyle\u001b[0m\u001b[1;33m,\u001b[0m \u001b[0munits\u001b[0m\u001b[1;33m,\u001b[0m \u001b[0mdata\u001b[0m\u001b[1;33m\u001b[0m\u001b[1;33m\u001b[0m\u001b[0m\n\u001b[0m\u001b[0;32m    892\u001b[0m         )\n\u001b[0;32m    893\u001b[0m \u001b[1;33m\u001b[0m\u001b[0m\n",
      "\u001b[1;32m~\\anaconda3\\lib\\site-packages\\seaborn\\relational.py\u001b[0m in \u001b[0;36mestablish_variables\u001b[1;34m(self, x, y, hue, size, style, units, data)\u001b[0m\n\u001b[0;32m    140\u001b[0m                 \u001b[1;32mif\u001b[0m \u001b[0misinstance\u001b[0m\u001b[1;33m(\u001b[0m\u001b[0mvar\u001b[0m\u001b[1;33m,\u001b[0m \u001b[0mstr\u001b[0m\u001b[1;33m)\u001b[0m\u001b[1;33m:\u001b[0m\u001b[1;33m\u001b[0m\u001b[1;33m\u001b[0m\u001b[0m\n\u001b[0;32m    141\u001b[0m                     \u001b[0merr\u001b[0m \u001b[1;33m=\u001b[0m \u001b[1;34m\"Could not interpret input '{}'\"\u001b[0m\u001b[1;33m.\u001b[0m\u001b[0mformat\u001b[0m\u001b[1;33m(\u001b[0m\u001b[0mvar\u001b[0m\u001b[1;33m)\u001b[0m\u001b[1;33m\u001b[0m\u001b[1;33m\u001b[0m\u001b[0m\n\u001b[1;32m--> 142\u001b[1;33m                     \u001b[1;32mraise\u001b[0m \u001b[0mValueError\u001b[0m\u001b[1;33m(\u001b[0m\u001b[0merr\u001b[0m\u001b[1;33m)\u001b[0m\u001b[1;33m\u001b[0m\u001b[1;33m\u001b[0m\u001b[0m\n\u001b[0m\u001b[0;32m    143\u001b[0m \u001b[1;33m\u001b[0m\u001b[0m\n\u001b[0;32m    144\u001b[0m             \u001b[1;31m# Extract variable names\u001b[0m\u001b[1;33m\u001b[0m\u001b[1;33m\u001b[0m\u001b[1;33m\u001b[0m\u001b[0m\n",
      "\u001b[1;31mValueError\u001b[0m: Could not interpret input '총 검사 수량'"
     ]
    },
    {
     "data": {
      "text/plain": [
       "<Figure size 1152x432 with 0 Axes>"
      ]
     },
     "metadata": {},
     "output_type": "display_data"
    }
   ],
   "source": [
    "plt.figure(figsize = (16,6))\n",
    "sns.scatterplot(x = \"총 검사 수량\",y = \"총 불량 수량\", data = tmp_df)\n",
    "plt.title(\"노광 1호기\",size = 18)\n",
    "plt.show()"
   ]
  },
  {
   "cell_type": "code",
   "execution_count": null,
   "metadata": {},
   "outputs": [],
   "source": [
    "tmp_df = defect_2[defect_2[\"총 검사 수량\"] < 60000]\n",
    "plt.figure(figsize = (16,6))\n",
    "sns.regplot(x = \"총 검사 수량\",y = \"총 불량 수량\", data = tmp_df)\n",
    "plt.title(\"노광 2호기\",size = 18)\n",
    "plt.show()"
   ]
  },
  {
   "cell_type": "code",
   "execution_count": null,
   "metadata": {},
   "outputs": [],
   "source": [
    "plt.figure(figsize = (16,6))\n",
    "sns.regplot(x = \"총 검사 수량\",y = \"총 불량 수량\", data = defect_4)\n",
    "plt.show()"
   ]
  },
  {
   "cell_type": "code",
   "execution_count": null,
   "metadata": {},
   "outputs": [],
   "source": [
    "plt.figure(figsize = (16,6))\n",
    "sns.regplot(x = \"총 검사 수량\",y = \"총 불량 수량\", data = defect_5)\n",
    "plt.show()"
   ]
  },
  {
   "cell_type": "code",
   "execution_count": null,
   "metadata": {
    "scrolled": true
   },
   "outputs": [],
   "source": [
    "sns.boxplot(defect_5[\"Yield(%)\"])\n",
    "plt.show()"
   ]
  },
  {
   "cell_type": "code",
   "execution_count": null,
   "metadata": {},
   "outputs": [],
   "source": [
    "particle_cols = [\"over_0.3_delta\",\"over_0.5_delta\",\"over_1.0_delta\",\"over_5.0_delta\",\"over_0.3_sigma\",\"over_0.5_sigma\",\"over_1.0_sigma\"]"
   ]
  },
  {
   "cell_type": "code",
   "execution_count": null,
   "metadata": {},
   "outputs": [],
   "source": [
    "covered = light_expose_1[light_expose_1[\"over_0.5_sigma\"] < 15000]"
   ]
  },
  {
   "cell_type": "code",
   "execution_count": null,
   "metadata": {},
   "outputs": [],
   "source": [
    "covered.head()"
   ]
  },
  {
   "cell_type": "code",
   "execution_count": null,
   "metadata": {},
   "outputs": [],
   "source": [
    "tmp_df = covered.groupby([\"month\",\"day\",\"hour\",\"minute\"])[particle_cols].mean().reset_index()"
   ]
  },
  {
   "cell_type": "code",
   "execution_count": null,
   "metadata": {},
   "outputs": [],
   "source": [
    "merged_expose_1 = merge_columns(tmp_df)"
   ]
  },
  {
   "cell_type": "code",
   "execution_count": null,
   "metadata": {},
   "outputs": [],
   "source": [
    "defect_1.head()"
   ]
  },
  {
   "cell_type": "code",
   "execution_count": null,
   "metadata": {},
   "outputs": [],
   "source": [
    "plt.figure(figsize = (16,6))\n",
    "sns.lineplot(x='Time', y='over_0.5_sigma', data=merged_expose_1, color='orange',linestyle = '--')\n",
    "plt.show()"
   ]
  },
  {
   "cell_type": "code",
   "execution_count": null,
   "metadata": {},
   "outputs": [],
   "source": [
    "defect_1[\"불량률\"] = defect_1[\"총 불량 수량\"] / defect_1[\"총 검사 수량\"]"
   ]
  },
  {
   "cell_type": "code",
   "execution_count": null,
   "metadata": {},
   "outputs": [],
   "source": [
    "split_date = datetime.datetime(2020,7,1)\n",
    "_,over_df = divide_un_over(merged_expose_1,split_date,\"Time\")"
   ]
  },
  {
   "cell_type": "code",
   "execution_count": null,
   "metadata": {},
   "outputs": [],
   "source": [
    "over_df = over_df[over_df[\"over_0.5_sigma\"] < 98]"
   ]
  },
  {
   "cell_type": "code",
   "execution_count": null,
   "metadata": {},
   "outputs": [],
   "source": [
    "_,defect_over_7_df = divide_un_over(defect_1,split_date,\"일자\")"
   ]
  },
  {
   "cell_type": "code",
   "execution_count": null,
   "metadata": {},
   "outputs": [],
   "source": [
    "split_date_8 = datetime.datetime(2020,8,12)\n",
    "defect_target_df,_ = divide_un_over(defect_over_7_df,split_date_8,\"일자\")"
   ]
  },
  {
   "cell_type": "code",
   "execution_count": null,
   "metadata": {},
   "outputs": [],
   "source": [
    "fig,ax = plt.subplots(figsize = (16,6))\n",
    "sns.lineplot(x='일자', y='불량률', data=defect_target_df, ax=ax)\n",
    "ax2 = ax.twinx()\n",
    "sns.lineplot(x='Time', y='over_0.5_sigma', data=over_df, ax=ax2, color='orange',linestyle = '--')\n",
    "plt.show()"
   ]
  },
  {
   "cell_type": "code",
   "execution_count": null,
   "metadata": {},
   "outputs": [],
   "source": [
    "fig,ax = plt.subplots(figsize = (16,6))\n",
    "sns.lineplot(x='일자', y='오픈', data=defect_target_df, ax=ax)\n",
    "ax2 = ax.twinx()\n",
    "sns.lineplot(x='Time', y='over_0.5_sigma', data=over_df, ax=ax2, color='orange',linestyle = '--')\n",
    "plt.show()"
   ]
  },
  {
   "cell_type": "code",
   "execution_count": null,
   "metadata": {},
   "outputs": [],
   "source": [
    "fig,ax = plt.subplots(figsize = (16,6))\n",
    "sns.lineplot(x='일자', y='쇼트', data=defect_target_df, ax=ax)\n",
    "ax2 = ax.twinx()\n",
    "sns.lineplot(x='Time', y='over_0.5_sigma', data=over_df, ax=ax2, color='orange',linestyle = '--')\n",
    "plt.show()"
   ]
  },
  {
   "cell_type": "code",
   "execution_count": null,
   "metadata": {},
   "outputs": [],
   "source": [
    "sns.lineplot(x = \"hour\",y = \"over_0.3_sigma\",data = light_expose_1_only0.groupby([\"hour\"])[\"over_0.3_sigma\"].count().reset_index())\n",
    "plt.show()"
   ]
  }
 ],
 "metadata": {
  "kernelspec": {
   "display_name": "Python 3",
   "language": "python",
   "name": "python3"
  },
  "language_info": {
   "codemirror_mode": {
    "name": "ipython",
    "version": 3
   },
   "file_extension": ".py",
   "mimetype": "text/x-python",
   "name": "python",
   "nbconvert_exporter": "python",
   "pygments_lexer": "ipython3",
   "version": "3.7.6"
  },
  "toc": {
   "base_numbering": 1,
   "nav_menu": {
    "height": "253px",
    "width": "503px"
   },
   "number_sections": true,
   "sideBar": true,
   "skip_h1_title": false,
   "title_cell": "Table of Contents",
   "title_sidebar": "Contents",
   "toc_cell": false,
   "toc_position": {},
   "toc_section_display": true,
   "toc_window_display": false
  }
 },
 "nbformat": 4,
 "nbformat_minor": 4
}
